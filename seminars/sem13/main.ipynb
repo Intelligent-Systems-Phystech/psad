{
 "cells": [
  {
   "cell_type": "markdown",
   "metadata": {},
   "source": [
    "# Ввведение в байесовскую статистику"
   ]
  },
  {
   "cell_type": "markdown",
   "metadata": {},
   "source": [
    "## Библиотеки"
   ]
  },
  {
   "cell_type": "code",
   "execution_count": null,
   "metadata": {},
   "outputs": [],
   "source": [
    "import numpy as np\n",
    "import pandas as pd\n",
    "\n",
    "import matplotlib.pyplot as plt\n",
    "from matplotlib import animation\n",
    "\n",
    "from IPython.display import HTML\n",
    "\n",
    "\n",
    "from scipy.stats import beta, norm"
   ]
  },
  {
   "cell_type": "markdown",
   "metadata": {},
   "source": [
    "## Сопряженное распределение"
   ]
  },
  {
   "cell_type": "markdown",
   "metadata": {},
   "source": [
    "В чем проблемы данной формулы байеса?\n",
    "$$\n",
    "p\\bigr(w|X\\bigr) = \\frac{p\\bigr(w\\bigr)p\\bigr(X|w\\bigr)}{p\\bigr(X\\bigr)}\n",
    "$$"
   ]
  },
  {
   "cell_type": "markdown",
   "metadata": {},
   "source": [
    "В вычислении можно хитрить, если знать, что апотериорное распределение $p\\bigr(w|X\\bigr)$ принадлежит тому же семейству распределения, что и априорное распределение $p\\bigr(w\\bigr),$ но с другими параметрами.\n",
    "\n",
    "Например (очень часто используемый пример), если известно, что априорное и апостериорное распределения принадлежат нормальному распределению, то тогда много выкладок упрощается и получается элегантное решения задачи машиного обучения.\n",
    "\n",
    "В случае, если семейства априорного и апостериорного распределения совпадают, то тогда, распределение $p\\bigr(w\\bigr)$ называется сопряженным к правдоподобию $p\\bigr(X|w\\bigr).$\n",
    "\n",
    "\n",
    "[В википедии](https://ru.wikipedia.org/w/index.php?title=Сопряжённое_априорное_распределение&stable=1) приведена таблица основных сопряженных распределений."
   ]
  },
  {
   "cell_type": "markdown",
   "metadata": {},
   "source": [
    "Нам понадобится следующие:\n",
    "\n",
    "1. Для Биномиальной функции правдоподобия сопряженным семейством является Бета распределение (не зря мы его уже использовали сегодня:)) )\n",
    "2. Для Нормальной функции правдоподобия сопряженным семеством является Нормальное распределение."
   ]
  },
  {
   "cell_type": "markdown",
   "metadata": {},
   "source": [
    "| Функция правд. | Параметр | Соп. семей | Парам. апр. рас. | Парам. апост. распр.                           |\n",
    "|----------------|----------|------------|------------------|------------------------------------------------|\n",
    "|----------------|----------|------------|------------------|------------------------------------------------|\n",
    "| Биномиальное   | p        | Бета       | $\\alpha, \\beta$  | $\\alpha +\\sum x_i, \\beta + \\sum N_i -\\sum x_i$ |\n",
    "| Нормальное     | $\\mu$    | Нормальное |$\\mu_0,\\sigma^2_0$| $\\left(\\frac{\\mu_0}{\\sigma^2_0} + \\frac{\\sum x_i}{\\sigma^2}\\right)\\cdot\\left(\\frac{1}{\\sigma_0^2} + \\frac{n}{\\sigma^2}\\right)^{-1}$, $\\left(\\frac{1}{\\sigma_0^2} + \\frac{n}{\\sigma^2}\\right)^{-1}$ |"
   ]
  },
  {
   "cell_type": "markdown",
   "metadata": {},
   "source": [
    "## Синтетический пример\n",
    "\n",
    "Рассмотрим монетку только вышедшую из конвеера. "
   ]
  },
  {
   "cell_type": "code",
   "execution_count": null,
   "metadata": {
    "scrolled": true
   },
   "outputs": [],
   "source": [
    "x = np.linspace(0, 1, 100)\n",
    "plt.plot(x, beta(2,2).pdf(x))\n",
    "\n",
    "plt.grid()\n",
    "plt.show()"
   ]
  },
  {
   "cell_type": "markdown",
   "metadata": {},
   "source": [
    "### Случай, когда выпускаются ''честные монетки'' с p=0.5"
   ]
  },
  {
   "cell_type": "code",
   "execution_count": null,
   "metadata": {},
   "outputs": [],
   "source": [
    "P = 0.5\n",
    "\n",
    "def update_plot(frame_number, ns, plot):\n",
    "    rs = np.random.RandomState(42)\n",
    "    X = rs.choice([0,1], size=ns[frame_number], p=[1-P, P])\n",
    "    x = np.linspace(0, 1, 100)\n",
    "    plot[0] = ax.plot(\n",
    "        x, beta(\n",
    "            2 + X.sum(), \n",
    "            2 + ns[frame_number] - X.sum()).pdf(x))\n",
    "\n",
    "fig = plt.figure(figsize=(8.0, 4.0), frameon=False)\n",
    "\n",
    "ax = fig.add_subplot(111)\n",
    "\n",
    "plot = [None, None, None]\n",
    "\n",
    "plt.autoscale(tight=True)\n",
    "fps = 1\n",
    "frn = 100\n",
    "ani = animation.FuncAnimation(\n",
    "    fig, update_plot, frn, fargs=(np.arange(2*frn, step=2), plot), interval=1000/fps, blit=False, )\n",
    "\n",
    "plt.grid()\n",
    "plt.show()"
   ]
  },
  {
   "cell_type": "code",
   "execution_count": null,
   "metadata": {
    "scrolled": false
   },
   "outputs": [],
   "source": [
    "HTML(ani.to_jshtml())"
   ]
  },
  {
   "cell_type": "markdown",
   "metadata": {},
   "source": [
    "### Случай, когда выпускаются ''счастливые монетки'' с p=0.9"
   ]
  },
  {
   "cell_type": "code",
   "execution_count": null,
   "metadata": {},
   "outputs": [],
   "source": [
    "P = 0.9\n",
    "\n",
    "def update_plot(frame_number, ns, plot):\n",
    "    rs = np.random.RandomState(42)\n",
    "    X = rs.choice([0,1], size=ns[frame_number], p=[1-P, P])\n",
    "    x = np.linspace(0, 1, 100)\n",
    "    plot[0] = ax.plot(\n",
    "        x, beta(\n",
    "            2 + X.sum(), \n",
    "            2 + ns[frame_number] - X.sum()).pdf(x))\n",
    "\n",
    "fig = plt.figure(figsize=(8.0, 4.0), frameon=False)\n",
    "\n",
    "ax = fig.add_subplot(111)\n",
    "\n",
    "plot = [None, None, None]\n",
    "\n",
    "plt.autoscale(tight=True)\n",
    "fps = 1\n",
    "frn = 100\n",
    "ani = animation.FuncAnimation(\n",
    "    fig, update_plot, frn, fargs=(np.arange(2*frn, step=2), plot), interval=1000/fps, blit=False, )\n",
    "\n",
    "plt.grid()\n",
    "plt.show()"
   ]
  },
  {
   "cell_type": "code",
   "execution_count": null,
   "metadata": {
    "scrolled": false
   },
   "outputs": [],
   "source": [
    "HTML(ani.to_jshtml())"
   ]
  },
  {
   "cell_type": "markdown",
   "metadata": {},
   "source": [
    "## Модель машинного обучения"
   ]
  },
  {
   "cell_type": "markdown",
   "metadata": {},
   "source": [
    "Рассмотрим синтетические данные сгенерированные следующим образом:\n",
    "$$\n",
    "y = wx + \\varepsilon,\n",
    "$$\n",
    "то есть у нас один параметр, причем $\\varepsilon \\sim \\mathcal{N}\\bigr(0, \\sigma^2\\bigr)$.\n",
    "\n",
    "В качестве априорного распределения расмотрим $p\\bigr(w\\bigr) = \\mathcal{N}\\bigr(0, \\sigma_0^2\\bigr).$\n",
    "Для задачи регресии очевидно, что правдоподобие являтся также из нормального семейства, в нашем случае~$\\mathcal{N}\\bigr(0, \\sigma^2\\bigr).$"
   ]
  },
  {
   "cell_type": "markdown",
   "metadata": {},
   "source": [
    "### Сильно ограниченная модель: $\\sigma_0=0.1$"
   ]
  },
  {
   "cell_type": "code",
   "execution_count": null,
   "metadata": {},
   "outputs": [],
   "source": [
    "sigma = 1\n",
    "sigma_0 = 0.1\n",
    "\n",
    "def update_plot(frame_number, ns, plot):\n",
    "    rs = np.random.RandomState(42)\n",
    "    \n",
    "    X = rs.randn(ns[frame_number])\n",
    "    y = 3*X + rs.randn(ns[frame_number])\n",
    "    \n",
    "    x = np.linspace(-5, 5, 1000)\n",
    "    new_sigma = 1/(1/(sigma_0**2) + (X*X).sum()/(sigma**2))\n",
    "    new_mu = new_sigma*(((X*y).sum())/(sigma**2))\n",
    "    plot[0] = ax.plot(\n",
    "        x, norm(\n",
    "            new_mu, \n",
    "            new_sigma).pdf(x))\n",
    "\n",
    "fig = plt.figure(figsize=(8.0, 4.0), frameon=False)\n",
    "\n",
    "ax = fig.add_subplot(111)\n",
    "\n",
    "plot = [None, None, None]\n",
    "\n",
    "plt.autoscale(tight=True)\n",
    "fps = 1\n",
    "frn = 100\n",
    "ani = animation.FuncAnimation(\n",
    "    fig, update_plot, frn, fargs=(np.arange(2*frn, step=2), plot), interval=1000/fps, blit=False, )\n",
    "\n",
    "plt.grid()\n",
    "plt.show()"
   ]
  },
  {
   "cell_type": "code",
   "execution_count": null,
   "metadata": {},
   "outputs": [],
   "source": [
    "HTML(ani.to_jshtml())"
   ]
  },
  {
   "cell_type": "markdown",
   "metadata": {},
   "source": [
    "### Менее ограниченная модель: $\\sigma_0=1$"
   ]
  },
  {
   "cell_type": "code",
   "execution_count": null,
   "metadata": {},
   "outputs": [],
   "source": [
    "sigma = 1\n",
    "sigma_0 = 1\n",
    "\n",
    "def update_plot(frame_number, ns, plot):\n",
    "    rs = np.random.RandomState(42)\n",
    "    \n",
    "    X = rs.randn(ns[frame_number])\n",
    "    y = 3*X + rs.randn(ns[frame_number])\n",
    "    \n",
    "    x = np.linspace(-5, 5, 1000)\n",
    "    new_sigma = 1/(1/(sigma_0**2) + (X*X).sum()/(sigma**2))\n",
    "    new_mu = new_sigma*(((X*y).sum())/(sigma**2))\n",
    "    plot[0] = ax.plot(\n",
    "        x, norm(\n",
    "            new_mu, \n",
    "            new_sigma).pdf(x))\n",
    "\n",
    "fig = plt.figure(figsize=(8.0, 4.0), frameon=False)\n",
    "\n",
    "ax = fig.add_subplot(111)\n",
    "\n",
    "plot = [None, None, None]\n",
    "\n",
    "plt.autoscale(tight=True)\n",
    "fps = 1\n",
    "frn = 100\n",
    "ani = animation.FuncAnimation(\n",
    "    fig, update_plot, frn, fargs=(np.arange(2*frn, step=2), plot), interval=1000/fps, blit=False, )\n",
    "\n",
    "plt.grid()\n",
    "plt.show()"
   ]
  },
  {
   "cell_type": "code",
   "execution_count": null,
   "metadata": {},
   "outputs": [],
   "source": [
    "HTML(ani.to_jshtml())"
   ]
  },
  {
   "cell_type": "markdown",
   "metadata": {},
   "source": [
    "### Более размазанная модель: $\\sigma=10$"
   ]
  },
  {
   "cell_type": "code",
   "execution_count": null,
   "metadata": {},
   "outputs": [],
   "source": [
    "sigma = 6\n",
    "sigma_0 = 1\n",
    "\n",
    "def update_plot(frame_number, ns, plot):\n",
    "    rs = np.random.RandomState(42)\n",
    "    \n",
    "    X = rs.randn(ns[frame_number])\n",
    "    y = 3*X + rs.randn(ns[frame_number])\n",
    "    \n",
    "    x = np.linspace(-5, 5, 1000)\n",
    "    new_sigma = 1/(1/(sigma_0**2) + (X*X).sum()/(sigma**2))\n",
    "    new_mu = new_sigma*(((X*y).sum())/(sigma**2))\n",
    "    plot[0] = ax.plot(\n",
    "        x, norm(\n",
    "            new_mu, \n",
    "            new_sigma).pdf(x))\n",
    "\n",
    "fig = plt.figure(figsize=(8.0, 4.0), frameon=False)\n",
    "\n",
    "ax = fig.add_subplot(111)\n",
    "\n",
    "plot = [None, None, None]\n",
    "\n",
    "plt.autoscale(tight=True)\n",
    "fps = 1\n",
    "frn = 100\n",
    "ani = animation.FuncAnimation(\n",
    "    fig, update_plot, frn, fargs=(np.arange(3*frn, step=3), plot), interval=1000/fps, blit=False, )\n",
    "\n",
    "plt.grid()\n",
    "plt.show()"
   ]
  },
  {
   "cell_type": "code",
   "execution_count": null,
   "metadata": {},
   "outputs": [],
   "source": [
    "HTML(ani.to_jshtml())"
   ]
  }
 ],
 "metadata": {
  "kernelspec": {
   "display_name": "Python 3",
   "language": "python",
   "name": "python3"
  },
  "language_info": {
   "codemirror_mode": {
    "name": "ipython",
    "version": 3
   },
   "file_extension": ".py",
   "mimetype": "text/x-python",
   "name": "python",
   "nbconvert_exporter": "python",
   "pygments_lexer": "ipython3",
   "version": "3.7.3"
  }
 },
 "nbformat": 4,
 "nbformat_minor": 4
}
