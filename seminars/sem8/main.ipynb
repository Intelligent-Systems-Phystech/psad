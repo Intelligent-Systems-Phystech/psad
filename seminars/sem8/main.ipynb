{
 "cells": [
  {
   "cell_type": "markdown",
   "metadata": {},
   "source": [
    "# Обобщенная регрессия"
   ]
  },
  {
   "cell_type": "markdown",
   "metadata": {},
   "source": [
    "## Библиотеки"
   ]
  },
  {
   "cell_type": "code",
   "execution_count": null,
   "metadata": {},
   "outputs": [],
   "source": [
    "import numpy as np\n",
    "import scipy.stats as st\n",
    "import matplotlib.pylab as plt\n",
    "import seaborn as sns\n",
    "import pandas as pd\n",
    "\n",
    "import statsmodels.api as sm\n",
    "from sklearn.metrics import  auc,  accuracy_score"
   ]
  },
  {
   "cell_type": "markdown",
   "metadata": {},
   "source": [
    "## Число визитов к доктору\n",
    "**Cameron C. A., Trivedi P. K. Regression Analysis of Count Data. Cambridge University Press, 2013.**"
   ]
  },
  {
   "cell_type": "markdown",
   "metadata": {},
   "source": [
    "Изучается функционирование системы здравоохранения Австралии. Для 1500 одиноких совершеннолетних граждан известны значения следующих показателей:\n",
    "\n",
    "* социоэкономические:\n",
    "    * пол\n",
    "    * возраст, лет;\n",
    "    * годовой доход, 10 тыс. долл.;\n",
    "* индикаторы наличия страховки различных типов: \n",
    "    * частной, государственной для малоимущих, государственной для пожилых, инвалидов и ветеранов;\n",
    "* краткосрочные характеристики здоровья:\n",
    "    * число визитов к доктору за последние две недели;\n",
    "    * число заболеваний за последние две недели;\n",
    "    * число дней сниженной активности в связи с заболеванием или травмой за последние две недели;\n",
    "* долгосрочные характеристики здоровья:\n",
    "    * оценка состояния здоровья по опроснику Голдберга;\n",
    "    * индикаторы наличия хронических заболеваний, ограничивающих и не ограничивающих активность.\n",
    "\n",
    "Требуется построить модель числа визитов к доктору в зависимости от остальных признаков."
   ]
  },
  {
   "cell_type": "code",
   "execution_count": null,
   "metadata": {},
   "outputs": [],
   "source": [
    "data = pd.read_csv('data/dvi.txt', delimiter=' ')\n",
    "data.sample(5)"
   ]
  },
  {
   "cell_type": "code",
   "execution_count": null,
   "metadata": {
    "scrolled": true
   },
   "outputs": [],
   "source": [
    "_ = sns.pairplot(data[['DVISITS', 'AGE', 'INCOME', 'ILLNESS', 'ACTDAYS', 'HSCORE', 'FREEPOOR']])"
   ]
  },
  {
   "cell_type": "code",
   "execution_count": null,
   "metadata": {},
   "outputs": [],
   "source": [
    "data['FREEPOOR'].sum()"
   ]
  },
  {
   "cell_type": "markdown",
   "metadata": {},
   "source": [
    "Видим, что в выборке только 59 обладателей государственной страховки для малоимущих, причём только 2 из них когда-либо ходили к врачу. Коэффициент при таком признаке будет определяться неустойчиво. Исключим эти 59 наблюдений и признак."
   ]
  },
  {
   "cell_type": "code",
   "execution_count": null,
   "metadata": {},
   "outputs": [],
   "source": [
    "data2 = data[data['FREEPOOR']==0]\n",
    "data2.shape"
   ]
  },
  {
   "cell_type": "markdown",
   "metadata": {},
   "source": [
    "Стандартная пуассоновская модель:"
   ]
  },
  {
   "cell_type": "code",
   "execution_count": null,
   "metadata": {},
   "outputs": [],
   "source": [
    "model = sm.GLM.from_formula('DVISITS~SEX+ILLNESS+ACTDAYS+INCOME+ILLNESS:ACTDAYS+SEX:ILLNESS', \n",
    "                             data=data2).fit()\n",
    "model.summary2()"
   ]
  },
  {
   "cell_type": "markdown",
   "metadata": {},
   "source": [
    "Показатель overdispersion/underdispersion:  ```chi2 / Df Residuals```"
   ]
  },
  {
   "cell_type": "markdown",
   "metadata": {},
   "source": [
    "Отрицательная биномиальная модель:"
   ]
  },
  {
   "cell_type": "code",
   "execution_count": null,
   "metadata": {},
   "outputs": [],
   "source": [
    "model = sm.GLM.from_formula('DVISITS~SEX+AGE+INCOME+LEVYPLUS+FREEREPA+ILLNESS+ACTDAYS+HSCORE+CHCOND1+CHCOND2',\n",
    "                            data=data2, family=sm.families.NegativeBinomial()).fit()\n",
    "model.summary2()"
   ]
  },
  {
   "cell_type": "markdown",
   "metadata": {},
   "source": [
    "Удалим незначимые признаки:"
   ]
  },
  {
   "cell_type": "code",
   "execution_count": null,
   "metadata": {},
   "outputs": [],
   "source": [
    "model = sm.GLM.from_formula('DVISITS~SEX+ILLNESS+ACTDAYS',\n",
    "                            data=data2, family=sm.families.NegativeBinomial()).fit()\n",
    "model.summary2()"
   ]
  },
  {
   "cell_type": "markdown",
   "metadata": {},
   "source": [
    "Попробуем возвращать по одному удалённые признаки:"
   ]
  },
  {
   "cell_type": "code",
   "execution_count": null,
   "metadata": {},
   "outputs": [],
   "source": [
    "formula = 'DVISITS~SEX+ILLNESS+ACTDAYS+'\n",
    "for p in ['AGE','INCOME','LEVYPLUS','FREEREPA','HSCORE','CHCOND1','CHCOND2']:\n",
    "    model = sm.GLM.from_formula(formula+p, data=data2, family=sm.families.NegativeBinomial()).fit()\n",
    "    print (p, model.bic)"
   ]
  },
  {
   "cell_type": "markdown",
   "metadata": {},
   "source": [
    "Лучше всего модель, в которую возвращён доход:"
   ]
  },
  {
   "cell_type": "code",
   "execution_count": null,
   "metadata": {},
   "outputs": [],
   "source": [
    "model = sm.GLM.from_formula('DVISITS~SEX+ILLNESS+ACTDAYS+INCOME',\n",
    "                            data=data2, family=sm.families.NegativeBinomial()).fit()\n",
    "model.summary2()"
   ]
  },
  {
   "cell_type": "markdown",
   "metadata": {},
   "source": [
    "Ещё раз попробуем возвращать по одному удалённые признаки:"
   ]
  },
  {
   "cell_type": "code",
   "execution_count": null,
   "metadata": {},
   "outputs": [],
   "source": [
    "formula = 'DVISITS~SEX+ILLNESS+ACTDAYS+INCOME+'\n",
    "for p in ['AGE','LEVYPLUS','FREEREPA','HSCORE','CHCOND1','CHCOND2']:\n",
    "    model = sm.GLM.from_formula(formula+p, data=data2, family=sm.families.NegativeBinomial()).fit()\n",
    "    print (p, model.bic)"
   ]
  },
  {
   "cell_type": "markdown",
   "metadata": {},
   "source": [
    "Попробуем добавлять значимые межфакторные взаимодействия:"
   ]
  },
  {
   "cell_type": "code",
   "execution_count": null,
   "metadata": {},
   "outputs": [],
   "source": [
    "formula = 'DVISITS~SEX+ILLNESS+ACTDAYS+INCOME+'\n",
    "features = ['SEX', 'ILLNESS', 'ACTDAYS', 'INCOME']\n",
    "for f1 in range(len(features)):\n",
    "    for f2 in range(f1+1, len(features)): \n",
    "        f1_ = features[f1]\n",
    "        f2_ = features[f2]\n",
    "        model = sm.GLM.from_formula(formula+str(f1_)+':'+str(f2_),\n",
    "                                    data=data2, family=sm.families.NegativeBinomial()).fit()               \n",
    "        for name, p in model.pvalues.items():\n",
    "            if p<0.05 and ':' in name:\n",
    "                print (f1_, f2_, model.bic)\n",
    "                \n",
    "\n"
   ]
  },
  {
   "cell_type": "code",
   "execution_count": null,
   "metadata": {},
   "outputs": [],
   "source": [
    "model = sm.GLM.from_formula('DVISITS~SEX+ILLNESS+ACTDAYS+INCOME+ILLNESS:ACTDAYS', data=data2, family=sm.families.NegativeBinomial()).fit()\n",
    "model.summary2()"
   ]
  },
  {
   "cell_type": "code",
   "execution_count": null,
   "metadata": {},
   "outputs": [],
   "source": [
    "model.wald_test('ILLNESS:ACTDAYS=0')"
   ]
  },
  {
   "cell_type": "code",
   "execution_count": null,
   "metadata": {},
   "outputs": [],
   "source": [
    "model = sm.GLM.from_formula('DVISITS~SEX+ILLNESS+ACTDAYS+INCOME+ILLNESS:ACTDAYS+SEX:ILLNESS', \n",
    "                            data=data2, family=sm.families.NegativeBinomial()).fit()\n",
    "model.summary2()"
   ]
  },
  {
   "cell_type": "markdown",
   "metadata": {},
   "source": [
    "Итоговая модель"
   ]
  },
  {
   "cell_type": "code",
   "execution_count": null,
   "metadata": {},
   "outputs": [],
   "source": [
    "plt.scatter(data2['DVISITS'], model.predict(data2))\n",
    "plt.ylabel('Predicted')\n",
    "st.kendalltau(data2['DVISITS'], model.predict(data2))\n",
    "\n",
    "plt.show()"
   ]
  },
  {
   "cell_type": "markdown",
   "metadata": {},
   "source": [
    "Для сравнения — обычная линейная модель, не учитывающая счётную природу отклика:"
   ]
  },
  {
   "cell_type": "code",
   "execution_count": null,
   "metadata": {},
   "outputs": [],
   "source": [
    "model2 = sm.OLS.from_formula('DVISITS~SEX+ILLNESS+ACTDAYS+INCOME+ILLNESS:ACTDAYS+SEX:ILLNESS', \n",
    "                             data=data2).fit()\n",
    "model2.summary2()"
   ]
  },
  {
   "cell_type": "code",
   "execution_count": null,
   "metadata": {},
   "outputs": [],
   "source": [
    "plt.scatter(data2['DVISITS'], model.predict(data2))\n",
    "plt.ylabel('Predicted')\n",
    "st.kendalltau(data2['DVISITS'], model.predict(data2))\n",
    "\n",
    "plt.show()"
   ]
  },
  {
   "cell_type": "markdown",
   "metadata": {},
   "source": [
    "### Финальная модель"
   ]
  },
  {
   "cell_type": "code",
   "execution_count": null,
   "metadata": {},
   "outputs": [],
   "source": [
    "model = sm.GLM.from_formula('DVISITS~SEX+ILLNESS+ACTDAYS+INCOME+ILLNESS:ACTDAYS+SEX:ILLNESS', \n",
    "                            data=data2, family=sm.families.NegativeBinomial()).fit()\n",
    "model.summary2()"
   ]
  },
  {
   "cell_type": "markdown",
   "metadata": {},
   "source": [
    "Модель позволяет сделать следующие выводы:\n",
    "\n",
    "* При прочих равных женщины обращаются к врачу в 2 раза чаще.\n",
    "* Каждый день сниженной активности без болезни увеличивает число посещений врача в 1.2 раза.\n",
    "* Каждая болезнь без снижения активности увеличивает число посещений врача в 1.3 раза у женщин и 1.6 у мужчин.\n",
    "* При росте на единицу одновременно числа дней сниженной активности и числа заболеваний число визитов к доктору растёт в 1.03 медленнее, чем если бы эти признаки действовали независимо.\n",
    "* Увеличение годового дохода на 10 тыс. долл. снижает среднее число визитов к врачу в 1.4 раза.\n",
    "\n"
   ]
  },
  {
   "cell_type": "markdown",
   "metadata": {},
   "source": [
    "## Риск остеопороза у женщин\n",
    "**Global Longitudinal Study of Osteoporosis in Women (выборка по Hosmer D.W., Lemeshow S., Sturdivant R.X. Applied logistic regression. — Hoboken: John Wiley & Sons, 2013, 1.6.3.)**"
   ]
  },
  {
   "cell_type": "markdown",
   "metadata": {},
   "source": [
    "Для 500 участниц исследования Global Longitudinal Study of Osteoporosis in Women (Center for Outcomes Research, the University of Massachusetts/Worcester) измерены следующие показатели:\n",
    "\n",
    "* возраст, лет (не меньше 55);\n",
    "* вес, кг;\n",
    "* рост, см;\n",
    "* ИМТ, кг/см2;\n",
    "* бинарные признаки: курение, индикатор наступления менопаузы до 45 лет, индикатор необходимости помощи при подъёме из сидячего положения, перелом шейки бедра в прошлом (был/не было), перелом шейки бедра у матери (был/не было);\n",
    "* самостоятельная субъективная оценка вероятности перелома (меньше/такая же/больше, чем у сверстниц).\n",
    "\n",
    "Известно, у кого из участниц в первый год исследования произошёл перелом шейки бедра. Необходимо построить модель вероятности перелома с учётом имеющихся признаков.\n",
    "\n",
    "\n"
   ]
  },
  {
   "cell_type": "code",
   "execution_count": null,
   "metadata": {},
   "outputs": [],
   "source": [
    "data = pd.read_csv('data/GLOW500.txt', delimiter='\\t')\n",
    "data.head()"
   ]
  },
  {
   "cell_type": "code",
   "execution_count": null,
   "metadata": {},
   "outputs": [],
   "source": [
    "_ = sns.pairplot(data, hue='FRACTURE')"
   ]
  },
  {
   "cell_type": "markdown",
   "metadata": {},
   "source": [
    "Проверим разделимость классов по категориальным предикторам:"
   ]
  },
  {
   "cell_type": "code",
   "execution_count": null,
   "metadata": {},
   "outputs": [],
   "source": [
    "predictors = ['SMOKE', 'PREMENO', 'ARMASSIST', 'PRIORFRAC', 'RATERISK']\n",
    "for k in predictors:\n",
    "    print (data.groupby([k, 'FRACTURE']).size(),'\\n\\n')\n",
    "    \n",
    "\n"
   ]
  },
  {
   "cell_type": "markdown",
   "metadata": {},
   "source": [
    "Для предварительного отбора признаков построим одномерные модели по каждому фактору и оценим их значимость:"
   ]
  },
  {
   "cell_type": "code",
   "execution_count": null,
   "metadata": {},
   "outputs": [],
   "source": [
    "predictors = list(data.columns)\n",
    "predictors.remove('FRACTURE')\n",
    "\n",
    "for p in predictors:\n",
    "    model = sm.GLM.from_formula('FRACTURE~'+str(p), data=data, family=sm.families.Binomial()).fit()\n",
    "    print (model.summary2())"
   ]
  },
  {
   "cell_type": "markdown",
   "metadata": {},
   "source": [
    "Многомерная модель со всеми значимыми предикторами:"
   ]
  },
  {
   "cell_type": "code",
   "execution_count": null,
   "metadata": {},
   "outputs": [],
   "source": [
    "model = sm.GLM.from_formula('FRACTURE ~ AGE + HEIGHT + PRIORFRAC + MOMFRAC + ARMASSIST + RATERISK',\n",
    "                            data=data, family=sm.families.Binomial()).fit()\n",
    "model.summary2()"
   ]
  },
  {
   "cell_type": "markdown",
   "metadata": {},
   "source": [
    "Критерий Вальда считает модель существенно лучше константы:"
   ]
  },
  {
   "cell_type": "code",
   "execution_count": null,
   "metadata": {},
   "outputs": [],
   "source": [
    "model.wald_test('AGE=HEIGHT=PRIORFRAC[T.yes]=MOMFRAC[T.yes]=ARMASSIST[T.yes]=RATERISK[T.less]=RATERISK[T.same]=0')"
   ]
  },
  {
   "cell_type": "markdown",
   "metadata": {},
   "source": [
    "Попробуем полностью или частично удалить RATERISK\n"
   ]
  },
  {
   "cell_type": "code",
   "execution_count": null,
   "metadata": {},
   "outputs": [],
   "source": [
    "model.wald_test('RATERISK[T.less]=RATERISK[T.same]=0')"
   ]
  },
  {
   "cell_type": "code",
   "execution_count": null,
   "metadata": {},
   "outputs": [],
   "source": [
    "model.wald_test('RATERISK[T.less]=0')"
   ]
  },
  {
   "cell_type": "markdown",
   "metadata": {},
   "source": [
    "Оставим в модели RATERISKless — модель с ним значимо лучше, чем без него."
   ]
  },
  {
   "cell_type": "markdown",
   "metadata": {},
   "source": [
    "Попробуем возвращать в модель удалённые признаки:\n",
    "\n"
   ]
  },
  {
   "cell_type": "code",
   "execution_count": null,
   "metadata": {},
   "outputs": [],
   "source": [
    "def RATERISKless(x):\n",
    "    return (x=='less')\n",
    "\n",
    "model = sm.GLM.from_formula('FRACTURE ~ AGE + HEIGHT + PRIORFRAC + MOMFRAC + ARMASSIST +  RATERISKless(RATERISK)',\n",
    "                            data=data, family=sm.families.Binomial()).fit()\n",
    "model.summary2()\n",
    "\n",
    "\n"
   ]
  },
  {
   "cell_type": "code",
   "execution_count": null,
   "metadata": {},
   "outputs": [],
   "source": [
    "print ('ORIGINAL', (model.llf))\n",
    "formula = 'FRACTURE ~ AGE + HEIGHT + PRIORFRAC + MOMFRAC + ARMASSIST + RATERISKless(RATERISK)'\n",
    "predictors2 = ['PRIORFRAC','WEIGHT', 'BMI', 'PREMENO', 'SMOKE']\n",
    "for f in predictors2:\n",
    "    formula2 =formula +'+'+f\n",
    "    model2 = sm.GLM.from_formula(formula2,\n",
    "                            data=data, family=sm.families.Binomial()).fit()\n",
    "    print (f, model2.llf)"
   ]
  },
  {
   "cell_type": "markdown",
   "metadata": {},
   "source": [
    "Проверим линейность логита по непрерывным признакам. Сглаженные диаграммы рассеяния: "
   ]
  },
  {
   "cell_type": "code",
   "execution_count": null,
   "metadata": {},
   "outputs": [],
   "source": [
    "probs = model.predict(data)\n",
    "odds = probs/(1-probs)\n",
    "_ = sns.regplot(data['AGE'], np.log(odds), order=2, scatter=True,scatter_kws={'alpha':0.05},line_kws={'alpha':0.9})"
   ]
  },
  {
   "cell_type": "markdown",
   "metadata": {},
   "source": [
    "Попробуем добавить к модели признак AGE ≥ 80:\n",
    "\n"
   ]
  },
  {
   "cell_type": "code",
   "execution_count": null,
   "metadata": {},
   "outputs": [],
   "source": [
    "model2 = sm.GLM.from_formula('FRACTURE ~ AGE + AGE>=80 + HEIGHT + PRIORFRAC + MOMFRAC + ARMASSIST + RATERISKless(RATERISK)',\n",
    "                            data=data, family=sm.families.Binomial()).fit()\n",
    "model2.summary2()\n",
    "\n"
   ]
  },
  {
   "cell_type": "markdown",
   "metadata": {},
   "source": [
    "Ничего лучше линейной модели подобрать не удалось.\n",
    "\n",
    "Рассмотрим теперь все модели, в которые добавлено одно межфакторное взаимодействие:"
   ]
  },
  {
   "cell_type": "code",
   "execution_count": null,
   "metadata": {},
   "outputs": [],
   "source": [
    "formula = 'FRACTURE ~ AGE + HEIGHT + PRIORFRAC + MOMFRAC + ARMASSIST + RATERISKless(RATERISK)'\n",
    "predictors = list(data.columns)\n",
    "predictors.remove('FRACTURE')\n",
    "for f1 in predictors:\n",
    "    for f2 in predictors:\n",
    "        formula2 =formula +'+{0}*{1}'.format(f1,f2)\n",
    "        model2 = sm.GLM.from_formula(formula2,\n",
    "                                data=data, family=sm.families.Binomial()).fit()\n",
    "        for name, p in model2.pvalues.items():\n",
    "            if p<0.05 and ':' in name:\n",
    "                print (name,p)\n",
    "\n"
   ]
  },
  {
   "cell_type": "markdown",
   "metadata": {},
   "source": [
    "Добавим все три межфакторных взаимодействия с p-value на уровне 0.025:"
   ]
  },
  {
   "cell_type": "code",
   "execution_count": null,
   "metadata": {},
   "outputs": [],
   "source": [
    "model3 = sm.GLM.from_formula(\"\"\"FRACTURE ~ AGE + HEIGHT + PRIORFRAC + MOMFRAC + ARMASSIST + RATERISKless(RATERISK) +\n",
    "                             +AGE:PRIORFRAC + MOMFRAC:ARMASSIST\"\"\",\n",
    "                             data=data,  family=sm.families.Binomial()).fit()\n",
    "model3.summary2()"
   ]
  },
  {
   "cell_type": "markdown",
   "metadata": {},
   "source": [
    "Получается значимо лучше.\n",
    "\n",
    "Посмотрим графики качества классификации: "
   ]
  },
  {
   "cell_type": "code",
   "execution_count": null,
   "metadata": {},
   "outputs": [],
   "source": [
    "tp, tn = [],[]\n",
    "fp, fn = [], []\n",
    "labels = (data['FRACTURE']=='no')*1.0\n",
    "probas = model3.predict(data)\n",
    "thresholds = np.arange(0,1.0,0.05)\n",
    "for t in thresholds:\n",
    "    tp_ = (probas[labels==1]>=t)\n",
    "    tn_ = (probas[labels==0]<t)\n",
    "    fp_ = (probas[labels==0]>=t)\n",
    "    fn_ = (probas[labels==1]<t)\n",
    "    \n",
    "    tp.append(tp_)\n",
    "    tn.append(tn_)\n",
    "    fp.append(fp_)\n",
    "    fn.append(fn_)"
   ]
  },
  {
   "cell_type": "code",
   "execution_count": null,
   "metadata": {},
   "outputs": [],
   "source": [
    "plt.plot(list(map(np.mean, fp)), list(map(np.mean, tp)))\n",
    "plt.xlabel('FPR')\n",
    "plt.ylabel('TPR')\n",
    "print(auc(list(map(np.mean, fp)), list(map(np.mean, tp))))\n",
    "\n"
   ]
  },
  {
   "cell_type": "code",
   "execution_count": null,
   "metadata": {},
   "outputs": [],
   "source": [
    "plt.plot(thresholds, list(map(np.mean, tp)),  label='Sensitivity')\n",
    "plt.plot(thresholds, list(map(np.mean, tn)), label='Specificity')\n",
    "plt.legend(loc='best')\n",
    "\n",
    "plt.grid()\n",
    "plt.show()"
   ]
  },
  {
   "cell_type": "code",
   "execution_count": 37,
   "metadata": {},
   "outputs": [
    {
     "data": {
      "image/png": "[encoded data removed]",
      "text/plain": [
       "<Figure size 432x288 with 1 Axes>"
      ]
     },
     "metadata": {
      "needs_background": "light"
     },
     "output_type": "display_data"
    }
   ],
   "source": [
    "plt.plot(thresholds, list(map(np.mean, tp)), label='Recall')\n",
    "\n",
    "prec = [tp_.sum()/(tp_.sum()+fp_.sum()) for tp_, fp_ in zip(tp, fp)]\n",
    "plt.plot(thresholds, prec, label='Precision')\n",
    "\n",
    "plt.legend(loc='best')\n",
    "plt.grid()\n",
    "plt.show()"
   ]
  },
  {
   "cell_type": "markdown",
   "metadata": {},
   "source": [
    "При пороге 0.75 построенная модель обеспечивает чувствительность 0.7 и специфичность 0.7; площадь под ROC-кривой составляет 0.72.`\n",
    "\n",
    "Модель позволяет сделать следующие выводы:\n",
    "\n",
    "* для женщин, с которыми уже случался перелом шейки бедра, риск нового перелома в течение года существенно выше (в 110);\n",
    "* каждые десять лет относительный риск перелома шейки бедра у женщин, с которыми он ещё не происходил, возрастает в 1.8 раз; при этом для женщин, у которых уже был перелом, увеличение возраста не приносит дополнительного значимого увеличения риска перелома (мультипликативный прирост риска за 10 лет 1.01);\n",
    "* при прочих равных для женщин маленького роста риск перелома выше — на каждые 10 сантиметров уменьшения роста приходится увеличение риска перелома в 1.5 раз;\n",
    "* для женщин, у матерей которых не было перелома шейки бедра, неспособность самостоятельно вставать из сидячего положения связана с повышением риска перелома в 1.9 раз;\n",
    "* для женщин, которые способны самостоятельно вставать из сидячего положения, наличие перелома у матери связано с повышением риска перелома в 3.3 раз;\n",
    "* женщины, оценивающие вероятность своего перелома как низкую, действительно при прочих равных имеют шанс перелома ниже в 1.7 раз."
   ]
  }
 ],
 "metadata": {
  "kernelspec": {
   "display_name": "Python 3",
   "language": "python",
   "name": "python3"
  },
  "language_info": {
   "codemirror_mode": {
    "name": "ipython",
    "version": 3
   },
   "file_extension": ".py",
   "mimetype": "text/x-python",
   "name": "python",
   "nbconvert_exporter": "python",
   "pygments_lexer": "ipython3",
   "version": "3.7.3"
  }
 },
 "nbformat": 4,
 "nbformat_minor": 4
}
