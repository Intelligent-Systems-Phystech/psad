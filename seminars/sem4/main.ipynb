{
 "cells": [
  {
   "cell_type": "markdown",
   "metadata": {
    "slideshow": {
     "slide_type": "slide"
    }
   },
   "source": [
    "# Множественное тестирование гипотез"
   ]
  },
  {
   "cell_type": "markdown",
   "metadata": {
    "slideshow": {
     "slide_type": "slide"
    }
   },
   "source": [
    "## Библиотеки"
   ]
  },
  {
   "cell_type": "code",
   "execution_count": null,
   "metadata": {},
   "outputs": [],
   "source": [
    "import numpy as np\n",
    "import pandas as pd\n",
    "import matplotlib.pylab as plt\n",
    "\n",
    "import scipy.stats as st\n",
    "import seaborn as sns\n",
    "\n",
    "# критерий стюдента для независимых выборок\n",
    "from  statsmodels.stats.weightstats import ttest_ind\n",
    "\n",
    "# пакет для работы с множественным тестированием\n",
    "from statsmodels.stats.multitest import multipletests\n",
    "\n",
    "# пакет для проверки множественных гипотез\n",
    "from statsmodels.stats.multitest import multipletests"
   ]
  },
  {
   "cell_type": "markdown",
   "metadata": {
    "slideshow": {
     "slide_type": "slide"
    }
   },
   "source": [
    "## Warmup"
   ]
  },
  {
   "cell_type": "markdown",
   "metadata": {
    "slideshow": {
     "slide_type": "subslide"
    }
   },
   "source": [
    "### Модельный эксперимент"
   ]
  },
  {
   "cell_type": "markdown",
   "metadata": {
    "slideshow": {
     "slide_type": "subslide"
    }
   },
   "source": [
    "#### Постановка\n",
    "**Данные:**\n",
    "\n",
    "$n=20, \\quad m=200, \\quad m_0=150$,\n",
    "\n",
    "$\\mathbf{X}_i \\sim \\mathcal{N}(\\mathbf{0}, \\mathbf{I}), \\quad i=1,\\dots,m_0;$\n",
    "\n",
    "$\\mathbf{X}_i \\sim \\mathcal{N}(\\mathbf{1}, \\mathbf{I}), \\quad i=m_0+1,\\dots,m;$\n",
    "\n",
    "$\\mathbf{X}_i \\in \\mathbb{R}^n.$\n",
    "\n",
    "**Гипотезы:**\n",
    "\n",
    "$H^i_0: \\mathsf{E}\\mathbf{X}_i = 0$;\n",
    "\n",
    "$H^i_1: \\mathsf{E}\\mathbf{X}_i \\neq 0$;\n",
    "\n",
    "\n",
    "**Критерий для проверки:**\n",
    "* одновыборочный t-Критерия Стьюдента."
   ]
  },
  {
   "cell_type": "markdown",
   "metadata": {
    "slideshow": {
     "slide_type": "subslide"
    }
   },
   "source": [
    "#### Генерация данных"
   ]
  },
  {
   "cell_type": "code",
   "execution_count": null,
   "metadata": {
    "slideshow": {
     "slide_type": "fragment"
    }
   },
   "outputs": [],
   "source": [
    "rs = np.random.RandomState(42)\n",
    "\n",
    "alpha = 0.05\n",
    "m = 200\n",
    "m0 = 150\n",
    "n = 20\n",
    "\n",
    "X = rs.randn(m,n)\n",
    "X[m0:]+=1"
   ]
  },
  {
   "cell_type": "markdown",
   "metadata": {
    "slideshow": {
     "slide_type": "subslide"
    }
   },
   "source": [
    "#### Гистограммы"
   ]
  },
  {
   "cell_type": "code",
   "execution_count": null,
   "metadata": {
    "slideshow": {
     "slide_type": "fragment"
    }
   },
   "outputs": [],
   "source": [
    "_ = plt.hist(X[:m0].flatten(), color='r', density=True)\n",
    "_ = plt.hist(X[m0:].flatten(), color='g', alpha=0.5, density=True)"
   ]
  },
  {
   "cell_type": "markdown",
   "metadata": {
    "slideshow": {
     "slide_type": "subslide"
    }
   },
   "source": [
    "#### Эксперимент\n",
    "\n",
    "В качестве статистики использовать функцию ```st.ttest_1samp``` из пакета ```scipy.stats```."
   ]
  },
  {
   "cell_type": "markdown",
   "metadata": {
    "slideshow": {
     "slide_type": "subslide"
    }
   },
   "source": [
    "##### Без поправок"
   ]
  },
  {
   "cell_type": "code",
   "execution_count": null,
   "metadata": {
    "slideshow": {
     "slide_type": "fragment"
    }
   },
   "outputs": [],
   "source": [
    "# zero mean\n",
    "rejected = 0\n",
    "for x in X[:m0]:\n",
    "    ### Ваш код тут ###\n",
    "\n",
    "print ('True: H0; H1 non-accepted:', m0 - rejected)\n",
    "print ('True: H0; H0 rejected:', rejected)\n",
    "\n",
    "# non-zero mean\n",
    "rejected = 0\n",
    "for x in X[m0:]:\n",
    "    ### Ваш код тут ###\n",
    "\n",
    "print ('True: H1; H1 non-accepted:', m-m0 - rejected)\n",
    "print ('True: H1; H0 rejected:', rejected)"
   ]
  },
  {
   "cell_type": "markdown",
   "metadata": {
    "slideshow": {
     "slide_type": "subslide"
    }
   },
   "source": [
    "##### Бонферони (из пакета)"
   ]
  },
  {
   "cell_type": "code",
   "execution_count": null,
   "metadata": {
    "slideshow": {
     "slide_type": "fragment"
    }
   },
   "outputs": [],
   "source": [
    "# zero mean\n",
    "p_values = []\n",
    "for x in X:\n",
    "    ### Ваш код тут ###\n",
    "    p_values.append()\n",
    "\n",
    "rejections = multipletests(p_values, method='bonferroni')[0]\n",
    "\n",
    "print ('True: H0; H1 non-accepted:', m0 - rejections[:m0].sum())\n",
    "print ('True: H0; H1 rejected:',  rejections[:m0].sum())\n",
    "\n",
    "# non-zero mean\n",
    "rejections = multipletests(p_values, method='bonferroni')[0]\n",
    "\n",
    "print ('True: H1;  H1 non-accepted:', m-m0 - rejections[m0:].sum())\n",
    "print ('True: H1;  H1 rejected:',  rejections[m0:].sum())\n",
    "\n"
   ]
  },
  {
   "cell_type": "markdown",
   "metadata": {
    "slideshow": {
     "slide_type": "subslide"
    }
   },
   "source": [
    "##### Бонферони (руками)"
   ]
  },
  {
   "cell_type": "code",
   "execution_count": null,
   "metadata": {
    "slideshow": {
     "slide_type": "fragment"
    }
   },
   "outputs": [],
   "source": [
    "# zero mean\n",
    "rejected = 0\n",
    "for x in X[:m0]:\n",
    "    ### Ваш код тут ###\n",
    "\n",
    "print ('True: H0; H1 non-accepted:', m0 - rejected)\n",
    "print ('True: H0; H0 rejected:', rejected)\n",
    "\n",
    "# non-zero mean\n",
    "rejected = 0\n",
    "for x in X[m0:]:\n",
    "    ### Ваш код тут\n",
    "\n",
    "print ('True: H1; H1 non-accepted:', m-m0 - rejected)\n",
    "print ('True: H1; H0 rejected:', rejected)"
   ]
  },
  {
   "cell_type": "markdown",
   "metadata": {
    "slideshow": {
     "slide_type": "subslide"
    }
   },
   "source": [
    "##### График зависимости мощности для разных поправок"
   ]
  },
  {
   "cell_type": "code",
   "execution_count": null,
   "metadata": {
    "slideshow": {
     "slide_type": "fragment"
    }
   },
   "outputs": [],
   "source": [
    "# no correction\n",
    "plt.plot([0, m - 1], [alpha] * 2, label='No correction')\n",
    "\n",
    "# bonferroni\n",
    "bonferroni = alpha / m\n",
    "plt.plot([0, m - 1], [bonferroni] * 2, label='Bonferroni')\n",
    "\n",
    "# holm\n",
    "holm = alpha / np.arange(m, 0, -1)\n",
    "plt.plot(holm, label='Holm')\n",
    "\n",
    "# sidak\n",
    "sidak = 1 - np.power((1. - alpha),  1. / np.arange(m, 0, -1))\n",
    "plt.plot(sidak, label='Sidak', ls='--')\n",
    "\n",
    "# benjamini-hochberg\n",
    "ecdffactor = np.arange(1, m + 1)/float(m)\n",
    "bh = alpha * ecdffactor\n",
    "plt.plot(range(m), bh, label='Benjamini-Hochberg' )\n",
    "\n",
    "# benjamini-yekutieli \n",
    "cm = np.sum(1. / np.arange(1, m+1)) \n",
    "ecdffactor = ecdffactor / cm\n",
    "by = alpha * ecdffactor\n",
    "plt.plot(range(m), by, label='Benjamini-Yekutieli ' )\n",
    "\n",
    "plt.xlabel('i')\n",
    "plt.ylabel('$a_i$')\n",
    "plt.legend(loc='best')\n",
    "\n",
    "plt.show()"
   ]
  },
  {
   "cell_type": "markdown",
   "metadata": {
    "slideshow": {
     "slide_type": "subslide"
    }
   },
   "source": [
    "##### График модифицированых уровней значимости"
   ]
  },
  {
   "cell_type": "code",
   "execution_count": null,
   "metadata": {
    "slideshow": {
     "slide_type": "fragment"
    }
   },
   "outputs": [],
   "source": [
    "def plot_diff_alpha(p_values, loc_plt=None):\n",
    "    '''\n",
    "    Функция для отрисовки модифицированых, отсортированых \n",
    "    уровней значимости для модельной выборки.\n",
    "    \n",
    "    param: p_values --- список уровней значимости\n",
    "    param: loc_plt --- объект matplotlib.pylab где производится отрисовка\n",
    "    \n",
    "    return: loc_plt --- объект matplotlib.pylab после отрисовки\n",
    "    '''\n",
    "    if loc_plt is None:\n",
    "        return None\n",
    "    argsorted_p = np.argsort(p_values)\n",
    "    false = []\n",
    "    true = []\n",
    "    for i, id in enumerate(argsorted_p):   \n",
    "        if id>m0:\n",
    "            false.append((i, p_values[id]))\n",
    "        else:\n",
    "            true.append((i, p_values[id]))\n",
    "    \n",
    "    loc_plt.scatter(*zip(*true), label='True hypothesis', c='b')\n",
    "    loc_plt.scatter(*zip(*false), label='False hypothesis', c='r')\n",
    "    loc_plt.xlabel('sorted i')\n",
    "    loc_plt.ylabel('$\\hat{p}(i)$')\n",
    "    loc_plt.legend(loc='best')\n",
    "    \n",
    "    return loc_plt"
   ]
  },
  {
   "cell_type": "markdown",
   "metadata": {
    "slideshow": {
     "slide_type": "subslide"
    }
   },
   "source": [
    "##### График модифицированых уровней значимости (без поправок)"
   ]
  },
  {
   "cell_type": "code",
   "execution_count": null,
   "metadata": {
    "slideshow": {
     "slide_type": "fragment"
    }
   },
   "outputs": [],
   "source": [
    "p_values = []\n",
    "for x in X:\n",
    "     p_values.append(st.ttest_1samp(x, 0)[1])\n",
    "        \n",
    "plot_diff_alpha(p_values, loc_plt=plt)\n",
    "plt.show()"
   ]
  },
  {
   "cell_type": "markdown",
   "metadata": {
    "slideshow": {
     "slide_type": "subslide"
    }
   },
   "source": [
    "##### График модифицированых уровней значимости (Bonferroni)"
   ]
  },
  {
   "cell_type": "code",
   "execution_count": null,
   "metadata": {
    "slideshow": {
     "slide_type": "fragment"
    }
   },
   "outputs": [],
   "source": [
    "### Ваш код тут ###\n"
   ]
  },
  {
   "cell_type": "markdown",
   "metadata": {
    "slideshow": {
     "slide_type": "subslide"
    }
   },
   "source": [
    "##### График модифицированых уровней значимости (Holm)"
   ]
  },
  {
   "cell_type": "code",
   "execution_count": null,
   "metadata": {
    "slideshow": {
     "slide_type": "fragment"
    }
   },
   "outputs": [],
   "source": [
    "### Ваш код тут ###\n"
   ]
  },
  {
   "cell_type": "markdown",
   "metadata": {
    "slideshow": {
     "slide_type": "subslide"
    }
   },
   "source": [
    "##### График модифицированых уровней значимости (Holm-Sidak)"
   ]
  },
  {
   "cell_type": "code",
   "execution_count": null,
   "metadata": {
    "slideshow": {
     "slide_type": "fragment"
    }
   },
   "outputs": [],
   "source": [
    "### Ваш код тут ###\n"
   ]
  },
  {
   "cell_type": "markdown",
   "metadata": {
    "slideshow": {
     "slide_type": "subslide"
    }
   },
   "source": [
    "##### График модифицированых уровней значимости (Benjamini-Hochberg)"
   ]
  },
  {
   "cell_type": "code",
   "execution_count": null,
   "metadata": {
    "slideshow": {
     "slide_type": "fragment"
    }
   },
   "outputs": [],
   "source": [
    "### Ваш код тут ###\n"
   ]
  },
  {
   "cell_type": "markdown",
   "metadata": {
    "slideshow": {
     "slide_type": "subslide"
    }
   },
   "source": [
    "##### График модифицированых уровней значимости (Benjamini-Yekutieli)"
   ]
  },
  {
   "cell_type": "code",
   "execution_count": null,
   "metadata": {
    "slideshow": {
     "slide_type": "fragment"
    }
   },
   "outputs": [],
   "source": [
    "### Ваш код тут ###\n"
   ]
  },
  {
   "cell_type": "markdown",
   "metadata": {
    "slideshow": {
     "slide_type": "slide"
    }
   },
   "source": [
    "## Лейкоциты и астма\n",
    "\n",
    "С использованием ДНК-микрочипов были получены анализ изменения генной экспрессии для двух групп детей: больных астмой и здоровых.\n",
    "\n",
    "Источник данных: http://www.ncbi.nlm.nih.gov/sites/GDSbrowser?acc=GDS4896"
   ]
  },
  {
   "cell_type": "markdown",
   "metadata": {
    "slideshow": {
     "slide_type": "subslide"
    }
   },
   "source": [
    "### Рассмотрим сами данные"
   ]
  },
  {
   "cell_type": "code",
   "execution_count": null,
   "metadata": {
    "slideshow": {
     "slide_type": "fragment"
    }
   },
   "outputs": [],
   "source": [
    "data = pd.read_csv('data/expression.csv', delimiter=';')"
   ]
  },
  {
   "cell_type": "code",
   "execution_count": null,
   "metadata": {
    "slideshow": {
     "slide_type": "fragment"
    }
   },
   "outputs": [],
   "source": [
    "data.head(5)"
   ]
  },
  {
   "cell_type": "code",
   "execution_count": null,
   "metadata": {
    "slideshow": {
     "slide_type": "subslide"
    }
   },
   "outputs": [],
   "source": [
    "print('\\t\\t'.join(list(data.columns)))"
   ]
  },
  {
   "cell_type": "markdown",
   "metadata": {
    "slideshow": {
     "slide_type": "subslide"
    }
   },
   "source": [
    "### Эксперимент"
   ]
  },
  {
   "cell_type": "markdown",
   "metadata": {
    "slideshow": {
     "slide_type": "fragment"
    }
   },
   "source": [
    "#### Достигаемые уровни значимости в t-Критерии Стьюдента"
   ]
  },
  {
   "cell_type": "code",
   "execution_count": null,
   "metadata": {
    "slideshow": {
     "slide_type": "subslide"
    }
   },
   "outputs": [],
   "source": [
    "data_np = data.values\n",
    "def get_healthy(i):\n",
    "    '''\n",
    "    Возвращает всех здоровых пациентов для i-го микрочипа\n",
    "    '''\n",
    "    return data_np[i, 2:20]\n",
    "\n",
    "def get_asthma(i):\n",
    "    '''\n",
    "    Возвращает всех больных астмой пациентов для i-го микрочипа\n",
    "    '''\n",
    "    return data_np[i, 39:56]\n",
    "\n",
    "def get_pvalue_t_test(i):\n",
    "    '''\n",
    "    Возвращает p-value для критерия Стьюдента для независимых выборок\n",
    "    '''\n",
    "    ### Ваш код тут ###\n",
    "    return ttest_ind(get_healthy(i), get_asthma(i), usevar='unequal')[1]\n",
    "    \n",
    "p_values = list(map(get_pvalue_t_test, range(data_np.shape[0])))\n",
    "p_values = np.array(p_values)"
   ]
  },
  {
   "cell_type": "markdown",
   "metadata": {
    "slideshow": {
     "slide_type": "subslide"
    }
   },
   "source": [
    "#### Модифицированые уровни значимости"
   ]
  },
  {
   "cell_type": "code",
   "execution_count": null,
   "metadata": {
    "slideshow": {
     "slide_type": "fragment"
    }
   },
   "outputs": [],
   "source": [
    "### Ваш код тут ###\n",
    "\n",
    "### Ваш код тут ###\n"
   ]
  },
  {
   "cell_type": "markdown",
   "metadata": {
    "slideshow": {
     "slide_type": "subslide"
    }
   },
   "source": [
    "#### Распределения исходных и модифицированных достигаемых уровней значимости"
   ]
  },
  {
   "cell_type": "code",
   "execution_count": null,
   "metadata": {
    "slideshow": {
     "slide_type": "fragment"
    }
   },
   "outputs": [],
   "source": [
    "plt.plot(sorted(p_values), label='no correction')\n",
    "\n",
    "plt.plot(sorted(p_holm), label='holm')\n",
    "\n",
    "plt.plot(sorted(p_bh), label='bh')\n",
    "\n",
    "plt.xlabel('sorted i')\n",
    "plt.ylabel('$\\hat{p}(i)$')\n",
    "plt.legend(loc='best')\n",
    "plt.show()"
   ]
  },
  {
   "cell_type": "markdown",
   "metadata": {
    "slideshow": {
     "slide_type": "subslide"
    }
   },
   "source": [
    "#### Количество генов, экспрессия которых статистически значимо отличается при поправке методами Холма и Бенджамини-Хохберга:"
   ]
  },
  {
   "cell_type": "code",
   "execution_count": null,
   "metadata": {},
   "outputs": [],
   "source": [
    "print('Количество генов для которых значимо отличается: {}\\t(no correction)'.format((p_values <= 0.05).sum()))\n",
    "print('Количество генов для которых значимо отличается: {}\\t(holm)'.format((p_holm <= 0.05).sum()))\n",
    "print('Количество генов для которых значимо отличается: {}\\t(bh)'.format((p_bh <= 0.05).sum()))"
   ]
  },
  {
   "cell_type": "markdown",
   "metadata": {
    "slideshow": {
     "slide_type": "subslide"
    }
   },
   "source": [
    "### На микрочипах есть много проб к малоизученным участкам генома, у которых даже нет названия; их можно сразу удалить из рассмотрения (Эксперимент 2)"
   ]
  },
  {
   "cell_type": "code",
   "execution_count": null,
   "metadata": {
    "slideshow": {
     "slide_type": "fragment"
    }
   },
   "outputs": [],
   "source": [
    "reduced_data = data[data['Gene title'].isnull() == False]\n",
    "reduced_data.shape, data.shape"
   ]
  },
  {
   "cell_type": "markdown",
   "metadata": {
    "slideshow": {
     "slide_type": "subslide"
    }
   },
   "source": [
    "#### Рассмотрим как изменились уровни значимости"
   ]
  },
  {
   "cell_type": "code",
   "execution_count": null,
   "metadata": {
    "slideshow": {
     "slide_type": "fragment"
    }
   },
   "outputs": [],
   "source": [
    "data_np = reduced_data.values\n",
    "\n",
    "### Ваш код тут ###\n"
   ]
  },
  {
   "cell_type": "code",
   "execution_count": null,
   "metadata": {
    "slideshow": {
     "slide_type": "fragment"
    }
   },
   "outputs": [],
   "source": [
    "### Ваш код тут ###\n",
    "\n",
    "### Ваш код тут ###\n"
   ]
  },
  {
   "cell_type": "code",
   "execution_count": null,
   "metadata": {
    "slideshow": {
     "slide_type": "subslide"
    }
   },
   "outputs": [],
   "source": [
    "plt.plot(sorted(p_values), label='no correction')\n",
    "\n",
    "plt.plot(sorted(p_holm), label='holm')\n",
    "\n",
    "plt.plot(sorted(p_bh), label='bh')\n",
    "\n",
    "plt.xlabel('sorted i')\n",
    "plt.ylabel('$\\hat{p}(i)$')\n",
    "plt.legend(loc='best')\n",
    "plt.show()"
   ]
  },
  {
   "cell_type": "code",
   "execution_count": null,
   "metadata": {
    "slideshow": {
     "slide_type": "subslide"
    }
   },
   "outputs": [],
   "source": [
    "print('Количество генов для которых значимо отличается: {}\\t(no correction)'.format((p_values <= 0.05).sum()))\n",
    "print('Количество генов для которых значимо отличается: {}\\t(holm)'.format((p_holm <= 0.05).sum()))\n",
    "print('Количество генов для которых значимо отличается: {}\\t(bh)'.format((p_bh <= 0.05).sum()))"
   ]
  },
  {
   "cell_type": "markdown",
   "metadata": {
    "slideshow": {
     "slide_type": "slide"
    }
   },
   "source": [
    "## Сравнение качества классификаторов\n",
    "\n",
    "Дано: AUC различных версий алгоритма C4.5, посчитанный на 15 датасетах.\n",
    "\n",
    "**Demsar J. (2006). Statistical Comparisons of Classifiers over Multiple Data Sets. Journal of Machine Learning Research, 7, 1–30.**"
   ]
  },
  {
   "cell_type": "markdown",
   "metadata": {
    "slideshow": {
     "slide_type": "subslide"
    }
   },
   "source": [
    "### Рассмотрим данные"
   ]
  },
  {
   "cell_type": "code",
   "execution_count": null,
   "metadata": {
    "slideshow": {
     "slide_type": "fragment"
    }
   },
   "outputs": [],
   "source": [
    "data = pd.read_csv('data/auc.txt', delimiter='\\t')"
   ]
  },
  {
   "cell_type": "code",
   "execution_count": null,
   "metadata": {
    "slideshow": {
     "slide_type": "fragment"
    }
   },
   "outputs": [],
   "source": [
    "data.head(5)"
   ]
  },
  {
   "cell_type": "markdown",
   "metadata": {
    "slideshow": {
     "slide_type": "subslide"
    }
   },
   "source": [
    "### Эксперимент\n",
    "\n",
    "Между какими из версий есть значимые различия?\n",
    "\n",
    "Сравним все значения критерия качества попарно с помощью критерия знаковых рангов Уилкоксона (```st.wilcoxon```):"
   ]
  },
  {
   "cell_type": "code",
   "execution_count": null,
   "metadata": {
    "slideshow": {
     "slide_type": "subslide"
    }
   },
   "outputs": [],
   "source": [
    "p_values= []\n",
    "for i in range(1, 5):\n",
    "    for j in range(i+1, 5):\n",
    "        test_result = ### Ваш код тут ###\n",
    "        p_values += [test_result[1]]        \n",
    "        print(data.columns[i],data.columns[j], p_values[-1])\n",
    "                                                                  "
   ]
  },
  {
   "cell_type": "markdown",
   "metadata": {
    "slideshow": {
     "slide_type": "subslide"
    }
   },
   "source": [
    "### Разные поправки"
   ]
  },
  {
   "cell_type": "code",
   "execution_count": null,
   "metadata": {},
   "outputs": [],
   "source": [
    "for k in ['bonferroni', 'holm', 'fdr_bh', 'fdr_by']:\n",
    "    ### Ваш код тут ###"
   ]
  }
 ],
 "metadata": {
  "celltoolbar": "Slideshow",
  "kernelspec": {
   "display_name": "Python 3",
   "language": "python",
   "name": "python3"
  },
  "language_info": {
   "codemirror_mode": {
    "name": "ipython",
    "version": 3
   },
   "file_extension": ".py",
   "mimetype": "text/x-python",
   "name": "python",
   "nbconvert_exporter": "python",
   "pygments_lexer": "ipython3",
   "version": "3.7.3"
  }
 },
 "nbformat": 4,
 "nbformat_minor": 4
}
