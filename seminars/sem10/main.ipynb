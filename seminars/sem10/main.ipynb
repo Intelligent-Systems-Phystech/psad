{
  "cells": [
    {
      "cell_type": "markdown",
      "metadata": {
        "id": "m7epQnWcTUBu"
      },
      "source": [
        "# Последовательный анализ"
      ]
    },
    {
      "cell_type": "code",
      "source": [
        "!python3 -m pip install sprt"
      ],
      "metadata": {
        "id": "he2vG-yTWS2q"
      },
      "execution_count": null,
      "outputs": []
    },
    {
      "cell_type": "markdown",
      "metadata": {
        "id": "avEgL2jcTUD4"
      },
      "source": [
        "## Библиотеки"
      ]
    },
    {
      "cell_type": "code",
      "execution_count": null,
      "metadata": {
        "id": "iLjw0CchTUE9"
      },
      "outputs": [],
      "source": [
        "import numpy as np\n",
        "import sprt\n",
        "import scipy.stats as st\n",
        "from statsmodels.stats.proportion import proportions_ztest\n",
        "\n",
        "import matplotlib.pyplot as plt"
      ]
    },
    {
      "cell_type": "markdown",
      "metadata": {
        "id": "KvmwqSRDTUFE"
      },
      "source": [
        "## Warmup"
      ]
    },
    {
      "cell_type": "markdown",
      "metadata": {
        "id": "kIXZ2SR2TUFF"
      },
      "source": [
        "### Генерация данных"
      ]
    },
    {
      "cell_type": "markdown",
      "metadata": {
        "id": "Vnq9oeAcTUFF"
      },
      "source": [
        "- $p_L$ - нижняя граница\n",
        "- $p_U$ - верхняя граница\n",
        "- $\\alpha$ - уровень значимости, допускаемая вероятность ошибки первого рода: отвергнуть верную $H_0$ (при $p \\le p_L$)\n",
        "- $\\beta$ - допускаемая вероятность ошибки второго рода: принять неверную $H_0$ (при $p \\ge p_U$)"
      ]
    },
    {
      "cell_type": "code",
      "execution_count": null,
      "metadata": {
        "id": "KtLRJQOTTUFI"
      },
      "outputs": [],
      "source": [
        "pl = 0.45\n",
        "pu = 0.55\n",
        "alpha = beta = 0.05\n",
        "A = (1 - beta) / alpha\n",
        "B = beta / (1 - alpha)\n",
        "\n",
        "def a_m(m):\n",
        "    return (np.log(B) + m * np.log((1 - pl) / (1 - pu))) / (np.log(pu / pl) - np.log((1 - pu) / (1 - pl)))\n",
        "\n",
        "def r_m(m):\n",
        "    return (np.log(A) + m * np.log((1 - pl) / (1 - pu))) / (np.log(pu / pl) - np.log((1 - pu) / (1 -pl)))"
      ]
    },
    {
      "cell_type": "code",
      "execution_count": null,
      "metadata": {
        "id": "_lysXXhbTUFR"
      },
      "outputs": [],
      "source": [
        "plt.plot(range(100), [a_m(i) for i in range(100)], label='accept', color='red')\n",
        "plt.plot(range(100), [r_m(i) for i in range(100)], label='reject', color='green')\n",
        "plt.xlabel('m')\n",
        "plt.ylabel('$d_m$')\n",
        "plt.legend(loc='best')\n",
        "\n",
        "plt.title('Regection and acceptance lines')\n",
        "\n",
        "plt.show()"
      ]
    },
    {
      "cell_type": "markdown",
      "metadata": {
        "id": "q18uXefjTUFU"
      },
      "source": [
        "### Z-критерий меток для доли (лекция 2: параметрические гипотезы) и последовательный анализ для проверки $p$"
      ]
    },
    {
      "cell_type": "markdown",
      "metadata": {
        "id": "m6U5bfpDTUFY"
      },
      "source": [
        "Сравним результаты последовательного анализа и z-теста меток для доли\n",
        "\n",
        "Последовательный анализ:\n",
        "\n",
        "$H_0:\\ p \\le p_L$ \n",
        "\n",
        "$H_1:\\ p \\ge p_U$\n",
        "\n",
        "Критерий меток доли (левосторонняя альтернатива):\n",
        "\n",
        "$H_0:\\ p = p_0$ \n",
        "\n",
        "$H_1:\\ p < p_0$"
      ]
    },
    {
      "cell_type": "markdown",
      "metadata": {
        "id": "7ji-KMvATUFZ"
      },
      "source": [
        "#### Генерация данных ($Ber(p)$) и проверка z-критерием меток"
      ]
    },
    {
      "cell_type": "code",
      "execution_count": null,
      "metadata": {
        "id": "EkwZWRNDTUFZ"
      },
      "outputs": [],
      "source": [
        "def generate_and_test(real_p, test_func, maxm=500, seed=42):\n",
        "    \"\"\"\n",
        "    Генерация выборки из бернуллиевских величин, генерация останавливается, когда при последовательном анализе мы отвергаем\n",
        "    или принимаем H_0 и одновременно то же делает z-test\n",
        "    :param real_p - p\n",
        "    :param test_func - функция для проверки z-теста, возвращает p-value\n",
        "    :param maxm - максимальный размер выборки\n",
        "    :return полученная выборка, массив p-value, номер первой итерации, где график вышел за пределы полосы\n",
        "    \"\"\"\n",
        "    rs = np.random.RandomState(seed)\n",
        "    sample = []\n",
        "    pvals = []\n",
        "    m = 0\n",
        "    test_iter_num = -1 # номер итерации, где отвергается гипотеза по z-тесту\n",
        "    iter_num = -1 # номер итерации, где мы выходим за пределы области безразличия (между двумя accept и reject)\n",
        "    while m < maxm and (iter_num < 0 or test_iter_num < 0):\n",
        "        m += 1\n",
        "        x = rs.uniform() <= real_p\n",
        "        sample += [x]\n",
        "        pvals.append(test_func(sample))\n",
        "        if iter_num < 0 and (np.sum(sample) <= a_m(m) or np.sum(sample) >= r_m(m)):\n",
        "            iter_num = m\n",
        "            \n",
        "        if pvals[-1] < 0.05:\n",
        "            test_iter_num = m\n",
        "\n",
        "    return sample, pvals, iter_num"
      ]
    },
    {
      "cell_type": "code",
      "execution_count": null,
      "metadata": {
        "id": "_P2tolR2TUFi"
      },
      "outputs": [],
      "source": [
        "def plot_seq_ztest_results(sample, bin_test):\n",
        "    max_l = len(sample)\n",
        "    fig = plt.figure(figsize=(15, 5))\n",
        "    ax1 = fig.add_subplot(121)\n",
        "    ax1.plot(np.cumsum(sample), label='actual d_m')\n",
        "    ax1.plot(range(max_l), [a_m(i) for i in range(max_l)], label='accept', color='green')\n",
        "    ax1.plot(range(max_l), [r_m(i) for i in range(max_l)], label='reject', color='red')\n",
        "    ax1.legend(loc='best')\n",
        "    ax1.set_xlabel('m')\n",
        "    ax1.set_ylabel('$d_m$')\n",
        "    ax1.set_title('Sequential analysis')\n",
        "\n",
        "    ax2 = fig.add_subplot(122)\n",
        "    ax2.plot([0, 250], [0.05, 0.05])\n",
        "    ax2.plot(bin_test)\n",
        "    ax2.set_xlabel('m')\n",
        "    ax2.set_ylabel('p-value')\n",
        "    ax2.set_title('Z-tests')"
      ]
    },
    {
      "cell_type": "markdown",
      "metadata": {
        "id": "lkZ4_7ATTUFk"
      },
      "source": [
        "#### $p=0.4$"
      ]
    },
    {
      "cell_type": "code",
      "execution_count": null,
      "metadata": {
        "id": "EBKFRod1TUFm"
      },
      "outputs": [],
      "source": [
        "sample, bin_test, _ = generate_and_test(0.4, test_func=lambda x: proportions_ztest(np.sum(x), len(x), 0.5, 'smaller')[1])\n",
        "plot_seq_ztest_results(sample, bin_test)"
      ]
    },
    {
      "cell_type": "markdown",
      "metadata": {
        "id": "y9z2iS1HTUFn"
      },
      "source": [
        "#### $p=0.6$"
      ]
    },
    {
      "cell_type": "code",
      "execution_count": null,
      "metadata": {
        "id": "4Z7lMD81TUFp"
      },
      "outputs": [],
      "source": [
        "sample, bin_test, _ = generate_and_test(0.6, test_func=lambda x: proportions_ztest(np.sum(x), len(x), 0.5, 'smaller')[1])\n",
        "plot_seq_ztest_results(sample, bin_test)"
      ]
    },
    {
      "cell_type": "markdown",
      "metadata": {
        "id": "df4hxSZGTUFp"
      },
      "source": [
        "#### $p=0.5$"
      ]
    },
    {
      "cell_type": "code",
      "execution_count": null,
      "metadata": {
        "id": "AFGReuq0TUFq"
      },
      "outputs": [],
      "source": [
        "sample, bin_test, _ = generate_and_test(0.5, test_func=lambda x: proportions_ztest(np.sum(x), len(x), 0.5, 'smaller')[1], maxm=1000)\n",
        "plot_seq_ztest_results(sample, bin_test)"
      ]
    },
    {
      "cell_type": "markdown",
      "metadata": {
        "id": "eKJ5nHzJTUFq"
      },
      "source": [
        "#### Рассмотрим разный random_state"
      ]
    },
    {
      "cell_type": "code",
      "execution_count": null,
      "metadata": {
        "id": "uSRtMSxMTUFr"
      },
      "outputs": [],
      "source": [
        "max_l = 0\n",
        "bin_tests = []\n",
        "iter_nums = []\n",
        "for i in range(30):\n",
        "    sample_, bin_test, iter_num = generate_and_test(0.4, seed=i, test_func=lambda x: proportions_ztest(np.sum(x), len(x), 0.5, 'smaller' )[1])\n",
        "    max_l_ = len(sample_)\n",
        "    max_l = max(max_l_, max_l)\n",
        "    iter_nums.append(iter_num)\n",
        "    bin_tests.append(bin_test)\n",
        "print(max_l)\n",
        "\n",
        "plt.figure(figsize=(15, 5))\n",
        "for t in bin_tests:\n",
        "    plt.plot(t)        \n",
        "plt.xlabel('m')\n",
        "plt.ylabel('p-value', fontdict={'size': 15})"
      ]
    },
    {
      "cell_type": "markdown",
      "metadata": {
        "id": "CMuKfrBFTUFt"
      },
      "source": [
        "#### Разница в размерах итоговых выборок"
      ]
    },
    {
      "cell_type": "code",
      "execution_count": null,
      "metadata": {
        "id": "wxLo6LRgTUFt"
      },
      "outputs": [],
      "source": [
        "min_num = []\n",
        "for p in bin_tests:\n",
        "    min_num.append(np.where(np.array(p) <= 0.05)[0][0])\n",
        "min_num = np.array(min_num)\n",
        "plt.hist(np.array(iter_nums), bins=30)\n",
        "\n",
        "plt.show()"
      ]
    },
    {
      "cell_type": "markdown",
      "metadata": {
        "id": "J2p5Q74LTUFy"
      },
      "source": [
        "#### Последовательный тест Вальда из коробки\n",
        "- $h_0 == H_0$ \n",
        "- $h_1 == H_1$"
      ]
    },
    {
      "cell_type": "code",
      "execution_count": null,
      "metadata": {
        "id": "opxqVqk0TUF1"
      },
      "outputs": [],
      "source": [
        "rs = np.random.RandomState(42)\n",
        "values = rs.uniform(size=500) <= 0.5\n",
        "test = sprt.SPRTBinomial(alpha=alpha, beta=beta, h0=0.45, h1=0.55, values=values)\n",
        "test.plot()\n",
        "\n",
        "plt.show()"
      ]
    },
    {
      "cell_type": "markdown",
      "metadata": {
        "id": "R1Xp4mBsTUF3"
      },
      "source": [
        "## Метилфенидат и синдром дефицита внимания"
      ]
    },
    {
      "cell_type": "markdown",
      "metadata": {
        "id": "xIXeG9iITUF4"
      },
      "source": [
        "24 умственно отсталых ребёнка с СДВГ в течение недели принимали либо метилфенидат, либо плацебо, а в конце недели проходили тест на способность к подавлению импульсивных поведенческих реакций. На втором этапе плацебо и препарат менялись, после недельного курса каждый испытуемые проходили второй тест.\n",
        "\n",
        "Каков эффект препарата?"
      ]
    },
    {
      "cell_type": "markdown",
      "metadata": {
        "id": "agg3M3YbTUF5"
      },
      "source": [
        "### Данные"
      ]
    },
    {
      "cell_type": "code",
      "execution_count": null,
      "metadata": {
        "id": "k0yev7V8TUF6"
      },
      "outputs": [],
      "source": [
        "att = np.loadtxt('https://raw.githubusercontent.com/Intelligent-Systems-Phystech/psad/master/seminars/sem10/data/ADHD.txt', delimiter=' ', skiprows=1)\n",
        "\n",
        "\n",
        "plt.scatter(att[:, 0], att[:, 1])\n",
        "plt.xlabel('Placebo')\n",
        "plt.ylabel('Methylphenidate')\n",
        "_ = plt.plot([min(att[:,0]), max(att[:,0])], [min(att[:, 1]), max(att[:, 1])])"
      ]
    },
    {
      "cell_type": "markdown",
      "metadata": {
        "id": "55CHR1fVTUF6"
      },
      "source": [
        "### Нормальность дельт"
      ]
    },
    {
      "cell_type": "code",
      "execution_count": null,
      "metadata": {
        "id": "O4CIsktvTUF7"
      },
      "outputs": [],
      "source": [
        "deltas = att[:, 1] - att[:, 0]\n",
        "plt.hist(deltas)\n",
        "_ = plt.title('Deltas histogram')"
      ]
    },
    {
      "cell_type": "code",
      "execution_count": null,
      "metadata": {
        "id": "u0Js6-eyTUF7"
      },
      "outputs": [],
      "source": [
        "st.shapiro(deltas)"
      ]
    },
    {
      "cell_type": "markdown",
      "metadata": {
        "id": "M7hBVX6-TUGE"
      },
      "source": [
        "### Последовательный анализ Вальда для нормального распределенияи"
      ]
    },
    {
      "cell_type": "markdown",
      "metadata": {
        "id": "HndviLeOTUGE"
      },
      "source": [
        "Рассмотрим, как меняется коридор безразличия при изменении $\\alpha$ и $\\beta$ (предполагаем, что дисперсия известна, так как иначе это будет t-тест, а не z-тест)."
      ]
    },
    {
      "cell_type": "markdown",
      "metadata": {
        "id": "mz5VZmQkTUGJ"
      },
      "source": [
        "$H_0: \\mu \\le \\mu_L$\n",
        "\n",
        "$H_1: \\mu \\ge \\mu_U$"
      ]
    },
    {
      "cell_type": "markdown",
      "metadata": {
        "id": "Li6qj5hhTUGK"
      },
      "source": [
        "- $p_L$ - нижняя граница\n",
        "- $p_U$ - верхняя граница\n",
        "- $\\alpha$ - уровень значимости, допускаемая вероятность ошибки первого рода: отвергнуть верную $H_0$ (при $p \\le p_L$)\n",
        "- $\\beta$ - допускаемая вероятность ошибки второго рода: принять неверную $H_0$ (при $p \\ge p_U$)"
      ]
    },
    {
      "cell_type": "code",
      "execution_count": null,
      "metadata": {
        "id": "SGY8d15FTUGM"
      },
      "outputs": [],
      "source": [
        "mean = np.mean(deltas)\n",
        "var = np.std(deltas, ddof=1)**2"
      ]
    },
    {
      "cell_type": "code",
      "execution_count": null,
      "metadata": {
        "id": "btWbQ9KWTUGQ"
      },
      "outputs": [],
      "source": [
        "test = sprt.SPRTNormal(alpha=0.05, beta=0.05, h0=mean / 3,  h1=2 * mean / 3, values=deltas, variance=var)\n",
        "test.plot()"
      ]
    },
    {
      "cell_type": "code",
      "execution_count": null,
      "metadata": {
        "id": "0vLvz0J9TUGR"
      },
      "outputs": [],
      "source": [
        "test = sprt.SPRTNormal(alpha=0.15, beta=0.05, h0=mean / 3,  h1=2 * mean / 3, values=deltas, variance=var)\n",
        "test.plot()"
      ]
    },
    {
      "cell_type": "code",
      "execution_count": null,
      "metadata": {
        "id": "Wp-qFkctTUGT"
      },
      "outputs": [],
      "source": [
        "test = sprt.SPRTNormal(alpha=0.05, beta=0.15, h0=mean / 3,  h1=2 * mean / 3, values=deltas, variance=var)\n",
        "test.plot()"
      ]
    },
    {
      "cell_type": "code",
      "execution_count": null,
      "metadata": {
        "id": "9TtmNi4PTUGT"
      },
      "outputs": [],
      "source": [
        "test = sprt.SPRTNormal(alpha=0.05, beta=0.05, h0=mean-mean / 1.5,  h1=mean+mean/1.5, values=deltas, variance=var)\n",
        "test.plot()"
      ]
    }
  ],
  "metadata": {
    "kernelspec": {
      "display_name": "Python 3",
      "language": "python",
      "name": "python3"
    },
    "language_info": {
      "codemirror_mode": {
        "name": "ipython",
        "version": 3
      },
      "file_extension": ".py",
      "mimetype": "text/x-python",
      "name": "python",
      "nbconvert_exporter": "python",
      "pygments_lexer": "ipython3",
      "version": "3.7.3"
    },
    "colab": {
      "name": "main.ipynb",
      "provenance": []
    }
  },
  "nbformat": 4,
  "nbformat_minor": 0
}