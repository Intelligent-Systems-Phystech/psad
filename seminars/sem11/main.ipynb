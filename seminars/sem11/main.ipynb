{
  "cells": [
    {
      "cell_type": "markdown",
      "metadata": {
        "id": "g85Vj6EZbZ0V"
      },
      "source": [
        "# Причиность"
      ]
    },
    {
      "cell_type": "code",
      "source": [
        "import warnings\n",
        "warnings.filterwarnings(\"ignore\")\n",
        "\n",
        "try:\n",
        "    import google.colab\n",
        "    IN_COLAB = True\n",
        "except:\n",
        "    IN_COLAB = False\n",
        "\n",
        "if IN_COLAB:\n",
        "    !wget -q -O requirements.txt https://raw.githubusercontent.com/Intelligent-Systems-Phystech/psad/master/seminars/sem11/requirements.txt\n",
        "    !pip install -qU -r requirements.txt\n",
        "    !pip install -qU matplotlib==2.2.3"
      ],
      "metadata": {
        "id": "aR1pINW-bpqr"
      },
      "execution_count": null,
      "outputs": []
    },
    {
      "cell_type": "markdown",
      "metadata": {
        "id": "wDFn3y4VbZ0b"
      },
      "source": [
        "## Библиотеки"
      ]
    },
    {
      "cell_type": "code",
      "execution_count": null,
      "metadata": {
        "id": "Jst96y3fbZ0b"
      },
      "outputs": [],
      "source": [
        "import numpy as np\n",
        "import networkx as nx\n",
        "import matplotlib.pyplot as plt\n",
        "\n",
        "from statsmodels.regression.linear_model import OLS\n",
        "import statsmodels.api as sm\n",
        "\n",
        "import pandas as pd\n",
        "import seaborn as sns\n",
        "\n",
        "from causality.estimation.adjustments import AdjustForDirectCauses\n",
        "from causality.estimation.nonparametric import CausalEffect\n",
        "from causality.inference.search import IC\n",
        "from causality.inference.independence_tests import MutualInformationTest\n",
        "from causalgraphicalmodels import CausalGraphicalModel\n",
        "\n",
        "import dowhy\n",
        "from dowhy import CausalModel"
      ]
    },
    {
      "cell_type": "markdown",
      "metadata": {
        "id": "r0wEVxktbZ0d"
      },
      "source": [
        "## Warmup"
      ]
    },
    {
      "cell_type": "markdown",
      "metadata": {
        "id": "ly82uu0PbZ0e"
      },
      "source": [
        "### Связь в линейной регрессии"
      ]
    },
    {
      "cell_type": "markdown",
      "metadata": {
        "id": "1wAa8-WEbZ0e"
      },
      "source": [
        "#### Fork\n",
        "\n",
        "Смоделируем зависимости,соответствующие типу Fork.\n",
        "\n",
        "Заметим, что здесь есть только одна переменная, которая является экзогенной (Z), то есть она не зависит ни от какой другой переменной в системе (не зависит от X, Y, эндогенных переменных).\n",
        "\n",
        "$$Z->X, Z->Y, X->Y$$"
      ]
    },
    {
      "cell_type": "markdown",
      "metadata": {
        "id": "E1wlcB9mbZ0f"
      },
      "source": [
        "![title](https://github.com/Intelligent-Systems-Phystech/psad/blob/master/seminars/sem11/data/fork.png?raw=1)"
      ]
    },
    {
      "cell_type": "code",
      "execution_count": null,
      "metadata": {
        "id": "o0yxURkFbZ0g"
      },
      "outputs": [],
      "source": [
        "rs = np.random.RandomState(42)\n",
        "N = 10000\n",
        "Z = rs.randn(10000)\n",
        "X = 0.5 * Z + rs.randn(10000)\n",
        "Y = 0.3 * Z + 0.4 * X + rs.randn(10000)"
      ]
    },
    {
      "cell_type": "markdown",
      "metadata": {
        "id": "z7yX3pTDbZ0h"
      },
      "source": [
        "Построим разные регрессии регрессии Y ~ X, Y ~ Z + X, Y ~ Z. Что можно сказать о 95% доверительном интервале (confint) на коэффициент регрессии перед X в двух этих моделях?"
      ]
    },
    {
      "cell_type": "code",
      "execution_count": null,
      "metadata": {
        "id": "E7aw43RpbZ0h"
      },
      "outputs": [],
      "source": [
        "l1 = OLS(Y, np.vstack([X]).T).fit()\n",
        "l1.summary()"
      ]
    },
    {
      "cell_type": "code",
      "execution_count": null,
      "metadata": {
        "id": "WpyL3UvubZ0j"
      },
      "outputs": [],
      "source": [
        "l1 = OLS(Y, np.vstack([X, Z]).T).fit()\n",
        "l1.summary()"
      ]
    },
    {
      "cell_type": "code",
      "execution_count": null,
      "metadata": {
        "id": "SLHORBudbZ0k"
      },
      "outputs": [],
      "source": [
        "l1 = OLS(Y, np.vstack([Z]).T).fit()\n",
        "l1.summary()"
      ]
    },
    {
      "cell_type": "markdown",
      "metadata": {
        "id": "M2wXCyqJbZ0l"
      },
      "source": [
        "### Collider\n",
        "\n",
        "Рассмотрим collider:\n",
        "```\n",
        "X -> Z\n",
        "X -> Y\n",
        "Y -> Z\n",
        "```"
      ]
    },
    {
      "cell_type": "markdown",
      "metadata": {
        "id": "Y1gSM73SbZ0l"
      },
      "source": [
        "![title](https://github.com/Intelligent-Systems-Phystech/psad/blob/master/seminars/sem11/data/collider.png?raw=1)"
      ]
    },
    {
      "cell_type": "code",
      "execution_count": null,
      "metadata": {
        "id": "X3upo2yCbZ0m"
      },
      "outputs": [],
      "source": [
        "X = rs.randn(N)\n",
        "Y = 0.7 * X + rs.randn(N)\n",
        "Z = 1.2 * X + 0.6 * Y + rs.randn(N)"
      ]
    },
    {
      "cell_type": "code",
      "execution_count": null,
      "metadata": {
        "id": "3zpirLf5bZ0m"
      },
      "outputs": [],
      "source": [
        "l1 = OLS(Y, np.vstack([X]).T).fit()\n",
        "l1.summary()"
      ]
    },
    {
      "cell_type": "code",
      "execution_count": null,
      "metadata": {
        "id": "YXloR62VbZ0n"
      },
      "outputs": [],
      "source": [
        "l1 = OLS(Y, np.vstack([X, Z]).T).fit()\n",
        "l1.summary()"
      ]
    },
    {
      "cell_type": "code",
      "execution_count": null,
      "metadata": {
        "id": "UNZZoR1zbZ0o"
      },
      "outputs": [],
      "source": [
        "l1 = OLS(Y, np.vstack([Z]).T).fit()\n",
        "l1.summary()"
      ]
    },
    {
      "cell_type": "markdown",
      "metadata": {
        "id": "r2XHdls4bZ0p"
      },
      "source": [
        "### DAGs (Directed Acyclic Graphs)"
      ]
    },
    {
      "cell_type": "markdown",
      "metadata": {
        "id": "SG_BKB_ebZ0p"
      },
      "source": [
        "#### Рассмотрим простой граф"
      ]
    },
    {
      "cell_type": "code",
      "execution_count": null,
      "metadata": {
        "id": "0Ac1fxEqbZ0q"
      },
      "outputs": [],
      "source": [
        "G = CausalGraphicalModel(nodes=['U', 'Z', 'X', 'Y'], edges=[\n",
        "    ('U', 'Y'),\n",
        "    ('U', 'X'),\n",
        "    ('X', 'Z'),\n",
        "    ('Z', 'Y')\n",
        "])\n",
        "G.draw()"
      ]
    },
    {
      "cell_type": "markdown",
      "metadata": {
        "id": "ZAcC7HtAbZ0q"
      },
      "source": [
        "#### Найдем все пути в графе (без циклов)"
      ]
    },
    {
      "cell_type": "code",
      "execution_count": null,
      "metadata": {
        "id": "7EZMQONUbZ0r"
      },
      "outputs": [],
      "source": [
        "list(nx.all_simple_paths(G.dag, 'X', 'Y'))"
      ]
    },
    {
      "cell_type": "markdown",
      "metadata": {
        "id": "lD4A6_9bbZ0r"
      },
      "source": [
        "#### Все пути, если считать граф не ориентированным"
      ]
    },
    {
      "cell_type": "code",
      "execution_count": null,
      "metadata": {
        "id": "x3UXFJsKbZ0s"
      },
      "outputs": [],
      "source": [
        "list(nx.all_simple_paths(G.dag.to_undirected(), 'X', 'Y'))"
      ]
    },
    {
      "cell_type": "markdown",
      "metadata": {
        "id": "_6U7orT5bZ0s"
      },
      "source": [
        "#### Рассмотрим все зависимости"
      ]
    },
    {
      "cell_type": "code",
      "execution_count": null,
      "metadata": {
        "id": "ttEX9yrRbZ0t"
      },
      "outputs": [],
      "source": [
        "G.get_all_independence_relationships()"
      ]
    },
    {
      "cell_type": "markdown",
      "metadata": {
        "id": "REZVtDNRbZ0t"
      },
      "source": [
        "#### Сгенерим распределение"
      ]
    },
    {
      "cell_type": "code",
      "execution_count": null,
      "metadata": {
        "id": "66WCjErUbZ0t"
      },
      "outputs": [],
      "source": [
        "G.get_distribution()"
      ]
    },
    {
      "cell_type": "markdown",
      "metadata": {
        "id": "4Z1ZNVopbZ0u"
      },
      "source": [
        "#### Обусловимся на переменную X"
      ]
    },
    {
      "cell_type": "code",
      "execution_count": null,
      "metadata": {
        "id": "2DVkfesAbZ0u"
      },
      "outputs": [],
      "source": [
        "G.do('X').draw()"
      ]
    },
    {
      "cell_type": "code",
      "execution_count": null,
      "metadata": {
        "id": "QuEZKb6ubZ0v"
      },
      "outputs": [],
      "source": [
        "G.draw()"
      ]
    },
    {
      "cell_type": "code",
      "execution_count": null,
      "metadata": {
        "id": "9M3witOgbZ0x"
      },
      "outputs": [],
      "source": [
        "G.get_all_backdoor_adjustment_sets('Y','X')"
      ]
    },
    {
      "cell_type": "code",
      "execution_count": null,
      "metadata": {
        "id": "Xp7FXPSmbZ0y"
      },
      "outputs": [],
      "source": [
        "G.get_all_frontdoor_adjustment_sets('Y','X')"
      ]
    },
    {
      "cell_type": "code",
      "execution_count": null,
      "metadata": {
        "id": "KzIWzJ_hbZ00"
      },
      "outputs": [],
      "source": [
        "G.get_all_frontdoor_adjustment_sets('X','Y')"
      ]
    },
    {
      "cell_type": "markdown",
      "metadata": {
        "id": "D2ZADM8ibZ01"
      },
      "source": [
        "## Inductive search"
      ]
    },
    {
      "cell_type": "markdown",
      "metadata": {
        "id": "9vu2t5d4bZ02"
      },
      "source": [
        "Допустим, у нас есть несколько событий:\n",
        "\n",
        "1. Продажа мороженного (ICE)\n",
        "2. Количество преступлений (CRIMES)\n",
        "3. Количество полицейских на тысячу человек (POLICE)\n",
        "4. Средняя температура (TEMP)\n",
        "5. Количество скачиваний браузера IE (IE)\n",
        "6. Количество зараженных компьютеров (COMP)\n",
        "7. Уровень загрязнения воздуха (AIR)\n",
        "\n",
        "P.S. Полная синтетика!"
      ]
    },
    {
      "cell_type": "code",
      "execution_count": null,
      "metadata": {
        "id": "4Ob_u2wBbZ03"
      },
      "outputs": [],
      "source": [
        "G = CausalGraphicalModel(nodes=['ICE','CRIMES','POLICE', 'TEMP','IE','COMP', 'AIR'], \n",
        "edges=[('TEMP','ICE'),  ('TEMP','CRIMES'), ('IE','COMP'), ('POLICE', 'CRIMES')])\n",
        "G.draw()"
      ]
    },
    {
      "cell_type": "code",
      "execution_count": null,
      "metadata": {
        "id": "FoK-2Z_AbZ03"
      },
      "outputs": [],
      "source": [
        "rs = np.random.RandomState(42)\n",
        "police = rs.uniform(low=1, high=100, size=1000)\n",
        "temp = rs.uniform(low=-40, high=40, size=1000)\n",
        "air = rs.uniform(size=1000)\n",
        "crimes = (temp + 40) / police\n",
        "ice = temp + 40\n",
        "ie = rs.uniform(size=1000)\n",
        "comp = ie**2\n",
        "dataframe = pd.DataFrame({'police':police, 'temp':temp, 'air':air, 'crimes':crimes, 'ice':ice, 'ie':ie, 'comp':comp})"
      ]
    },
    {
      "cell_type": "code",
      "execution_count": null,
      "metadata": {
        "id": "BtTvYWHabZ04"
      },
      "outputs": [],
      "source": [
        "dataframe"
      ]
    },
    {
      "cell_type": "code",
      "execution_count": null,
      "metadata": {
        "id": "_gwLovjHbZ04"
      },
      "outputs": [],
      "source": [
        "class OLS_test():\n",
        "    def __init__(self, y, x, z, data, alpha):\n",
        "        self.regression = sm.OLS.from_formula('{0}~{1}'.format(y[0], '+'.join(x + z)), data)\n",
        "        self.result = self.regression.fit()\n",
        "        self.x = x\n",
        "        self.y = y\n",
        "        self.z = z\n",
        "        self.alpha = alpha\n",
        "        print(y, x, z)\n",
        "\n",
        "    def independent(self):\n",
        "        to_fisher = '(' + ' ,'.join([x_ + '=0' for x_ in self.x]) + ')'\n",
        "        return self.result.f_test(to_fisher).pvalue > self.alpha"
      ]
    },
    {
      "cell_type": "code",
      "execution_count": null,
      "metadata": {
        "id": "Ww37-WlSbZ05"
      },
      "outputs": [],
      "source": [
        "variable_types = {'police' : 'd', \n",
        "                  'temp' : 'd',\n",
        "                  'air' : 'c',\n",
        "                  'ice' : 'd',\n",
        "                  'crimes' : 'd',\n",
        "                  'ie':'c',\n",
        "                  'comp':'c'}\n",
        "\n",
        "ic_algorithm = IC(OLS_test, alpha=0.05)\n",
        "graph = ic_algorithm.search(dataframe, variable_types)"
      ]
    },
    {
      "cell_type": "code",
      "execution_count": null,
      "metadata": {
        "id": "nGG_HlSEbZ06"
      },
      "outputs": [],
      "source": [
        "nx.draw_networkx(graph)"
      ]
    },
    {
      "cell_type": "code",
      "execution_count": null,
      "metadata": {
        "id": "3falxmpAbZ07"
      },
      "outputs": [],
      "source": [
        "G = CausalGraphicalModel(nodes=['ICE','CRIMES','POLICE', 'TEMP','IE','COMP', 'AIR'], \n",
        "edges=[('TEMP','ICE'),  ('TEMP','CRIMES'), ('IE','COMP'), ('POLICE', 'CRIMES')])\n",
        "G.draw()"
      ]
    },
    {
      "cell_type": "code",
      "execution_count": null,
      "metadata": {
        "id": "M-7XwkP9bZ07"
      },
      "outputs": [],
      "source": [
        "graph.edges"
      ]
    },
    {
      "cell_type": "markdown",
      "metadata": {
        "id": "129QQw6lbZ07"
      },
      "source": [
        "## Задача про курение"
      ]
    },
    {
      "cell_type": "code",
      "execution_count": null,
      "metadata": {
        "id": "YxXnHE__bZ08"
      },
      "outputs": [],
      "source": [
        "smoke = []\n",
        "cancer = []\n",
        "tar = []\n",
        "\n",
        "smoke += [1] * 323\n",
        "cancer += [0]*323\n",
        "tar+=[1]*323\n",
        "\n",
        "smoke+=[0]\n",
        "cancer+=[0]\n",
        "tar+=[1]\n",
        "\n",
        "smoke+=[1]*57\n",
        "cancer+=[1]*57\n",
        "tar+=[1]*57\n",
        "\n",
        "smoke+=[0]*19\n",
        "cancer+=[1]*19\n",
        "tar+=[1]*19\n",
        "\n",
        "\n",
        "smoke+=[1]*18\n",
        "cancer+=[0]*18\n",
        "tar+=[0]*18\n",
        "\n",
        "smoke+=[0]*38\n",
        "cancer+=[0]*38\n",
        "tar+=[0]*38\n",
        "\n",
        "smoke+=[1]*2\n",
        "cancer+=[1]*2\n",
        "tar+=[0]*2\n",
        "\n",
        "smoke+=[0]*342\n",
        "cancer+=[1]*342\n",
        "tar+=[0]*342\n",
        "\n",
        "dataframe = pd.DataFrame({'smoke':smoke, 'tar':tar, 'cancer':cancer})\n",
        "dataframe.sample(5)"
      ]
    },
    {
      "cell_type": "markdown",
      "metadata": {
        "id": "WhymiyftbZ08"
      },
      "source": [
        "### Строим граф"
      ]
    },
    {
      "cell_type": "code",
      "execution_count": null,
      "metadata": {
        "id": "e2SRmtDrbZ09"
      },
      "outputs": [],
      "source": [
        "g = nx.DiGraph()"
      ]
    },
    {
      "cell_type": "code",
      "execution_count": null,
      "metadata": {
        "id": "6o5uMbcNbZ09"
      },
      "outputs": [],
      "source": [
        "g.add_nodes_from(['smoke','cancer','tar'])\n",
        "g.add_edges_from([('tar','cancer'),('smoke','tar')])"
      ]
    },
    {
      "cell_type": "code",
      "execution_count": null,
      "metadata": {
        "id": "CIQJuM0WbZ09"
      },
      "outputs": [],
      "source": [
        "nx.draw_networkx(g)"
      ]
    },
    {
      "cell_type": "markdown",
      "metadata": {
        "id": "8nXiAct4bZ0-"
      },
      "source": [
        "### Иследуем причинность"
      ]
    },
    {
      "cell_type": "code",
      "execution_count": null,
      "metadata": {
        "id": "J3GDcxVobZ0-"
      },
      "outputs": [],
      "source": [
        "adjustment = AdjustForDirectCauses()\n",
        "admissable_set = adjustment.admissable_set(g,['tar'], ['cancer'])\n",
        "admissable_set"
      ]
    },
    {
      "cell_type": "code",
      "execution_count": null,
      "metadata": {
        "id": "-_Dp_egPbZ0_"
      },
      "outputs": [],
      "source": [
        "dataframe.columns"
      ]
    },
    {
      "cell_type": "code",
      "execution_count": null,
      "metadata": {
        "id": "i8N9ckE9bZ0_"
      },
      "outputs": [],
      "source": [
        "effect = CausalEffect(dataframe.sample(299), ['smoke'], ['cancer'], \n",
        "                      variable_types={'smoke': 'u', 'cancer': 'u', 'tar': 'u'},\n",
        "                      admissable_set=[])"
      ]
    },
    {
      "cell_type": "code",
      "execution_count": null,
      "metadata": {
        "id": "fzmuf3i-bZ1A"
      },
      "outputs": [],
      "source": [
        "smoke = pd.DataFrame({'smoke': [1], 'cancer': [1]})\n",
        "nsmoke = pd.DataFrame({'smoke': [0], 'cancer': [1]})"
      ]
    },
    {
      "cell_type": "code",
      "execution_count": null,
      "metadata": {
        "id": "ZWiU5YDzbZ1A"
      },
      "outputs": [],
      "source": [
        "effect.pdf(smoke) - effect.pdf(nsmoke)"
      ]
    },
    {
      "cell_type": "markdown",
      "source": [
        "## DoWhy"
      ],
      "metadata": {
        "id": "yfH2vXAieOGU"
      }
    },
    {
      "cell_type": "markdown",
      "source": [
        "### Вилка"
      ],
      "metadata": {
        "id": "I-Xz-7w_eUl5"
      }
    },
    {
      "cell_type": "code",
      "execution_count": null,
      "metadata": {
        "id": "h3vVSCUzbZ1B"
      },
      "outputs": [],
      "source": [
        "rs = np.random.RandomState(42)\n",
        "X = [] \n",
        "Y = []\n",
        "Z = []\n",
        "\n",
        "Z+=[1]*100\n",
        "Z+=[0]*100\n",
        "X = [z if rs.uniform()<0.85 else rs.randint(low=0, high=2) for z in Z]\n",
        "Y = [z if rs.uniform()<0.85 else rs.randint(low=0, high=2) for z in Z]\n",
        "\n",
        "dataframe = pd.DataFrame({'X':X, 'Y':Y, 'Z':Z})\n",
        "dataframe.sample(5)"
      ]
    },
    {
      "cell_type": "code",
      "source": [
        "model_xy = CausalModel(\n",
        "    data=dataframe,\n",
        "    treatment=['X'],\n",
        "    outcome=[\"Y\"])\n",
        "model_xy.interpret()"
      ],
      "metadata": {
        "id": "IdgUYNkveaxC"
      },
      "execution_count": null,
      "outputs": []
    },
    {
      "cell_type": "code",
      "source": [
        "model_xyz = CausalModel(\n",
        "    data=dataframe,\n",
        "    treatment=['X'],\n",
        "    outcome=[\"Y\"], common_causes=['Z']  )\n",
        "model_xyz.interpret()"
      ],
      "metadata": {
        "id": "zd9OxYwWedyf"
      },
      "execution_count": null,
      "outputs": []
    },
    {
      "cell_type": "markdown",
      "source": [
        "#### Определяем эффект"
      ],
      "metadata": {
        "id": "vlHEi2OMhQ7k"
      }
    },
    {
      "cell_type": "code",
      "source": [
        "print(model_xy.identify_effect())"
      ],
      "metadata": {
        "id": "Sg4Bi0Q7e2VC"
      },
      "execution_count": null,
      "outputs": []
    },
    {
      "cell_type": "code",
      "source": [
        "print(model_xyz.identify_effect())"
      ],
      "metadata": {
        "id": "XGZEdY09fLXg"
      },
      "execution_count": null,
      "outputs": []
    },
    {
      "cell_type": "markdown",
      "source": [
        "#### Размер эффекта"
      ],
      "metadata": {
        "id": "4JyR_1S7hVGA"
      }
    },
    {
      "cell_type": "code",
      "source": [
        "print(\n",
        "    model_xy.estimate_effect(\n",
        "        model_xy.identify_effect(), \n",
        "        method_name='backdoor.linear_regression', \n",
        "        test_significance=True))"
      ],
      "metadata": {
        "id": "oJwuDUBNhXZd"
      },
      "execution_count": null,
      "outputs": []
    },
    {
      "cell_type": "code",
      "source": [
        "print(\n",
        "    model_xyz.estimate_effect(\n",
        "        model_xyz.identify_effect(), \n",
        "        method_name='backdoor.linear_regression', \n",
        "        test_significance=True, ))"
      ],
      "metadata": {
        "id": "cm4FujsIhaoX"
      },
      "execution_count": null,
      "outputs": []
    },
    {
      "cell_type": "markdown",
      "source": [
        "### Усложняем модель\n",
        "- Z->X->Y\n",
        "- U->X, U->Y,\n",
        "\n",
        "где U --- это скрытая переменная, при оценке эффекта мы ее не видим, но предполагаем, что она существует"
      ],
      "metadata": {
        "id": "FxvOC8dsipSw"
      }
    },
    {
      "cell_type": "code",
      "source": [
        "rs = np.random.RandomState(42)\n",
        "X = [] \n",
        "Y = []\n",
        "Z = []\n",
        "U = []\n",
        "\n",
        "U+=[1]*100\n",
        "U+=[0]*100\n",
        "Z += [1]*100\n",
        "Z += [0] * 100\n",
        "rs.shuffle(Z) # Z - еще одна переменная, которая влияет на X. Чтобы она не совпадала с U - помешаем.\n",
        "\n",
        "X = [int((z+u)/2) if rs.uniform()<0.85 else rs.randint(low=0, high=2) for u,z in zip(U, Z)]\n",
        "Y = [int((x+u)/2) for x,u in zip(X,U)]\n",
        "\n",
        "dataframe = pd.DataFrame({'X':X, 'Y':Y, 'Z':Z})\n",
        "dataframe.sample(5)"
      ],
      "metadata": {
        "id": "Dw_hv0i5irbd"
      },
      "execution_count": null,
      "outputs": []
    },
    {
      "cell_type": "code",
      "source": [
        "model_xy = CausalModel(\n",
        "    data=dataframe,\n",
        "    treatment=['X'],\n",
        "    outcome=[\"Y\"]   )\n",
        "model_xy.interpret()"
      ],
      "metadata": {
        "id": "8biwOjg-i2JN"
      },
      "execution_count": null,
      "outputs": []
    },
    {
      "cell_type": "code",
      "source": [
        "print(model_xy.identify_effect())"
      ],
      "metadata": {
        "id": "LUlHtreZjDCX"
      },
      "execution_count": null,
      "outputs": []
    },
    {
      "cell_type": "code",
      "source": [
        "print(\n",
        "    model_xy.estimate_effect(\n",
        "        model_xy.identify_effect(), \n",
        "        method_name='backdoor.linear_regression', \n",
        "        test_significance=True))"
      ],
      "metadata": {
        "id": "UvHfDXvDi4im"
      },
      "execution_count": null,
      "outputs": []
    },
    {
      "cell_type": "code",
      "source": [
        "causal_graph = \"\"\"digraph {\n",
        "X[label=\"X\"];\n",
        "Y[label=\"Y\"];\n",
        "Z[label=\"Z\"];\n",
        "U[label=\"Unobserved Confounders\",observed=\"no\"];\n",
        "U->{X;Y};\n",
        "X->{Y};\n",
        "Z->{X};\n",
        "}\"\"\"\n",
        "\n",
        "model = CausalModel(\n",
        "    data=dataframe,\n",
        "    treatment=['X'],\n",
        "    instruments=['Z'],\n",
        "    outcome=[\"Y\"],\n",
        "    graph=causal_graph)\n",
        "model.interpret()"
      ],
      "metadata": {
        "id": "gxSO1WS8jBou"
      },
      "execution_count": null,
      "outputs": []
    },
    {
      "cell_type": "code",
      "source": [
        "print(model.identify_effect())"
      ],
      "metadata": {
        "id": "nkJXYrpPjb4g"
      },
      "execution_count": null,
      "outputs": []
    },
    {
      "cell_type": "code",
      "source": [
        "print(\n",
        "    model.estimate_effect(\n",
        "        model.identify_effect(), \n",
        "        method_name='iv.instrumental_variable', \n",
        "        test_significance=True))"
      ],
      "metadata": {
        "id": "FYyRZxq6jkAt"
      },
      "execution_count": null,
      "outputs": []
    },
    {
      "cell_type": "markdown",
      "source": [
        "Теперь немного поменяем данные:\n",
        "- Пусть Y в реальности зависит от скрытой переменной U но не зависит от X\n",
        "- Корреляция X и Y при этом объясняется именно общим влиянием U"
      ],
      "metadata": {
        "id": "cQjEs8__kFb4"
      }
    },
    {
      "cell_type": "code",
      "source": [
        "rs = np.random.RandomState(42)\n",
        "X = [] \n",
        "Y = []\n",
        "Z = []\n",
        "U = []\n",
        "\n",
        "U+=[1]*100\n",
        "U+=[0]*100\n",
        "Z += [1]*100\n",
        "Z += [0] * 100\n",
        "rs.shuffle(Z)\n",
        "\n",
        "X = [int((z+u)/2) if rs.uniform()<0.85 else rs.randint(low=0, high=2) for u,z in zip(U, Z)]\n",
        "Y = [u for x,u in zip(X,U)]\n",
        "\n",
        "dataframe = pd.DataFrame({'X':X, 'Y':Y, 'Z':Z})\n",
        "dataframe.sample(5)"
      ],
      "metadata": {
        "id": "8mz9cz1Vju1b"
      },
      "execution_count": null,
      "outputs": []
    },
    {
      "cell_type": "code",
      "source": [
        "model = CausalModel(\n",
        "    data=dataframe,\n",
        "    treatment=['X'],\n",
        "    outcome=[\"Y\"])\n",
        "model.interpret()"
      ],
      "metadata": {
        "id": "wjGNcrwukdM0"
      },
      "execution_count": null,
      "outputs": []
    },
    {
      "cell_type": "code",
      "source": [
        "print(model.identify_effect())"
      ],
      "metadata": {
        "id": "BqPX2O0QkOoj"
      },
      "execution_count": null,
      "outputs": []
    },
    {
      "cell_type": "code",
      "source": [
        "print(\n",
        "    model.estimate_effect(\n",
        "        model.identify_effect(), \n",
        "        method_name='backdoor.linear_regression', \n",
        "        test_significance=True))"
      ],
      "metadata": {
        "id": "6s7kvmqJkSxo"
      },
      "execution_count": null,
      "outputs": []
    },
    {
      "cell_type": "code",
      "source": [
        "model = CausalModel(\n",
        "    data=dataframe,\n",
        "    treatment=['X'],\n",
        "    instruments=['Z'],\n",
        "    outcome=[\"Y\"],\n",
        "    graph=causal_graph)\n",
        "model.interpret()"
      ],
      "metadata": {
        "id": "i8Cd_6QxkU2F"
      },
      "execution_count": null,
      "outputs": []
    },
    {
      "cell_type": "code",
      "source": [
        "print(model.identify_effect())"
      ],
      "metadata": {
        "id": "kCJoCSjnkvPz"
      },
      "execution_count": null,
      "outputs": []
    },
    {
      "cell_type": "code",
      "source": [
        "print(\n",
        "    model.estimate_effect(\n",
        "        model.identify_effect(), \n",
        "        method_name='iv.instrumental_variable', \n",
        "        test_significance=True))"
      ],
      "metadata": {
        "id": "pecq1ZPukxvq"
      },
      "execution_count": null,
      "outputs": []
    },
    {
      "cell_type": "markdown",
      "source": [
        "## Социо-Экономический Статус"
      ],
      "metadata": {
        "id": "BD_8IzP9lANv"
      }
    },
    {
      "cell_type": "code",
      "source": [
        "causal_graph = \"\"\"digraph {\n",
        "X[label=\"X\"];\n",
        "Y[label=\"Y\"];\n",
        "Z[label=\"Z\"];\n",
        "U[label=\"Unobserved Confounders\",observed=\"no\"];\n",
        "U->{X;Z};\n",
        "X->{Y};\n",
        "Z->{Y};\n",
        "}\"\"\""
      ],
      "metadata": {
        "id": "2ULli3nAkzww"
      },
      "execution_count": null,
      "outputs": []
    },
    {
      "cell_type": "code",
      "source": [
        "rs = np.random.RandomState(42)\n",
        "U = [] # социо-экономический статус\n",
        "X = [] # лечение больного\n",
        "Y = [] # успешное лечение\n",
        "Z = [] # наличие лишнего веса\n",
        "\n",
        "U+=[1]*100\n",
        "U+=[0]*100\n",
        "\n",
        "Z = [u if rs.uniform()<0.85 else rs.randint(low=0, high=2) for u in U] # \n",
        "X = [u if rs.uniform()<0.85 else rs.randint(low=0, high=2) for u in U]\n",
        "Y = []\n",
        "for x,z in zip(X,Z):\n",
        "    # будем считать, что человек успешно вылечился, если назначено адекватное лечение и у него нет лишнего веса\n",
        "    y = int((x + (1-z))/2) \n",
        "    Y.append(y)\n",
        "    \n",
        "    \n",
        "dataframe = pd.DataFrame({'X':X, 'Y':Y, 'Z':Z})\n",
        "dataframe.sample(5)"
      ],
      "metadata": {
        "id": "ucSxJo2AlFfD"
      },
      "execution_count": null,
      "outputs": []
    },
    {
      "cell_type": "code",
      "source": [
        "model = CausalModel(\n",
        "    data=dataframe,\n",
        "    treatment=['X'],    \n",
        "    outcome=[\"Y\"])\n",
        "model.interpret()"
      ],
      "metadata": {
        "id": "7EBmsplElJD4"
      },
      "execution_count": null,
      "outputs": []
    },
    {
      "cell_type": "code",
      "source": [
        "print(model.identify_effect())"
      ],
      "metadata": {
        "id": "WjYp05GtlN2Y"
      },
      "execution_count": null,
      "outputs": []
    },
    {
      "cell_type": "code",
      "source": [
        "print(\n",
        "    model.estimate_effect(\n",
        "        model.identify_effect(), \n",
        "        method_name='backdoor.linear_regression', \n",
        "        test_significance=True))"
      ],
      "metadata": {
        "id": "bGV_fZBwlVEo"
      },
      "execution_count": null,
      "outputs": []
    },
    {
      "cell_type": "code",
      "source": [
        "model = CausalModel(\n",
        "    data=dataframe,\n",
        "    treatment=['X'],    \n",
        "    outcome=[\"Y\"], \n",
        "    graph=causal_graph)\n",
        "model.interpret()"
      ],
      "metadata": {
        "id": "GmvxlalElVqH"
      },
      "execution_count": null,
      "outputs": []
    },
    {
      "cell_type": "code",
      "source": [
        "print(model.identify_effect())"
      ],
      "metadata": {
        "id": "lfe_uhK-lcPs"
      },
      "execution_count": null,
      "outputs": []
    },
    {
      "cell_type": "code",
      "source": [
        "print(\n",
        "    model.estimate_effect(\n",
        "        model.identify_effect(), \n",
        "        method_name='backdoor.linear_regression', \n",
        "        test_significance=True))"
      ],
      "metadata": {
        "id": "IQxhgh23lepo"
      },
      "execution_count": null,
      "outputs": []
    },
    {
      "cell_type": "markdown",
      "source": [
        "## И снова курение"
      ],
      "metadata": {
        "id": "wx-rFnIalwIb"
      }
    },
    {
      "cell_type": "code",
      "source": [
        "smoke = []\n",
        "cancer = []\n",
        "tar = []\n",
        "\n",
        "smoke += [1] * 323\n",
        "cancer += [0]*323\n",
        "tar+=[1]*323\n",
        "\n",
        "smoke+=[0]\n",
        "cancer+=[0]\n",
        "tar+=[1]\n",
        "\n",
        "smoke+=[1]*57\n",
        "cancer+=[1]*57\n",
        "tar+=[1]*57\n",
        "\n",
        "smoke+=[0]*19\n",
        "cancer+=[1]*19\n",
        "tar+=[1]*19\n",
        "\n",
        "\n",
        "smoke+=[1]*18\n",
        "cancer+=[0]*18\n",
        "tar+=[0]*18\n",
        "\n",
        "smoke+=[0]*38\n",
        "cancer+=[0]*38\n",
        "tar+=[0]*38\n",
        "\n",
        "smoke+=[1]*2\n",
        "cancer+=[1]*2\n",
        "tar+=[0]*2\n",
        "\n",
        "smoke+=[0]*342\n",
        "cancer+=[1]*342\n",
        "tar+=[0]*342\n",
        "\n",
        "dataframe = pd.DataFrame({'smoke':smoke, 'tar':tar, 'cancer':cancer})\n",
        "dataframe.sample(5)"
      ],
      "metadata": {
        "id": "4wN4btcGl0jS"
      },
      "execution_count": null,
      "outputs": []
    },
    {
      "cell_type": "code",
      "source": [
        "model = CausalModel(\n",
        "    data=dataframe,\n",
        "    treatment=['smoke'],\n",
        "    outcome=[\"cancer\"])\n",
        "model.interpret()"
      ],
      "metadata": {
        "id": "9XXXdNr2l4ls"
      },
      "execution_count": null,
      "outputs": []
    },
    {
      "cell_type": "code",
      "source": [
        "print(model.identify_effect(proceed_when_unidentifiable=True))"
      ],
      "metadata": {
        "id": "1j6JKP86mEr3"
      },
      "execution_count": null,
      "outputs": []
    },
    {
      "cell_type": "code",
      "source": [
        "print(\n",
        "    model.estimate_effect(\n",
        "        model.identify_effect(proceed_when_unidentifiable=True), \n",
        "        method_name=\"backdoor.linear_regression\", ))\n"
      ],
      "metadata": {
        "id": "iYMGQ9mBmJl6"
      },
      "execution_count": null,
      "outputs": []
    },
    {
      "cell_type": "markdown",
      "source": [
        "Получением, что пристрастие к курению сильно снижает вероятность рака)))"
      ],
      "metadata": {
        "id": "nKBDUWHll9g_"
      }
    },
    {
      "cell_type": "code",
      "source": [
        "causal_graph = \"\"\"digraph {\n",
        "smoke[label=\"smoke\"];\n",
        "tar[label=\"tar\"];\n",
        "cancer[label=\"cancer\"];\n",
        "U[label=\"Unobserved Confounders\",observed=\"no\"];\n",
        "U->{smoke;cancer};\n",
        "tar->{cancer};\n",
        "smoke->{tar};\n",
        "}\"\"\""
      ],
      "metadata": {
        "id": "5-0t2LXEmATW"
      },
      "execution_count": null,
      "outputs": []
    },
    {
      "cell_type": "code",
      "source": [
        "model = CausalModel(\n",
        "    data=dataframe,\n",
        "    treatment=['smoke'],\n",
        "    outcome=[\"cancer\"],    \n",
        "    instruments=[\"smoke\"],\n",
        "    graph=causal_graph)\n",
        "model.interpret()"
      ],
      "metadata": {
        "id": "gadOKbJMmfvM"
      },
      "execution_count": null,
      "outputs": []
    },
    {
      "cell_type": "code",
      "source": [
        "print(model.identify_effect(proceed_when_unidentifiable=True))"
      ],
      "metadata": {
        "id": "3_51rLV4mjgR"
      },
      "execution_count": null,
      "outputs": []
    },
    {
      "cell_type": "code",
      "source": [
        "print(\n",
        "    model.estimate_effect(\n",
        "        model.identify_effect(proceed_when_unidentifiable=True), \n",
        "        method_name=\"frontdoor.two_stage_regression\"))"
      ],
      "metadata": {
        "id": "XXoZTlh4mprh"
      },
      "execution_count": null,
      "outputs": []
    },
    {
      "cell_type": "code",
      "source": [
        ""
      ],
      "metadata": {
        "id": "AOXG9z-Jmvdm"
      },
      "execution_count": null,
      "outputs": []
    }
  ],
  "metadata": {
    "kernelspec": {
      "display_name": "Python 3",
      "language": "python",
      "name": "python3"
    },
    "language_info": {
      "codemirror_mode": {
        "name": "ipython",
        "version": 3
      },
      "file_extension": ".py",
      "mimetype": "text/x-python",
      "name": "python",
      "nbconvert_exporter": "python",
      "pygments_lexer": "ipython3",
      "version": "3.7.3"
    },
    "colab": {
      "name": "main.ipynb",
      "provenance": []
    }
  },
  "nbformat": 4,
  "nbformat_minor": 0
}