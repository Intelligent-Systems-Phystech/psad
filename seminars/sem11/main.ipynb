{
 "cells": [
  {
   "cell_type": "markdown",
   "metadata": {},
   "source": [
    "# Причиность"
   ]
  },
  {
   "cell_type": "markdown",
   "metadata": {},
   "source": [
    "## Библиотеки"
   ]
  },
  {
   "cell_type": "code",
   "execution_count": null,
   "metadata": {},
   "outputs": [],
   "source": [
    "import numpy as np\n",
    "import networkx as nx\n",
    "import matplotlib.pylab as plt\n",
    "\n",
    "from statsmodels.regression.linear_model import OLS\n",
    "from causalgraphicalmodels import CausalGraphicalModel\n",
    "\n",
    "import statsmodels.api as sm\n",
    "\n",
    "from causality.inference.search import IC\n",
    "from causality.inference.independence_tests import MutualInformationTest\n",
    "import pandas as pd\n",
    "import seaborn as sns\n",
    "\n",
    "from causality.estimation.adjustments import AdjustForDirectCauses\n",
    "from causality.estimation.nonparametric import CausalEffect"
   ]
  },
  {
   "cell_type": "markdown",
   "metadata": {},
   "source": [
    "## Warmup"
   ]
  },
  {
   "cell_type": "markdown",
   "metadata": {},
   "source": [
    "### Связь в линейной регрессии"
   ]
  },
  {
   "cell_type": "markdown",
   "metadata": {},
   "source": [
    "#### Fork\n",
    "\n",
    "Смоделируем зависимости,соответствующие типу Fork.\n",
    "\n",
    "Заметим, что здесь есть только одна переменная, которая является экзогенной (Z), то есть она не зависит ни от какой другой переменной в системе (не зависит от X, Y, эндогенных переменных).\n",
    "\n",
    "$$Z->X, Z->Y, X->Y$$"
   ]
  },
  {
   "cell_type": "markdown",
   "metadata": {},
   "source": [
    "![title](data/fork.png)"
   ]
  },
  {
   "cell_type": "code",
   "execution_count": null,
   "metadata": {},
   "outputs": [],
   "source": [
    "rs = np.random.RandomState(42)\n",
    "N = 10000\n",
    "Z = rs.randn(10000)\n",
    "X = 0.5 * Z + rs.randn(10000) \n",
    "Y = 0.3 * Z + 0.4 * X + rs.randn(10000)"
   ]
  },
  {
   "cell_type": "markdown",
   "metadata": {},
   "source": [
    "Построим разные регрессии регрессии Y ~ X, Y ~ Z + X, Y ~ Z. Что можно сказать о 95% доверительном интервале (confint) на коэффициент регрессии перед X в двух этих моделях?"
   ]
  },
  {
   "cell_type": "code",
   "execution_count": null,
   "metadata": {},
   "outputs": [],
   "source": [
    "l1 = OLS(Y, np.vstack([X]).T).fit()\n",
    "l1.summary()"
   ]
  },
  {
   "cell_type": "code",
   "execution_count": null,
   "metadata": {},
   "outputs": [],
   "source": [
    "l1 = OLS(Y, np.vstack([X, Z]).T).fit()\n",
    "l1.summary()"
   ]
  },
  {
   "cell_type": "code",
   "execution_count": null,
   "metadata": {},
   "outputs": [],
   "source": [
    "l1 = OLS(Y, np.vstack([Z]).T).fit()\n",
    "l1.summary()"
   ]
  },
  {
   "cell_type": "markdown",
   "metadata": {},
   "source": [
    "### Collider\n",
    "\n",
    "Рассмотрим collider:\n",
    "```\n",
    "X -> Z\n",
    "X -> Y\n",
    "Y -> Z\n",
    "```"
   ]
  },
  {
   "cell_type": "markdown",
   "metadata": {},
   "source": [
    "![title](data/collider.png)"
   ]
  },
  {
   "cell_type": "code",
   "execution_count": null,
   "metadata": {},
   "outputs": [],
   "source": [
    "X = rs.randn(N)\n",
    "Y = 0.7 * X + rs.randn(N)\n",
    "Z = 1.2 * X + 0.6 * Y + rs.randn(N)"
   ]
  },
  {
   "cell_type": "code",
   "execution_count": null,
   "metadata": {},
   "outputs": [],
   "source": [
    "l1 = OLS(Y, np.vstack([X]).T).fit()\n",
    "l1.summary()"
   ]
  },
  {
   "cell_type": "code",
   "execution_count": null,
   "metadata": {},
   "outputs": [],
   "source": [
    "l1 = OLS(Y, np.vstack([X, Z]).T).fit()\n",
    "l1.summary()"
   ]
  },
  {
   "cell_type": "code",
   "execution_count": null,
   "metadata": {},
   "outputs": [],
   "source": [
    "l1 = OLS(Y, np.vstack([Z]).T).fit()\n",
    "l1.summary()"
   ]
  },
  {
   "cell_type": "markdown",
   "metadata": {},
   "source": [
    "### DAGs (Directed Acyclic Graphs)"
   ]
  },
  {
   "cell_type": "markdown",
   "metadata": {},
   "source": [
    "#### Рассмотрим простой граф"
   ]
  },
  {
   "cell_type": "code",
   "execution_count": null,
   "metadata": {},
   "outputs": [],
   "source": [
    "G = CausalGraphicalModel(nodes=['U', 'Z', 'X', 'Y'], edges=[\n",
    "    ('U', 'Y'),\n",
    "    ('U', 'X'),\n",
    "    ('X', 'Z'),\n",
    "    ('Z', 'Y')\n",
    "])\n",
    "G.draw()"
   ]
  },
  {
   "cell_type": "markdown",
   "metadata": {},
   "source": [
    "#### Найдем все пути в графе (без циклов)"
   ]
  },
  {
   "cell_type": "code",
   "execution_count": null,
   "metadata": {},
   "outputs": [],
   "source": [
    "list(nx.all_simple_paths(G.dag, 'X', 'Y'))"
   ]
  },
  {
   "cell_type": "markdown",
   "metadata": {},
   "source": [
    "#### Все пути, если считать граф не ориентированным"
   ]
  },
  {
   "cell_type": "code",
   "execution_count": null,
   "metadata": {},
   "outputs": [],
   "source": [
    "list(nx.all_simple_paths(G.dag.to_undirected(), 'X', 'Y'))"
   ]
  },
  {
   "cell_type": "markdown",
   "metadata": {},
   "source": [
    "#### Рассмотрим все зависимости"
   ]
  },
  {
   "cell_type": "code",
   "execution_count": null,
   "metadata": {},
   "outputs": [],
   "source": [
    "G.get_all_independence_relationships()"
   ]
  },
  {
   "cell_type": "markdown",
   "metadata": {},
   "source": [
    "#### Сгенерим распределение"
   ]
  },
  {
   "cell_type": "code",
   "execution_count": null,
   "metadata": {},
   "outputs": [],
   "source": [
    "G.get_distribution()"
   ]
  },
  {
   "cell_type": "markdown",
   "metadata": {},
   "source": [
    "#### Обусловимся на переменную X"
   ]
  },
  {
   "cell_type": "code",
   "execution_count": null,
   "metadata": {},
   "outputs": [],
   "source": [
    "G.do('X').draw()"
   ]
  },
  {
   "cell_type": "code",
   "execution_count": null,
   "metadata": {},
   "outputs": [],
   "source": [
    "G.draw()"
   ]
  },
  {
   "cell_type": "code",
   "execution_count": null,
   "metadata": {},
   "outputs": [],
   "source": [
    "G.get_all_backdoor_adjustment_sets('Y','X')"
   ]
  },
  {
   "cell_type": "code",
   "execution_count": null,
   "metadata": {},
   "outputs": [],
   "source": [
    "G.get_all_frontdoor_adjustment_sets('Y','X')"
   ]
  },
  {
   "cell_type": "code",
   "execution_count": null,
   "metadata": {},
   "outputs": [],
   "source": [
    "G.get_all_frontdoor_adjustment_sets('X','Y')"
   ]
  },
  {
   "cell_type": "markdown",
   "metadata": {},
   "source": [
    "## Inductive search"
   ]
  },
  {
   "cell_type": "markdown",
   "metadata": {},
   "source": [
    "Допустим, у нас есть несколько событий:\n",
    "\n",
    "1. Продажа мороженного (ICE)\n",
    "2. Количество преступлений (CRIMES)\n",
    "3. Количество полицейских на тысячу человек (POLICE)\n",
    "4. Средняя температура (TEMP)\n",
    "5. Количество скачиваний браузера IE (IE)\n",
    "6. Количество зараженных компьютеров (COMP)\n",
    "7. Уровень загрязнения воздуха (AIR)\n",
    "\n",
    "P.S. Полная синтетика!"
   ]
  },
  {
   "cell_type": "code",
   "execution_count": null,
   "metadata": {},
   "outputs": [],
   "source": [
    "G = CausalGraphicalModel(nodes=['ICE','CRIMES','POLICE', 'TEMP','IE','COMP', 'AIR'], \n",
    "edges=[('TEMP','ICE'),  ('TEMP','CRIMES'), ('IE','COMP'), ('POLICE', 'CRIMES')])\n",
    "G.draw()"
   ]
  },
  {
   "cell_type": "code",
   "execution_count": null,
   "metadata": {},
   "outputs": [],
   "source": [
    "rs = np.random.RandomState(42)\n",
    "police = rs.uniform(low=1, high=100, size=1000)\n",
    "temp = rs.uniform(low=-40, high=40, size=1000)\n",
    "air = rs.uniform(size=1000)\n",
    "crimes = (temp + 40) / police\n",
    "ice = temp + 40\n",
    "ie = rs.uniform(size=1000)\n",
    "comp = ie**2\n",
    "dataframe = pd.DataFrame({'police':police, 'temp':temp, 'air':air, 'crimes':crimes, 'ice':ice, 'ie':ie, 'comp':comp})"
   ]
  },
  {
   "cell_type": "code",
   "execution_count": null,
   "metadata": {},
   "outputs": [],
   "source": [
    "dataframe"
   ]
  },
  {
   "cell_type": "code",
   "execution_count": null,
   "metadata": {},
   "outputs": [],
   "source": [
    "class OLS_test():\n",
    "    def __init__(self, y, x, z, data, alpha):\n",
    "        self.regression = sm.OLS.from_formula('{0}~{1}'.format(y[0], '+'.join(x + z)), data)\n",
    "        self.result = self.regression.fit()\n",
    "        self.x = x\n",
    "        self.y = y\n",
    "        self.z = z\n",
    "        self.alpha = alpha\n",
    "        print(y, x, z)\n",
    "\n",
    "    def independent(self):\n",
    "        to_fisher = '(' + ' ,'.join([x_ + '=0' for x_ in self.x]) + ')'\n",
    "        return self.result.f_test(to_fisher).pvalue > self.alpha"
   ]
  },
  {
   "cell_type": "code",
   "execution_count": null,
   "metadata": {},
   "outputs": [],
   "source": [
    "variable_types = {'police' : 'd', \n",
    "                  'temp' : 'd',\n",
    "                  'air' : 'c',\n",
    "                  'ice' : 'd',\n",
    "                  'crimes' : 'd',\n",
    "                  'ie':'c',\n",
    "                  'comp':'c'}\n",
    "\n",
    "ic_algorithm = IC(OLS_test, alpha=0.05)\n",
    "graph = ic_algorithm.search(dataframe, variable_types)"
   ]
  },
  {
   "cell_type": "code",
   "execution_count": null,
   "metadata": {},
   "outputs": [],
   "source": [
    "nx.draw_networkx(graph)"
   ]
  },
  {
   "cell_type": "code",
   "execution_count": null,
   "metadata": {},
   "outputs": [],
   "source": [
    "G = CausalGraphicalModel(nodes=['ICE','CRIMES','POLICE', 'TEMP','IE','COMP', 'AIR'], \n",
    "edges=[('TEMP','ICE'),  ('TEMP','CRIMES'), ('IE','COMP'), ('POLICE', 'CRIMES')])\n",
    "G.draw()"
   ]
  },
  {
   "cell_type": "code",
   "execution_count": null,
   "metadata": {},
   "outputs": [],
   "source": [
    "for e in graph.edges(data=True):\n",
    "    print(e)"
   ]
  },
  {
   "cell_type": "markdown",
   "metadata": {},
   "source": [
    "## Задача про курение"
   ]
  },
  {
   "cell_type": "code",
   "execution_count": null,
   "metadata": {},
   "outputs": [],
   "source": [
    "smoke = []\n",
    "cancer = []\n",
    "tar = []\n",
    "\n",
    "smoke += [1] * 323\n",
    "cancer += [0]*323\n",
    "tar+=[1]*323\n",
    "\n",
    "smoke+=[0]\n",
    "cancer+=[0]\n",
    "tar+=[1]\n",
    "\n",
    "smoke+=[1]*57\n",
    "cancer+=[1]*57\n",
    "tar+=[1]*57\n",
    "\n",
    "smoke+=[0]*19\n",
    "cancer+=[1]*19\n",
    "tar+=[1]*19\n",
    "\n",
    "\n",
    "smoke+=[1]*18\n",
    "cancer+=[0]*18\n",
    "tar+=[0]*18\n",
    "\n",
    "smoke+=[0]*38\n",
    "cancer+=[0]*38\n",
    "tar+=[0]*38\n",
    "\n",
    "smoke+=[1]*2\n",
    "cancer+=[1]*2\n",
    "tar+=[0]*2\n",
    "\n",
    "smoke+=[0]*342\n",
    "cancer+=[1]*342\n",
    "tar+=[0]*342\n",
    "\n",
    "dataframe = pd.DataFrame({'smoke':smoke, 'tar':tar, 'cancer':cancer})\n",
    "dataframe.sample(5)"
   ]
  },
  {
   "cell_type": "markdown",
   "metadata": {},
   "source": [
    "### Строим граф"
   ]
  },
  {
   "cell_type": "code",
   "execution_count": null,
   "metadata": {},
   "outputs": [],
   "source": [
    "g = nx.DiGraph()"
   ]
  },
  {
   "cell_type": "code",
   "execution_count": null,
   "metadata": {},
   "outputs": [],
   "source": [
    "g.add_nodes_from(['smoke','cancer','tar'])\n",
    "g.add_edges_from([('tar','cancer'),('smoke','tar')])"
   ]
  },
  {
   "cell_type": "code",
   "execution_count": null,
   "metadata": {},
   "outputs": [],
   "source": [
    "nx.draw_networkx(g)"
   ]
  },
  {
   "cell_type": "markdown",
   "metadata": {},
   "source": [
    "### Иследуем причинность"
   ]
  },
  {
   "cell_type": "code",
   "execution_count": null,
   "metadata": {},
   "outputs": [],
   "source": [
    "adjustment = AdjustForDirectCauses()\n",
    "admissable_set = adjustment.admissable_set(g,['tar'], ['cancer'])\n",
    "admissable_set"
   ]
  },
  {
   "cell_type": "code",
   "execution_count": null,
   "metadata": {},
   "outputs": [],
   "source": [
    "dataframe.columns"
   ]
  },
  {
   "cell_type": "code",
   "execution_count": null,
   "metadata": {},
   "outputs": [],
   "source": [
    "effect = CausalEffect(dataframe.sample(299), ['smoke'], ['cancer'], \n",
    "                      variable_types={'smoke': 'u', 'cancer': 'u', 'tar': 'u'},\n",
    "                      admissable_set=[])"
   ]
  },
  {
   "cell_type": "code",
   "execution_count": null,
   "metadata": {},
   "outputs": [],
   "source": [
    "smoke = pd.DataFrame({'smoke': [1], 'cancer': [1]})\n",
    "nsmoke = pd.DataFrame({'smoke': [0], 'cancer': [1]})"
   ]
  },
  {
   "cell_type": "code",
   "execution_count": null,
   "metadata": {},
   "outputs": [],
   "source": [
    "effect.pdf(smoke) - effect.pdf(nsmoke)"
   ]
  }
 ],
 "metadata": {
  "kernelspec": {
   "display_name": "Python 3",
   "language": "python",
   "name": "python3"
  },
  "language_info": {
   "codemirror_mode": {
    "name": "ipython",
    "version": 3
   },
   "file_extension": ".py",
   "mimetype": "text/x-python",
   "name": "python",
   "nbconvert_exporter": "python",
   "pygments_lexer": "ipython3",
   "version": "3.7.3"
  }
 },
 "nbformat": 4,
 "nbformat_minor": 4
}
