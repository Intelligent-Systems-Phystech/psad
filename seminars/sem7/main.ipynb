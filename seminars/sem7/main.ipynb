{
 "cells": [
  {
   "cell_type": "markdown",
   "metadata": {
    "slideshow": {
     "slide_type": "slide"
    }
   },
   "source": [
    "# Регрессионный анализ"
   ]
  },
  {
   "cell_type": "markdown",
   "metadata": {
    "slideshow": {
     "slide_type": "subslide"
    }
   },
   "source": [
    "## Библиотеки"
   ]
  },
  {
   "cell_type": "code",
   "execution_count": null,
   "metadata": {},
   "outputs": [],
   "source": [
    "import numpy as np\n",
    "import scipy.stats as st\n",
    "import matplotlib.pylab as plt\n",
    "import pandas as pd\n",
    "import seaborn as sns\n",
    "from statsmodels.regression.linear_model import OLS\n",
    "from statsmodels.stats.diagnostic import het_breuschpagan\n",
    "import statsmodels.api as sm\n",
    "\n",
    "from patsy.contrasts import Treatment\n",
    "from patsy.contrasts import Sum"
   ]
  },
  {
   "cell_type": "markdown",
   "metadata": {},
   "source": [
    "## Warmup"
   ]
  },
  {
   "cell_type": "markdown",
   "metadata": {},
   "source": [
    "### Данные"
   ]
  },
  {
   "cell_type": "code",
   "execution_count": null,
   "metadata": {},
   "outputs": [],
   "source": [
    "rs = np.random.RandomState(42)\n",
    "X = rs.randn(1000, 2)\n",
    "w = np.array([1, 1])\n",
    "y = np.dot(X, w) + rs.randn(1000) * 0.1\n",
    "noise = rs.randn(1000)"
   ]
  },
  {
   "cell_type": "code",
   "execution_count": null,
   "metadata": {},
   "outputs": [],
   "source": [
    "plt.scatter(noise, y)\n",
    "plt.show()"
   ]
  },
  {
   "cell_type": "code",
   "execution_count": null,
   "metadata": {},
   "outputs": [],
   "source": [
    "plt.scatter(X[:, 0], y)\n",
    "plt.show()"
   ]
  },
  {
   "cell_type": "code",
   "execution_count": null,
   "metadata": {},
   "outputs": [],
   "source": [
    "plt.scatter(X[:, 1], y)\n",
    "plt.show()"
   ]
  },
  {
   "cell_type": "code",
   "execution_count": null,
   "metadata": {},
   "outputs": [],
   "source": [
    "plt.scatter(np.sum(X, 1), y)\n",
    "plt.show()"
   ]
  },
  {
   "cell_type": "markdown",
   "metadata": {},
   "source": [
    "### Линейная регрессия"
   ]
  },
  {
   "cell_type": "markdown",
   "metadata": {},
   "source": [
    "#### Модель без шума из одного признака"
   ]
  },
  {
   "cell_type": "markdown",
   "metadata": {},
   "source": [
    "##### Инициализация через аргументы"
   ]
  },
  {
   "cell_type": "code",
   "execution_count": null,
   "metadata": {},
   "outputs": [],
   "source": [
    "X.shape, y.shape"
   ]
  },
  {
   "cell_type": "code",
   "execution_count": null,
   "metadata": {},
   "outputs": [],
   "source": [
    "simple_model = OLS(y, X[:, 0]).fit()\n",
    "simple_model.summary()"
   ]
  },
  {
   "cell_type": "markdown",
   "metadata": {},
   "source": [
    "##### Инициализация через формулы"
   ]
  },
  {
   "cell_type": "code",
   "execution_count": null,
   "metadata": {},
   "outputs": [],
   "source": [
    "simple_model = OLS.from_formula('y ~ x1 - 1', {'y' : y, 'x1' : X[:, 0]}).fit()\n",
    "simple_model.summary()"
   ]
  },
  {
   "cell_type": "markdown",
   "metadata": {},
   "source": [
    "#### Модель шума"
   ]
  },
  {
   "cell_type": "code",
   "execution_count": null,
   "metadata": {},
   "outputs": [],
   "source": [
    "noise_model = OLS(y, noise).fit()\n",
    "noise_model.summary()"
   ]
  },
  {
   "cell_type": "markdown",
   "metadata": {},
   "source": [
    "#### Модель без шума из двух признаков"
   ]
  },
  {
   "cell_type": "code",
   "execution_count": null,
   "metadata": {},
   "outputs": [],
   "source": [
    "complex_model = OLS.from_formula('y ~ x1 + x2 - 1', {'y' :  y, 'x1' : X[:, 0], 'x2' : X[:, 1]}).fit()\n",
    "complex_model.summary()"
   ]
  },
  {
   "cell_type": "markdown",
   "metadata": {},
   "source": [
    "#### Сравнение вложенных моделей\n",
    "Каждый тест возвращает:\n",
    "\n",
    "- значение статистики (так как, мы исследуем важность только одного признака, F-критерий эквивалентен критерию Стьюдента для двусторонней альтернативы)\n",
    "- p-value\n",
    "- разница в количестве степеней свободы между моделями"
   ]
  },
  {
   "cell_type": "markdown",
   "metadata": {},
   "source": [
    "##### Критерий Фишера"
   ]
  },
  {
   "cell_type": "code",
   "execution_count": null,
   "metadata": {},
   "outputs": [],
   "source": [
    "complex_model.compare_f_test(simple_model)"
   ]
  },
  {
   "cell_type": "markdown",
   "metadata": {},
   "source": [
    "##### Критерий отношения правдоподобия ($H_0$: равенство правдоподобий двух моделей)"
   ]
  },
  {
   "cell_type": "code",
   "execution_count": null,
   "metadata": {},
   "outputs": [],
   "source": [
    "complex_model.compare_lr_test(simple_model)"
   ]
  },
  {
   "cell_type": "markdown",
   "metadata": {},
   "source": [
    "##### Критерий Бройша-Пагана (множителей Лагранжа)"
   ]
  },
  {
   "cell_type": "code",
   "execution_count": null,
   "metadata": {},
   "outputs": [],
   "source": [
    "complex_model.compare_lm_test(simple_model)"
   ]
  },
  {
   "cell_type": "markdown",
   "metadata": {},
   "source": [
    "Нулевая гипотеза об отсутствии влияния второго признака на целевую переменную отвергается"
   ]
  },
  {
   "cell_type": "markdown",
   "metadata": {},
   "source": [
    "#### Добавим шум"
   ]
  },
  {
   "cell_type": "code",
   "execution_count": null,
   "metadata": {},
   "outputs": [],
   "source": [
    "complex_model2 = OLS.from_formula('y ~ x1 + x2 + noise - 1',\n",
    "                                  {\n",
    "                                      'y' : y,\n",
    "                                      'noise' : noise,\n",
    "                                      'x1' : X[:, 0],\n",
    "                                      'x2' : X[:, 1]\n",
    "                                  }).fit()\n",
    "complex_model2.summary()"
   ]
  },
  {
   "cell_type": "code",
   "execution_count": null,
   "metadata": {},
   "outputs": [],
   "source": [
    "complex_model2.compare_lm_test(complex_model)"
   ]
  },
  {
   "cell_type": "code",
   "execution_count": null,
   "metadata": {},
   "outputs": [],
   "source": [
    "complex_model2.compare_lm_test(noise_model)"
   ]
  },
  {
   "cell_type": "code",
   "execution_count": null,
   "metadata": {},
   "outputs": [],
   "source": [
    "complex_model2.summary()"
   ]
  },
  {
   "cell_type": "code",
   "execution_count": null,
   "metadata": {},
   "outputs": [],
   "source": [
    "complex_model.summary()"
   ]
  },
  {
   "cell_type": "code",
   "execution_count": null,
   "metadata": {},
   "outputs": [],
   "source": [
    "noise_model.summary()"
   ]
  },
  {
   "cell_type": "markdown",
   "metadata": {},
   "source": [
    "### Выбор моделей: случай невложенных моделей"
   ]
  },
  {
   "cell_type": "code",
   "execution_count": null,
   "metadata": {},
   "outputs": [],
   "source": [
    "rs = np.random.RandomState(42)\n",
    "X = rs.randn(100)\n",
    "y = X**2 + rs.randn(100) * 0.1"
   ]
  },
  {
   "cell_type": "code",
   "execution_count": null,
   "metadata": {},
   "outputs": [],
   "source": [
    "plt.scatter(X, y)\n",
    "\n",
    "plt.show()"
   ]
  },
  {
   "cell_type": "code",
   "execution_count": null,
   "metadata": {},
   "outputs": [],
   "source": [
    "plt.scatter(X ** 2, y)\n",
    "plt.show()"
   ]
  },
  {
   "cell_type": "markdown",
   "metadata": {},
   "source": [
    "#### Линейная модель"
   ]
  },
  {
   "cell_type": "code",
   "execution_count": null,
   "metadata": {},
   "outputs": [],
   "source": [
    "model1 = OLS(y, X).fit()\n",
    "model1.summary()"
   ]
  },
  {
   "cell_type": "markdown",
   "metadata": {},
   "source": [
    "#### Квадратичная модель"
   ]
  },
  {
   "cell_type": "code",
   "execution_count": null,
   "metadata": {},
   "outputs": [],
   "source": [
    "model2 = OLS(y, X ** 2).fit()\n",
    "model2.summary()"
   ]
  },
  {
   "cell_type": "markdown",
   "metadata": {},
   "source": [
    "#### Предсказания моделей"
   ]
  },
  {
   "cell_type": "code",
   "execution_count": null,
   "metadata": {},
   "outputs": [],
   "source": [
    "y_predicted1 = model1.predict(X)\n",
    "y_predicted2 = model2.predict(X ** 2)"
   ]
  },
  {
   "cell_type": "code",
   "execution_count": null,
   "metadata": {},
   "outputs": [],
   "source": [
    "plt.scatter(y_predicted1, y - y_predicted1)\n",
    "plt.xlabel('$\\hat y_1$')\n",
    "_ = plt.ylabel('$\\epsilon$')\n",
    "plt.show()"
   ]
  },
  {
   "cell_type": "code",
   "execution_count": null,
   "metadata": {},
   "outputs": [],
   "source": [
    "plt.scatter(y_predicted2, y)\n",
    "plt.xlabel('$\\hat y_2$')\n",
    "plt.ylabel('y')\n",
    "plt.show()"
   ]
  },
  {
   "cell_type": "markdown",
   "metadata": {},
   "source": [
    "#### Критерий Давидсона-Маккиннона"
   ]
  },
  {
   "cell_type": "code",
   "execution_count": null,
   "metadata": {},
   "outputs": [],
   "source": [
    "data = {'y' : y, 'y1' : y_predicted1, 'y2': y_predicted2, 'X' : X, 'X2' : X ** 2}\n",
    "model1_with_y_2 = OLS.from_formula('y ~ y2 + X', data=data).fit()\n",
    "model2_with_y_1 = OLS.from_formula('y ~ y1 + X2', data=data).fit()"
   ]
  },
  {
   "cell_type": "code",
   "execution_count": null,
   "metadata": {},
   "outputs": [],
   "source": [
    "model1_with_y_2.summary()"
   ]
  },
  {
   "cell_type": "code",
   "execution_count": null,
   "metadata": {},
   "outputs": [],
   "source": [
    "model2_with_y_1.summary()"
   ]
  },
  {
   "cell_type": "markdown",
   "metadata": {},
   "source": [
    "### Кодирование категориальных переменных"
   ]
  },
  {
   "cell_type": "code",
   "execution_count": null,
   "metadata": {},
   "outputs": [],
   "source": [
    "rs = np.random.RandomState(42)\n",
    "\n",
    "data = [1] * 10 + [2] * 7 + [3] * 5\n",
    "rs.shuffle(data)\n",
    "data = np.array(data)\n",
    "data"
   ]
  },
  {
   "cell_type": "markdown",
   "metadata": {},
   "source": [
    "#### dummy"
   ]
  },
  {
   "cell_type": "code",
   "execution_count": null,
   "metadata": {},
   "outputs": [],
   "source": [
    "levels = [1, 2, 3]\n",
    "contrast = Treatment().code_without_intercept(levels)\n",
    "print(contrast.matrix)"
   ]
  },
  {
   "cell_type": "code",
   "execution_count": null,
   "metadata": {},
   "outputs": [],
   "source": [
    "contrast.matrix[data - 1]"
   ]
  },
  {
   "cell_type": "markdown",
   "metadata": {},
   "source": [
    "#### deviation"
   ]
  },
  {
   "cell_type": "code",
   "execution_count": null,
   "metadata": {},
   "outputs": [],
   "source": [
    "contrast = Sum().code_without_intercept(levels)\n",
    "print(contrast.matrix)"
   ]
  },
  {
   "cell_type": "code",
   "execution_count": null,
   "metadata": {},
   "outputs": [],
   "source": [
    "contrast.matrix[data - 1]"
   ]
  },
  {
   "cell_type": "markdown",
   "metadata": {},
   "source": [
    "### Метод Бокса-Кокса"
   ]
  },
  {
   "cell_type": "code",
   "execution_count": null,
   "metadata": {},
   "outputs": [],
   "source": [
    "rs = np.random.RandomState(42)\n",
    "y = rs.randn(100)\n",
    "print(np.array(y > 1).sum())"
   ]
  },
  {
   "cell_type": "markdown",
   "metadata": {},
   "source": [
    "#### Изменим хвост нормального распределения"
   ]
  },
  {
   "cell_type": "code",
   "execution_count": null,
   "metadata": {},
   "outputs": [],
   "source": [
    "_ = plt.hist(y)\n",
    "plt.show()"
   ]
  },
  {
   "cell_type": "code",
   "execution_count": null,
   "metadata": {},
   "outputs": [],
   "source": [
    "tails = (y) > 1\n",
    "y[tails] *= 1.45\n",
    "\n",
    "y = y - np.min(y) + 1\n",
    "_ = plt.hist(y)\n",
    "plt.show()"
   ]
  },
  {
   "cell_type": "code",
   "execution_count": null,
   "metadata": {},
   "outputs": [],
   "source": [
    "def add_titlebox(ax, text):\n",
    "    ax.text(.55, .8, text,\n",
    "            horizontalalignment='center',\n",
    "            transform=ax.transAxes,\n",
    "            bbox=dict(facecolor='white', alpha=0.6),\n",
    "            fontsize=12.5)\n",
    "    return ax\n",
    "\n",
    "fig, axes = plt.subplots(nrows=3, ncols=3, figsize=(9, 7))\n",
    "lambdas = [-5, -2, -1, -0.5, 0, 0.5, 1, 2, 5]\n",
    "for i, l in enumerate(lambdas):\n",
    "    axes[i // 3, i % 3].hist(st.boxcox(y, l))\n",
    "    add_titlebox(axes[i // 3, i % 3], 'lambda = ' + str(l))"
   ]
  },
  {
   "cell_type": "code",
   "execution_count": null,
   "metadata": {},
   "outputs": [],
   "source": [
    "for l in np.arange(-2.0,  2.0, 0.1):    \n",
    "    print(l, st.shapiro(st.boxcox(y, l)))"
   ]
  },
  {
   "cell_type": "code",
   "execution_count": null,
   "metadata": {},
   "outputs": [],
   "source": [
    "bc, l = st.boxcox(y)\n",
    "print(f'optimal lambda = {l}')\n",
    "print('Box-Cox transformed array:')\n",
    "print(bc)"
   ]
  },
  {
   "cell_type": "markdown",
   "metadata": {},
   "source": [
    "### Гетероскедастичность"
   ]
  },
  {
   "cell_type": "code",
   "execution_count": null,
   "metadata": {},
   "outputs": [],
   "source": [
    "rs = np.random.RandomState(42)\n",
    "X = rs.randn(100)\n",
    "X.sort()\n",
    "error = rs.randn(100) * 0.1 * np.arange(100)\n",
    "y = X + error\n",
    "y = y - np.min(y) + 1\n",
    "plt.scatter(X, y)\n",
    "plt.xlabel('X')\n",
    "plt.ylabel('y')\n",
    "plt.show()"
   ]
  },
  {
   "cell_type": "code",
   "execution_count": null,
   "metadata": {},
   "outputs": [],
   "source": [
    "model = OLS(y, X).fit()\n",
    "predicted = model.predict(X)\n",
    "plt.scatter(predicted, y - predicted)\n",
    "plt.xlabel('$\\hat y$')\n",
    "_ = plt.ylabel('$\\epsilon$')\n",
    "plt.show()"
   ]
  },
  {
   "cell_type": "markdown",
   "metadata": {},
   "source": [
    "### Преобразование Бокса-Кокса вручную"
   ]
  },
  {
   "cell_type": "code",
   "execution_count": null,
   "metadata": {},
   "outputs": [],
   "source": [
    "def W(y, lam):\n",
    "    return np.log(y) if lam == 0 else (y**lam - 1) / lam"
   ]
  },
  {
   "cell_type": "code",
   "execution_count": null,
   "metadata": {},
   "outputs": [],
   "source": [
    "for l in [-2, -1, -0.5, 0, 0.5, 1, 2]:\n",
    "    print(np.sum(W(y, l) - st.boxcox(y, l)))"
   ]
  },
  {
   "cell_type": "code",
   "execution_count": null,
   "metadata": {},
   "outputs": [],
   "source": [
    "fig, axes = plt.subplots(nrows=3, ncols=3, figsize=(9, 7))\n",
    "fig.suptitle('Residual from predicted y')\n",
    "\n",
    "model = OLS(y, X).fit()\n",
    "predicted = model.predict(X)\n",
    "axes[0, 0].scatter(predicted, y - predicted)\n",
    "axes[0, 0].set_ylim((-2, 50))\n",
    "add_titlebox(axes[0, 0], 'original')\n",
    "print(max(y))\n",
    "    \n",
    "lams = [-15, -10, -5, -1, -0.5, 0, 0.5, 1]\n",
    "for i, l in enumerate(lams):\n",
    "    i += 1\n",
    "    model = OLS(W(y, l), X).fit()\n",
    "    predicted = model.predict(X)\n",
    "    axes[i // 3, i % 3].scatter(predicted, W(y, l) - predicted)\n",
    "    add_titlebox(axes[i // 3, i % 3], 'lambda = ' + str(l))\n",
    "    axes[i // 3, i % 3].set_ylim((0, 50))"
   ]
  },
  {
   "cell_type": "code",
   "execution_count": null,
   "metadata": {},
   "outputs": [],
   "source": [
    "lams = np.arange(-5, 5, 0.1)\n",
    "r = []\n",
    "for l in lams:\n",
    "    model = OLS(W(y, l), X).fit()\n",
    "    r.append(np.log(model.mse_resid))\n",
    "plt.plot(lams, r)\n",
    "plt.xlabel('$\\lambda$')\n",
    "plt.ylabel('mse')\n",
    "plt.title('Mse from lambda ')\n",
    "lams[np.argmin(r)]"
   ]
  },
  {
   "cell_type": "markdown",
   "metadata": {},
   "source": [
    "#### Before"
   ]
  },
  {
   "cell_type": "code",
   "execution_count": null,
   "metadata": {},
   "outputs": [],
   "source": [
    "model = OLS(y, X).fit()\n",
    "print(model.mse_resid)"
   ]
  },
  {
   "cell_type": "code",
   "execution_count": null,
   "metadata": {},
   "outputs": [],
   "source": [
    "model.summary()"
   ]
  },
  {
   "cell_type": "markdown",
   "metadata": {},
   "source": [
    "#### After"
   ]
  },
  {
   "cell_type": "code",
   "execution_count": null,
   "metadata": {},
   "outputs": [],
   "source": [
    "bc, l = st.boxcox(y)\n",
    "model = OLS(bc, X).fit()\n",
    "print(l, model.mse_resid)"
   ]
  },
  {
   "cell_type": "code",
   "execution_count": null,
   "metadata": {},
   "outputs": [],
   "source": [
    "model.summary()"
   ]
  },
  {
   "cell_type": "code",
   "execution_count": null,
   "metadata": {},
   "outputs": [],
   "source": [
    "model = OLS(W(y, -5), X).fit()\n",
    "print(model.mse_resid)"
   ]
  },
  {
   "cell_type": "code",
   "execution_count": null,
   "metadata": {},
   "outputs": [],
   "source": [
    "model.summary()"
   ]
  },
  {
   "cell_type": "code",
   "execution_count": null,
   "metadata": {},
   "outputs": [],
   "source": [
    "plt.scatter(X, y)\n",
    "plt.show()"
   ]
  },
  {
   "cell_type": "code",
   "execution_count": null,
   "metadata": {},
   "outputs": [],
   "source": [
    "plt.scatter(st.boxcox(y)[0], X)\n",
    "plt.show()"
   ]
  },
  {
   "cell_type": "code",
   "execution_count": null,
   "metadata": {},
   "outputs": [],
   "source": [
    "plt.scatter(W(y, -5), X)\n",
    "plt.show()"
   ]
  },
  {
   "cell_type": "markdown",
   "metadata": {},
   "source": [
    "## Привлекательность и уровень заработной платы"
   ]
  },
  {
   "cell_type": "markdown",
   "metadata": {},
   "source": [
    "По 1260 опрошенным имеются следующие данные:\n",
    "\n",
    "* `wage` - заработная плата за час работы, $;\n",
    "* `exper` - опыт работы, лет;\n",
    "* `educ` - образование, лет;\n",
    "* `looks` - внешняя привлекательность, в баллах от 1 до 5;\n",
    "* бинарные признаки: \n",
    "    * `female` - пол, \n",
    "    * `married` - семейное положение, \n",
    "    * `goodhlth` - состояние здоровья (хорошее/плохое), \n",
    "    * `union` - членство в профсоюзе, \n",
    "    * `black` - цвет кожи (белый/чёрный), \n",
    "    * `service` - занятость в сфере обслуживания (да/нет).\n",
    "\n",
    "Требуется оценить влияние внешней привлекательности на уровень заработка с учётом всех остальных факторов.\n",
    "\n"
   ]
  },
  {
   "cell_type": "code",
   "execution_count": null,
   "metadata": {},
   "outputs": [],
   "source": [
    "data = pd.read_csv('data/beauty.csv', delimiter=';')\n",
    "data.head()"
   ]
  },
  {
   "cell_type": "code",
   "execution_count": null,
   "metadata": {},
   "outputs": [],
   "source": [
    "sns.pairplot(data[['wage ', 'exper', 'educ', 'looks']])\n",
    "plt.show()"
   ]
  },
  {
   "cell_type": "markdown",
   "metadata": {},
   "source": [
    "### Предобработка"
   ]
  },
  {
   "cell_type": "markdown",
   "metadata": {},
   "source": [
    "#### Распределение оценок привлекательности: "
   ]
  },
  {
   "cell_type": "code",
   "execution_count": null,
   "metadata": {},
   "outputs": [],
   "source": [
    "_ = plt.hist(data['looks'])\n",
    "plt.show()"
   ]
  },
  {
   "cell_type": "markdown",
   "metadata": {},
   "source": [
    "#### В группах looks=1 и looks=5 слишком мало наблюдений. Превратим признак looks в категориальный и закодируем с помощью фиктивных переменных:\n"
   ]
  },
  {
   "cell_type": "code",
   "execution_count": null,
   "metadata": {},
   "outputs": [],
   "source": [
    "data['below_avg'] = data['looks'].apply(lambda x: 1 if x < 3 else 0)\n",
    "data['above_avg'] = data['looks'].apply(lambda x: 1 if x > 3 else 0)\n",
    "looks = data.looks.copy()\n",
    "data.drop(columns='looks', inplace=True)\n",
    "\n",
    "data.head()"
   ]
  },
  {
   "cell_type": "markdown",
   "metadata": {},
   "source": [
    "#### Распределение значений отклика:"
   ]
  },
  {
   "cell_type": "code",
   "execution_count": null,
   "metadata": {},
   "outputs": [],
   "source": [
    "plt.figure(figsize=(16, 7))\n",
    "plt.subplot(121)\n",
    "data['wage '].plot.hist()\n",
    "plt.xlabel('wage', fontsize=14)\n",
    "\n",
    "plt.subplot(122)\n",
    "np.log(data['wage ']).plot.hist()\n",
    "plt.xlabel('Log wage', fontsize=14)\n",
    "plt.show()"
   ]
  },
  {
   "cell_type": "markdown",
   "metadata": {},
   "source": [
    "#### Уберем выброс"
   ]
  },
  {
   "cell_type": "code",
   "execution_count": null,
   "metadata": {},
   "outputs": [],
   "source": [
    "sns.boxplot(data=data['wage '])\n",
    "plt.show()"
   ]
  },
  {
   "cell_type": "code",
   "execution_count": null,
   "metadata": {},
   "outputs": [],
   "source": [
    "data = data[data['wage '] < 70]"
   ]
  },
  {
   "cell_type": "markdown",
   "metadata": {},
   "source": [
    "### Модель 0: Линейная регрессия зарплаты от всех признаков"
   ]
  },
  {
   "cell_type": "code",
   "execution_count": null,
   "metadata": {},
   "outputs": [],
   "source": [
    "feat_names = [f for f in data.columns if f not in ['wage ']]\n",
    "features = data[feat_names]\n",
    "formula0 = ' '.join(['wage ~', \n",
    "                    ' + '.join([f for f in feat_names])])\n",
    "formula0"
   ]
  },
  {
   "cell_type": "code",
   "execution_count": null,
   "metadata": {},
   "outputs": [],
   "source": [
    "data = data.rename(columns=dict(\n",
    "    zip(data.columns, list(\n",
    "        map(lambda x: x if x != 'wage ' else 'wage', data.columns)))))"
   ]
  },
  {
   "cell_type": "code",
   "execution_count": null,
   "metadata": {},
   "outputs": [],
   "source": [
    "model0 = sm.OLS.from_formula(formula0, data).fit()\n",
    "model0.summary()"
   ]
  },
  {
   "cell_type": "markdown",
   "metadata": {},
   "source": [
    "#### Проанализируем ошибки"
   ]
  },
  {
   "cell_type": "code",
   "execution_count": null,
   "metadata": {},
   "outputs": [],
   "source": [
    "plt.figure(figsize=(16, 7))\n",
    "plt.subplot(121)\n",
    "st.probplot(model0.resid, plot=plt)\n",
    "\n",
    "plt.subplot(122)\n",
    "model0.resid.plot.hist()\n",
    "plt.xlabel('Residuals', fontsize=14)\n",
    "plt.show()"
   ]
  },
  {
   "cell_type": "markdown",
   "metadata": {},
   "source": [
    "##### Бокса-Кокс"
   ]
  },
  {
   "cell_type": "code",
   "execution_count": null,
   "metadata": {},
   "outputs": [],
   "source": [
    "max(data['wage']) / min(data['wage'])"
   ]
  },
  {
   "cell_type": "markdown",
   "metadata": {},
   "source": [
    "$\\frac{max y}{min y} \\approx 40>10$, можем воспользоваться боксом коксом.\n",
    "\n",
    "Возьмём $λ=0$, то есть, будем строить регрессию логарифма отклика."
   ]
  },
  {
   "cell_type": "code",
   "execution_count": null,
   "metadata": {},
   "outputs": [],
   "source": [
    "log_wage = st.boxcox(data['wage'], 0)\n",
    "old_columns = list(data.columns)\n",
    "data1 = data.copy()\n",
    "data1['log_wage'] = log_wage"
   ]
  },
  {
   "cell_type": "code",
   "execution_count": null,
   "metadata": {},
   "outputs": [],
   "source": [
    "plt.hist(log_wage)\n",
    "plt.xlabel('Log wage', fontsize=14)\n",
    "plt.show()"
   ]
  },
  {
   "cell_type": "markdown",
   "metadata": {},
   "source": [
    "### Модель 1: зависимости логарифма заработка по всем признакам"
   ]
  },
  {
   "cell_type": "code",
   "execution_count": null,
   "metadata": {},
   "outputs": [],
   "source": [
    "features = data1[feat_names]\n",
    "formula1 = ' '.join(['log_wage ~', \n",
    "                    ' + '.join([f for f in feat_names])])\n",
    "print(formula1)"
   ]
  },
  {
   "cell_type": "code",
   "execution_count": null,
   "metadata": {},
   "outputs": [],
   "source": [
    "model1 = sm.OLS.from_formula(formula1, data1).fit()\n",
    "model1.summary()"
   ]
  },
  {
   "cell_type": "code",
   "execution_count": null,
   "metadata": {},
   "outputs": [],
   "source": [
    "plt.figure(figsize=(16, 7))\n",
    "plt.subplot(121)\n",
    "st.probplot(model1.resid, plot=plt)\n",
    "\n",
    "plt.subplot(122)\n",
    "model1.resid.plot.hist()\n",
    "_ = plt.xlabel('Residuals', fontsize=14)\n",
    "plt.show()"
   ]
  },
  {
   "cell_type": "markdown",
   "metadata": {},
   "source": [
    "#### Проверка гипотез по остаткам"
   ]
  },
  {
   "cell_type": "code",
   "execution_count": null,
   "metadata": {},
   "outputs": [],
   "source": [
    "print(f'Нормальность ошибок: {st.shapiro(model1.resid)}')\n",
    "print(f'Равенство распределений: {st.wilcoxon(model1.resid)}')\n",
    "print(f'Гомоскедастичность: {het_breuschpagan(model1.resid, features)}')"
   ]
  },
  {
   "cell_type": "markdown",
   "metadata": {},
   "source": [
    "#### Рассмотрим зависимость от опыта и образования (самое очевидное)"
   ]
  },
  {
   "cell_type": "code",
   "execution_count": null,
   "metadata": {},
   "outputs": [],
   "source": [
    "_ = sns.pairplot(pd.DataFrame({\n",
    "    'exper': features['exper'], \n",
    "    'educ': features['educ'], \n",
    "    'residuals': model1.resid\n",
    "}))"
   ]
  },
  {
   "cell_type": "code",
   "execution_count": null,
   "metadata": {},
   "outputs": [],
   "source": [
    "sns.residplot(x=features['exper'], \n",
    "              y=model1.resid,\n",
    "              lowess=True, \n",
    "              scatter_kws={'alpha': 0.5}, \n",
    "              line_kws={'color': 'red', 'lw': 1, 'alpha': 0.8})\n",
    "_ = plt.ylabel('residuals')"
   ]
  },
  {
   "cell_type": "markdown",
   "metadata": {},
   "source": [
    "### Модель 2: добавим в модель 1 квадрат опыта работы"
   ]
  },
  {
   "cell_type": "code",
   "execution_count": null,
   "metadata": {},
   "outputs": [],
   "source": [
    "exper2 = features['exper']**2\n",
    "old_columns = list(data1.columns)\n",
    "data2 = data1.copy()\n",
    "data2['exper2'] = exper2\n",
    "data2.head()"
   ]
  },
  {
   "cell_type": "code",
   "execution_count": null,
   "metadata": {},
   "outputs": [],
   "source": [
    "feat_names += ['exper2']"
   ]
  },
  {
   "cell_type": "code",
   "execution_count": null,
   "metadata": {},
   "outputs": [],
   "source": [
    "features = data2[feat_names]\n",
    "formula2 = ' '.join(['log_wage ~', \n",
    "                    ' + '.join([f for f in feat_names])])\n",
    "print(formula2)"
   ]
  },
  {
   "cell_type": "code",
   "execution_count": null,
   "metadata": {},
   "outputs": [],
   "source": [
    "model2 = sm.OLS.from_formula(formula2, data2).fit()\n",
    "model2.summary()"
   ]
  },
  {
   "cell_type": "code",
   "execution_count": null,
   "metadata": {},
   "outputs": [],
   "source": [
    "gridsize = (2, 2)\n",
    "fig = plt.figure(figsize=(16, 14))\n",
    "ax1 = plt.subplot2grid(gridsize, (0, 0))\n",
    "ax2 = plt.subplot2grid(gridsize, (0, 1))\n",
    "ax3 = plt.subplot2grid(gridsize, (1, 0))\n",
    "ax4 = plt.subplot2grid(gridsize, (1, 1))\n",
    "st.probplot(model2.resid, plot=ax1)\n",
    "\n",
    "model2.resid.plot.hist(ax=ax2)\n",
    "ax2.set_xlabel('Residuals')\n",
    "\n",
    "sns.residplot(x=features['exper'], \n",
    "              y=model2.resid,\n",
    "              lowess=True, \n",
    "              scatter_kws={'alpha': 0.5}, \n",
    "              line_kws={'color': 'red', 'lw': 1, 'alpha': 0.8},\n",
    "              ax=ax3)\n",
    "ax3.set_ylabel('residuals')\n",
    "sns.residplot(x=features['exper2'], \n",
    "              y=model2.resid,\n",
    "              lowess=True, \n",
    "              scatter_kws={'alpha': 0.5}, \n",
    "              line_kws={'color': 'red', 'lw': 1, 'alpha': 0.8},\n",
    "              ax=ax4)\n",
    "_ = ax4.set_ylabel('residuals')\n",
    "\n",
    "plt.show()"
   ]
  },
  {
   "cell_type": "markdown",
   "metadata": {},
   "source": [
    "#### Проверка гипотез по остаткам"
   ]
  },
  {
   "cell_type": "code",
   "execution_count": null,
   "metadata": {},
   "outputs": [],
   "source": [
    "print(f'Нормальность ошибок: {st.shapiro(model2.resid)}')\n",
    "print(f'Равенство распределений: {st.wilcoxon(model2.resid)}')\n",
    "print(f'Гомоскедастичность: {het_breuschpagan(model2.resid, features)}')"
   ]
  },
  {
   "cell_type": "markdown",
   "metadata": {},
   "source": [
    "Незначимые признаки: `goodhlth`, `black`, `married`, `above_avg`. Прежде, чем удалять лишние признаки, проверим, не входят ли они в значимые попарные взаимодействия:"
   ]
  },
  {
   "cell_type": "code",
   "execution_count": null,
   "metadata": {},
   "outputs": [],
   "source": [
    "for f1 in range(len(feat_names)):\n",
    "    for f2 in range(f1 + 1, len(feat_names)):\n",
    "        formula.append(feat_names[f1] + ':' + feat_names[f2])\n",
    "formula = ' + '.join(formula)\n",
    "formula"
   ]
  },
  {
   "cell_type": "code",
   "execution_count": null,
   "metadata": {},
   "outputs": [],
   "source": [
    "model_all = sm.OLS.from_formula(formula, data2).fit()\n",
    "\n",
    "anova = sm.stats.anova_lm(model_all)\n",
    "bad_names = []\n",
    "for id, p in enumerate(anova['PR(>F)']):\n",
    "    if p < 0.05:\n",
    "        print(anova.iloc[id].name, p)\n",
    "    else:\n",
    "        bad_names.append(anova.iloc[id].name)"
   ]
  },
  {
   "cell_type": "code",
   "execution_count": null,
   "metadata": {},
   "outputs": [],
   "source": [
    "_ = sns.pairplot(pd.DataFrame({\n",
    "    'exper': features['exper'], \n",
    "    'exper2': features['exper2'],\n",
    "    'educ': features['educ'], \n",
    "    'residuals': model_all.resid\n",
    "}))"
   ]
  },
  {
   "cell_type": "code",
   "execution_count": null,
   "metadata": {},
   "outputs": [],
   "source": [
    "plt.figure(figsize=(16, 7))\n",
    "plt.subplot(121)\n",
    "_ = st.probplot(model_all.resid, plot=plt)\n",
    "\n",
    "plt.subplot(122)\n",
    "_ = st.probplot(model2.resid, plot=plt)\n",
    "plt.show()"
   ]
  },
  {
   "cell_type": "markdown",
   "metadata": {},
   "source": [
    "### Модель 3: удалим из модели 2 незначимые признаки (`goodhlth`, `black`, `married`) и добавим межфакторное взаимодействие пола и опыта работы, при этом оставим `above_avg`, так как мы хотим оценить влияние внешней привлекательности на зарплату"
   ]
  },
  {
   "cell_type": "code",
   "execution_count": null,
   "metadata": {},
   "outputs": [],
   "source": [
    "bad_feats = ['goodhlth', 'black', 'married']\n",
    "formula3 = ' '.join(['log_wage ~', \n",
    "                    ' + '.join([f for f in features if f not in bad_feats] + ['exper:female'])])\n",
    "print(formula3)"
   ]
  },
  {
   "cell_type": "code",
   "execution_count": null,
   "metadata": {},
   "outputs": [],
   "source": [
    "model3 = sm.OLS.from_formula(formula3, data=data2).fit()\n",
    "model3.summary()"
   ]
  },
  {
   "cell_type": "markdown",
   "metadata": {},
   "source": [
    "#### Проверка гипотез по остаткам"
   ]
  },
  {
   "cell_type": "code",
   "execution_count": null,
   "metadata": {},
   "outputs": [],
   "source": [
    "print('Model 3')\n",
    "print(st.shapiro(model3.resid))\n",
    "print(st.wilcoxon(model3.resid))\n",
    "print('Model 2')\n",
    "print(st.shapiro(model2.resid))\n",
    "print(st.wilcoxon(model2.resid))"
   ]
  },
  {
   "cell_type": "code",
   "execution_count": null,
   "metadata": {},
   "outputs": [],
   "source": [
    "_ = sns.pairplot(pd.DataFrame({\n",
    "    'exper': features['exper'], \n",
    "    'educ': features['educ'], \n",
    "    'residuals': model3.resid\n",
    "}))"
   ]
  },
  {
   "cell_type": "code",
   "execution_count": null,
   "metadata": {},
   "outputs": [],
   "source": [
    "st.probplot(model3.resid, plot=plt)\n",
    "plt.show()"
   ]
  },
  {
   "cell_type": "code",
   "execution_count": null,
   "metadata": {},
   "outputs": [],
   "source": [
    "model2.compare_lr_test(model3), model2.compare_f_test(model3)"
   ]
  },
  {
   "cell_type": "markdown",
   "metadata": {},
   "source": [
    "### Модель 4: попробуем оставить в модели 2 цвет кожи и семейное положение, чтобы добавить их взаимодействия с полом. Как и в модели 3, добавим взаимодействие пола с опытом работы, а состояние здоровья удалим."
   ]
  },
  {
   "cell_type": "code",
   "execution_count": null,
   "metadata": {},
   "outputs": [],
   "source": [
    "bad_feats = ['goodhlth']\n",
    "add_feats = ['exper:female', 'black:female', 'married:female']\n",
    "formula4 = ' '.join(['log_wage ~', \n",
    "                    ' + '.join([f for f in features if f not in bad_feats] + add_feats)])\n",
    "print(formula4)"
   ]
  },
  {
   "cell_type": "code",
   "execution_count": null,
   "metadata": {},
   "outputs": [],
   "source": [
    "model4 = sm.OLS.from_formula(formula4, data=data2).fit()\n",
    "model4.summary()"
   ]
  },
  {
   "cell_type": "markdown",
   "metadata": {},
   "source": [
    "#### Проверка гипотез по остаткам"
   ]
  },
  {
   "cell_type": "code",
   "execution_count": null,
   "metadata": {},
   "outputs": [],
   "source": [
    "print(st.shapiro(model4.resid))\n",
    "print(st.wilcoxon(model4.resid))"
   ]
  },
  {
   "cell_type": "code",
   "execution_count": null,
   "metadata": {},
   "outputs": [],
   "source": [
    "_ = sns.pairplot(pd.DataFrame({\n",
    "    'exper': features['exper'], \n",
    "    'looks': looks,\n",
    "    'residuals': model4.resid\n",
    "}))\n",
    "plt.show()"
   ]
  },
  {
   "cell_type": "code",
   "execution_count": null,
   "metadata": {},
   "outputs": [],
   "source": [
    "plt.figure(figsize=(16, 7))\n",
    "plt.subplot(121)\n",
    "_ = st.probplot(model4.resid, plot=plt)\n",
    "\n",
    "plt.subplot(122)\n",
    "_ = st.probplot(model3.resid, plot=plt)\n",
    "plt.show()"
   ]
  },
  {
   "cell_type": "markdown",
   "metadata": {},
   "source": [
    "### Модель 5: в предыдущей модели семейное положение незначимо; посмотрим, можно ли удалить его"
   ]
  },
  {
   "cell_type": "code",
   "execution_count": null,
   "metadata": {},
   "outputs": [],
   "source": [
    "bad_feats = ['goodhlth', 'married']\n",
    "add_feats = ['exper:female', 'black:female', 'married:female']\n",
    "formula5 = ' '.join(['log_wage ~', \n",
    "                    ' + '.join([f for f in features if f not in bad_feats] + add_feats)])\n",
    "print(formula5)"
   ]
  },
  {
   "cell_type": "code",
   "execution_count": null,
   "metadata": {},
   "outputs": [],
   "source": [
    "model5 = sm.OLS.from_formula(formula5, data=data2).fit()\n",
    "model5.summary()"
   ]
  },
  {
   "cell_type": "markdown",
   "metadata": {},
   "source": [
    "#### Проверка гипотез по остаткам"
   ]
  },
  {
   "cell_type": "code",
   "execution_count": null,
   "metadata": {},
   "outputs": [],
   "source": [
    "print('Model 5')\n",
    "print(st.shapiro(model5.resid))\n",
    "print(st.wilcoxon(model5.resid))\n",
    "\n",
    "print('Model 4')\n",
    "print(st.shapiro(model4.resid))\n",
    "print(st.wilcoxon(model4.resid))"
   ]
  },
  {
   "cell_type": "code",
   "execution_count": null,
   "metadata": {},
   "outputs": [],
   "source": [
    "plt.figure(figsize=(16, 7))\n",
    "plt.subplot(121)\n",
    "_ = st.probplot(model4.resid, plot=plt)\n",
    "\n",
    "plt.subplot(122)\n",
    "_ = st.probplot(model5.resid, plot=plt)\n",
    "plt.show()"
   ]
  },
  {
   "cell_type": "markdown",
   "metadata": {},
   "source": [
    "##### Модель 5 по остаткам немного хуже"
   ]
  },
  {
   "cell_type": "markdown",
   "metadata": {},
   "source": [
    "### Расстояние Кука\n",
    "Посмотрим на влиятельные наблюдения: \n",
    "    "
   ]
  },
  {
   "cell_type": "code",
   "execution_count": null,
   "metadata": {},
   "outputs": [],
   "source": [
    "cook = model4.get_influence().summary_frame().loc[:,'cooks_d']"
   ]
  },
  {
   "cell_type": "code",
   "execution_count": null,
   "metadata": {},
   "outputs": [],
   "source": [
    "plt.scatter(data2['log_wage'], cook)\n",
    "plt.xlim((0,4))\n",
    "plt.ylim((-0.01, 0.05))\n",
    "plt.show()"
   ]
  },
  {
   "cell_type": "code",
   "execution_count": null,
   "metadata": {},
   "outputs": [],
   "source": [
    "data3 = data2[cook < 0.015]\n",
    "data3.shape"
   ]
  },
  {
   "cell_type": "code",
   "execution_count": null,
   "metadata": {},
   "outputs": [],
   "source": [
    "model6 = sm.OLS.from_formula(formula4, data=data3).fit()\n",
    "model6.summary()"
   ]
  },
  {
   "cell_type": "markdown",
   "metadata": {},
   "source": [
    "#### Проверка нормальности остатков"
   ]
  },
  {
   "cell_type": "code",
   "execution_count": null,
   "metadata": {},
   "outputs": [],
   "source": [
    "print(st.shapiro(model6.resid))\n",
    "print(st.shapiro(model4.resid))"
   ]
  },
  {
   "cell_type": "code",
   "execution_count": null,
   "metadata": {},
   "outputs": [],
   "source": [
    "plt.figure(figsize=(16, 7))\n",
    "\n",
    "plt.subplot(121)\n",
    "plt.scatter(np.exp(model6.predict(data3)), data3['wage'])\n",
    "plt.xlabel('wage', fontsize=14)\n",
    "plt.ylabel('exp(predictions)', fontsize=14)\n",
    "\n",
    "plt.subplot(122)\n",
    "plt.scatter(model6.predict(data3), data3['log_wage'])\n",
    "plt.xlabel('log wage', fontsize=14)\n",
    "_ = plt.ylabel('predictions', fontsize=14)\n",
    "plt.show()"
   ]
  },
  {
   "cell_type": "markdown",
   "metadata": {},
   "source": [
    "### Итого\n",
    "\n",
    "- Итоговая модель (№6) объясняет 43% вариации логарифма отклика\n",
    "- Коэффициент при `below_avg`: -0.13 => человек, привлекательность которого ниже среднего, получает зарплату на 13% ниже, в среднем ($p=0.001$, 95%-й доверительный интервал: \\[5,21\\]%)\n",
    "- Коэффициент при `above_avg`: -0.042 => человек, привлекательность которого выше среднего, примерно такую же, сколько и люди со средним уровнем привлекательности ($p =  0.884$, 95%-й доверительный интервал: \\[-6, 6\\]%), признак неинформативен"
   ]
  }
 ],
 "metadata": {
  "celltoolbar": "Raw Cell Format",
  "kernelspec": {
   "display_name": "Python 3",
   "language": "python",
   "name": "python3"
  },
  "language_info": {
   "codemirror_mode": {
    "name": "ipython",
    "version": 3
   },
   "file_extension": ".py",
   "mimetype": "text/x-python",
   "name": "python",
   "nbconvert_exporter": "python",
   "pygments_lexer": "ipython3",
   "version": "3.7.3"
  }
 },
 "nbformat": 4,
 "nbformat_minor": 4
}
