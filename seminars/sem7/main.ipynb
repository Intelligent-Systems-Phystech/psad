{
  "cells": [
    {
      "cell_type": "markdown",
      "metadata": {
        "id": "cZ8d5C6w9GEZ"
      },
      "source": [
        "# Регрессионный анализ"
      ]
    },
    {
      "cell_type": "markdown",
      "metadata": {
        "id": "OyDPu7jd9GEf"
      },
      "source": [
        "## Библиотеки"
      ]
    },
    {
      "cell_type": "code",
      "execution_count": null,
      "metadata": {
        "id": "taZApETs9GEg"
      },
      "outputs": [],
      "source": [
        "import numpy as np\n",
        "import scipy.stats as st\n",
        "import matplotlib.pylab as plt\n",
        "import pandas as pd\n",
        "import seaborn as sns\n",
        "from statsmodels.regression.linear_model import OLS\n",
        "from statsmodels.stats.diagnostic import het_breuschpagan\n",
        "import statsmodels.api as sm\n",
        "\n",
        "from patsy.contrasts import Treatment\n",
        "from patsy.contrasts import Sum"
      ]
    },
    {
      "cell_type": "markdown",
      "metadata": {
        "id": "_A7v3K9D9GEi"
      },
      "source": [
        "## Warmup"
      ]
    },
    {
      "cell_type": "markdown",
      "metadata": {
        "id": "JYhJUmk-9GEi"
      },
      "source": [
        "### Данные"
      ]
    },
    {
      "cell_type": "code",
      "execution_count": null,
      "metadata": {
        "id": "aUmVB5Er9GEi"
      },
      "outputs": [],
      "source": [
        "rs = np.random.RandomState(42)\n",
        "X = rs.randn(1000, 2)\n",
        "w = np.array([1, 1])\n",
        "y = np.dot(X, w) + rs.randn(1000) * 0.1\n",
        "noise = rs.randn(1000)"
      ]
    },
    {
      "cell_type": "code",
      "execution_count": null,
      "metadata": {
        "id": "LDrTRgpX9GEj"
      },
      "outputs": [],
      "source": [
        "plt.scatter(noise, y)\n",
        "plt.show()"
      ]
    },
    {
      "cell_type": "code",
      "execution_count": null,
      "metadata": {
        "id": "IYno6Yvn9GEj"
      },
      "outputs": [],
      "source": [
        "plt.scatter(X[:, 0], y)\n",
        "plt.show()"
      ]
    },
    {
      "cell_type": "code",
      "execution_count": null,
      "metadata": {
        "id": "W_wHdYLk9GEk"
      },
      "outputs": [],
      "source": [
        "plt.scatter(X[:, 1], y)\n",
        "plt.show()"
      ]
    },
    {
      "cell_type": "code",
      "execution_count": null,
      "metadata": {
        "id": "_aA5iLtJ9GEm"
      },
      "outputs": [],
      "source": [
        "plt.scatter(np.sum(X, 1), y)\n",
        "plt.show()"
      ]
    },
    {
      "cell_type": "markdown",
      "metadata": {
        "id": "Rjt-0xpu9GEn"
      },
      "source": [
        "### Линейная регрессия"
      ]
    },
    {
      "cell_type": "markdown",
      "metadata": {
        "id": "bx7U76pU9GEn"
      },
      "source": [
        "#### Модель без шума из одного признака"
      ]
    },
    {
      "cell_type": "markdown",
      "metadata": {
        "id": "L6jKgsyE9GEp"
      },
      "source": [
        "##### Инициализация через аргументы"
      ]
    },
    {
      "cell_type": "code",
      "execution_count": null,
      "metadata": {
        "id": "A2Z3Tz_59GEp"
      },
      "outputs": [],
      "source": [
        "X.shape, y.shape"
      ]
    },
    {
      "cell_type": "code",
      "execution_count": null,
      "metadata": {
        "id": "P-gQRSe59GEq"
      },
      "outputs": [],
      "source": [
        "simple_model = OLS(y, X[:, 0]).fit()\n",
        "simple_model.summary()"
      ]
    },
    {
      "cell_type": "markdown",
      "metadata": {
        "id": "6cFQBIEg9GEq"
      },
      "source": [
        "##### Инициализация через формулы"
      ]
    },
    {
      "cell_type": "code",
      "execution_count": null,
      "metadata": {
        "id": "IEf-W0H-9GEr"
      },
      "outputs": [],
      "source": [
        "simple_model = OLS.from_formula('y ~ x1 - 1', {'y' : y, 'x1' : X[:, 0]}, ).fit()\n",
        "simple_model.summary()"
      ]
    },
    {
      "cell_type": "markdown",
      "metadata": {
        "id": "lncoWD_H9GEs"
      },
      "source": [
        "#### Модель шума"
      ]
    },
    {
      "cell_type": "code",
      "execution_count": null,
      "metadata": {
        "id": "h2wZTERt9GEt"
      },
      "outputs": [],
      "source": [
        "noise_model = OLS(y, noise).fit()\n",
        "noise_model.summary()"
      ]
    },
    {
      "cell_type": "markdown",
      "metadata": {
        "id": "NRibSAW19GEu"
      },
      "source": [
        "#### Модель без шума из двух признаков"
      ]
    },
    {
      "cell_type": "code",
      "execution_count": null,
      "metadata": {
        "id": "Z0GtSvm-9GEv"
      },
      "outputs": [],
      "source": [
        "complex_model = OLS.from_formula('y ~ x1 + x2 - 1', {'y' :  y, 'x1' : X[:, 0], 'x2' : X[:, 1]}).fit()\n",
        "complex_model.summary()"
      ]
    },
    {
      "cell_type": "markdown",
      "metadata": {
        "id": "ulkZOXFS9GEv"
      },
      "source": [
        "#### Сравнение вложенных моделей\n",
        "Каждый тест возвращает:\n",
        "\n",
        "- значение статистики (так как, мы исследуем важность только одного признака, F-критерий эквивалентен критерию Стьюдента для двусторонней альтернативы)\n",
        "- p-value\n",
        "- разница в количестве степеней свободы между моделями"
      ]
    },
    {
      "cell_type": "markdown",
      "metadata": {
        "id": "Lj8zdidE9GEv"
      },
      "source": [
        "##### Критерий Фишера"
      ]
    },
    {
      "cell_type": "code",
      "execution_count": null,
      "metadata": {
        "id": "WHKLCq2J9GEw"
      },
      "outputs": [],
      "source": [
        "complex_model.compare_f_test(simple_model)"
      ]
    },
    {
      "cell_type": "markdown",
      "metadata": {
        "id": "Ctl0gt279GEw"
      },
      "source": [
        "##### Критерий отношения правдоподобия ($H_0$: равенство правдоподобий двух моделей)"
      ]
    },
    {
      "cell_type": "code",
      "execution_count": null,
      "metadata": {
        "id": "Ww2BfC0C9GEx"
      },
      "outputs": [],
      "source": [
        "complex_model.compare_lr_test(simple_model)"
      ]
    },
    {
      "cell_type": "markdown",
      "metadata": {
        "id": "cbWasgF39GEx"
      },
      "source": [
        "##### Критерий Бройша-Пагана (множителей Лагранжа)"
      ]
    },
    {
      "cell_type": "code",
      "execution_count": null,
      "metadata": {
        "id": "qQyHzMcM9GEx"
      },
      "outputs": [],
      "source": [
        "complex_model.compare_lm_test(simple_model)"
      ]
    },
    {
      "cell_type": "markdown",
      "metadata": {
        "id": "t4ZWXw-f9GEy"
      },
      "source": [
        "Нулевая гипотеза об отсутствии влияния второго признака на целевую переменную отвергается"
      ]
    },
    {
      "cell_type": "markdown",
      "metadata": {
        "id": "oQyxpKOc9GEy"
      },
      "source": [
        "#### Добавим шум"
      ]
    },
    {
      "cell_type": "code",
      "execution_count": null,
      "metadata": {
        "id": "VCo57Yx99GEy"
      },
      "outputs": [],
      "source": [
        "complex_model2 = OLS.from_formula('y ~ x1 + x2 + noise - 1',\n",
        "                                  {\n",
        "                                      'y' : y,\n",
        "                                      'noise' : noise,\n",
        "                                      'x1' : X[:, 0],\n",
        "                                      'x2' : X[:, 1]\n",
        "                                  }).fit()\n",
        "complex_model2.summary()"
      ]
    },
    {
      "cell_type": "code",
      "execution_count": null,
      "metadata": {
        "id": "qbjzAP-w9GEz"
      },
      "outputs": [],
      "source": [
        "complex_model2.compare_lm_test(complex_model)"
      ]
    },
    {
      "cell_type": "code",
      "execution_count": null,
      "metadata": {
        "id": "KuLC0WMZ9GE0"
      },
      "outputs": [],
      "source": [
        "complex_model2.compare_lm_test(noise_model)"
      ]
    },
    {
      "cell_type": "code",
      "execution_count": null,
      "metadata": {
        "id": "PH7cDjRG9GE1"
      },
      "outputs": [],
      "source": [
        "complex_model2.summary()"
      ]
    },
    {
      "cell_type": "code",
      "execution_count": null,
      "metadata": {
        "id": "bUO4gnTC9GE3"
      },
      "outputs": [],
      "source": [
        "complex_model.summary()"
      ]
    },
    {
      "cell_type": "code",
      "execution_count": null,
      "metadata": {
        "id": "m3fVb0WT9GE4"
      },
      "outputs": [],
      "source": [
        "noise_model.summary()"
      ]
    },
    {
      "cell_type": "markdown",
      "metadata": {
        "id": "pMasd5wC9GE4"
      },
      "source": [
        "### Выбор моделей: случай невложенных моделей"
      ]
    },
    {
      "cell_type": "code",
      "execution_count": null,
      "metadata": {
        "id": "ZkoUPbFF9GE5"
      },
      "outputs": [],
      "source": [
        "rs = np.random.RandomState(42)\n",
        "X = rs.randn(100)\n",
        "y = X**2 + rs.randn(100) * 0.1"
      ]
    },
    {
      "cell_type": "code",
      "execution_count": null,
      "metadata": {
        "id": "xh1ucM7H9GE5"
      },
      "outputs": [],
      "source": [
        "plt.scatter(X, y)\n",
        "\n",
        "plt.show()"
      ]
    },
    {
      "cell_type": "code",
      "execution_count": null,
      "metadata": {
        "id": "1cIbz9vI9GE6"
      },
      "outputs": [],
      "source": [
        "plt.scatter(X ** 2, y)\n",
        "plt.show()"
      ]
    },
    {
      "cell_type": "markdown",
      "metadata": {
        "id": "6V48Nd8n9GE7"
      },
      "source": [
        "#### Линейная модель"
      ]
    },
    {
      "cell_type": "code",
      "execution_count": null,
      "metadata": {
        "id": "pYSBxJ8r9GE8"
      },
      "outputs": [],
      "source": [
        "model1 = OLS(y, X).fit()\n",
        "model1.summary()"
      ]
    },
    {
      "cell_type": "markdown",
      "metadata": {
        "id": "dNAQGuwW9GE9"
      },
      "source": [
        "#### Квадратичная модель"
      ]
    },
    {
      "cell_type": "code",
      "execution_count": null,
      "metadata": {
        "id": "kfk74WjI9GE-"
      },
      "outputs": [],
      "source": [
        "model2 = OLS(y, X ** 2).fit()\n",
        "model2.summary()"
      ]
    },
    {
      "cell_type": "markdown",
      "metadata": {
        "id": "ktWUi1G79GE-"
      },
      "source": [
        "#### Предсказания моделей"
      ]
    },
    {
      "cell_type": "code",
      "execution_count": null,
      "metadata": {
        "id": "imJp83dP9GE-"
      },
      "outputs": [],
      "source": [
        "y_predicted1 = model1.predict(X)\n",
        "y_predicted2 = model2.predict(X ** 2)"
      ]
    },
    {
      "cell_type": "code",
      "execution_count": null,
      "metadata": {
        "id": "b7XdDQhi9GE_"
      },
      "outputs": [],
      "source": [
        "plt.scatter(y_predicted1, y - y_predicted1)\n",
        "plt.xlabel('$\\hat y_1$')\n",
        "_ = plt.ylabel('$\\epsilon$')\n",
        "plt.show()"
      ]
    },
    {
      "cell_type": "code",
      "execution_count": null,
      "metadata": {
        "id": "TwUwrETk9GE_"
      },
      "outputs": [],
      "source": [
        "plt.scatter(y_predicted2, y)\n",
        "plt.xlabel('$\\hat y_2$')\n",
        "plt.ylabel('y')\n",
        "plt.show()"
      ]
    },
    {
      "cell_type": "markdown",
      "metadata": {
        "id": "nypOKWJK9GFA"
      },
      "source": [
        "#### Критерий Давидсона-Маккиннона"
      ]
    },
    {
      "cell_type": "code",
      "execution_count": null,
      "metadata": {
        "id": "4X8s8JY49GFA"
      },
      "outputs": [],
      "source": [
        "data = {'y' : y, 'y1' : y_predicted1, 'y2': y_predicted2, 'X' : X, 'X2' : X ** 2}\n",
        "model1_with_y_2 = OLS.from_formula('y ~ y2 + X', data=data).fit()\n",
        "model2_with_y_1 = OLS.from_formula('y ~ y1 + X2', data=data).fit()"
      ]
    },
    {
      "cell_type": "code",
      "execution_count": null,
      "metadata": {
        "id": "z6AKlYPV9GFB"
      },
      "outputs": [],
      "source": [
        "model1_with_y_2.summary()"
      ]
    },
    {
      "cell_type": "code",
      "execution_count": null,
      "metadata": {
        "id": "yFQ4V-K69GFC"
      },
      "outputs": [],
      "source": [
        "model2_with_y_1.summary()"
      ]
    },
    {
      "cell_type": "markdown",
      "metadata": {
        "id": "W8q4VnLh9GFC"
      },
      "source": [
        "### Кодирование категориальных переменных"
      ]
    },
    {
      "cell_type": "code",
      "execution_count": null,
      "metadata": {
        "id": "6fIk_3aD9GFC"
      },
      "outputs": [],
      "source": [
        "rs = np.random.RandomState(42)\n",
        "\n",
        "data = [1] * 10 + [2] * 7 + [3] * 5\n",
        "rs.shuffle(data)\n",
        "data = np.array(data)\n",
        "data"
      ]
    },
    {
      "cell_type": "markdown",
      "metadata": {
        "id": "GV5OYxxg9GFC"
      },
      "source": [
        "#### dummy"
      ]
    },
    {
      "cell_type": "code",
      "execution_count": null,
      "metadata": {
        "id": "IwZVEi1C9GFD"
      },
      "outputs": [],
      "source": [
        "levels = [1, 2, 3]\n",
        "contrast = Treatment().code_without_intercept(levels)\n",
        "print(contrast.matrix)"
      ]
    },
    {
      "cell_type": "code",
      "execution_count": null,
      "metadata": {
        "id": "YdFhJwWh9GFD"
      },
      "outputs": [],
      "source": [
        "contrast.matrix[data - 1]"
      ]
    },
    {
      "cell_type": "markdown",
      "metadata": {
        "id": "SRF1aiR19GFF"
      },
      "source": [
        "#### deviation"
      ]
    },
    {
      "cell_type": "code",
      "execution_count": null,
      "metadata": {
        "id": "xgzCSLlz9GFF"
      },
      "outputs": [],
      "source": [
        "contrast = Sum().code_without_intercept(levels)\n",
        "print(contrast.matrix)"
      ]
    },
    {
      "cell_type": "code",
      "execution_count": null,
      "metadata": {
        "id": "IyguuNVB9GFG"
      },
      "outputs": [],
      "source": [
        "contrast.matrix[data - 1]"
      ]
    },
    {
      "cell_type": "markdown",
      "metadata": {
        "id": "FiAOFpXk9GFG"
      },
      "source": [
        "### Метод Бокса-Кокса"
      ]
    },
    {
      "cell_type": "code",
      "execution_count": null,
      "metadata": {
        "id": "t78oKFyL9GFG"
      },
      "outputs": [],
      "source": [
        "rs = np.random.RandomState(42)\n",
        "y = rs.randn(100)\n",
        "print(np.array(y > 1).sum())"
      ]
    },
    {
      "cell_type": "markdown",
      "metadata": {
        "id": "BGEF9ExZ9GFH"
      },
      "source": [
        "#### Изменим хвост нормального распределения"
      ]
    },
    {
      "cell_type": "code",
      "execution_count": null,
      "metadata": {
        "id": "hJYkZbay9GFH"
      },
      "outputs": [],
      "source": [
        "_ = plt.hist(y)\n",
        "plt.show()"
      ]
    },
    {
      "cell_type": "code",
      "execution_count": null,
      "metadata": {
        "id": "OQ8HLLjm9GFI"
      },
      "outputs": [],
      "source": [
        "tails = (y) > 1\n",
        "y[tails] *= 1.45\n",
        "\n",
        "y = y - np.min(y) + 1\n",
        "_ = plt.hist(y)\n",
        "plt.show()"
      ]
    },
    {
      "cell_type": "code",
      "execution_count": null,
      "metadata": {
        "id": "ALQXf-rI9GFI"
      },
      "outputs": [],
      "source": [
        "def add_titlebox(ax, text):\n",
        "    ax.text(.55, .8, text,\n",
        "            horizontalalignment='center',\n",
        "            transform=ax.transAxes,\n",
        "            bbox=dict(facecolor='white', alpha=0.6),\n",
        "            fontsize=12.5)\n",
        "    return ax\n",
        "\n",
        "fig, axes = plt.subplots(nrows=3, ncols=3, figsize=(9, 7))\n",
        "lambdas = [-5, -2, -1, -0.5, 0, 0.5, 1, 2, 5]\n",
        "for i, l in enumerate(lambdas):\n",
        "    axes[i // 3, i % 3].hist(st.boxcox(y, l))\n",
        "    add_titlebox(axes[i // 3, i % 3], 'lambda = ' + str(l))"
      ]
    },
    {
      "cell_type": "code",
      "execution_count": null,
      "metadata": {
        "id": "OS1tc5M19GFI"
      },
      "outputs": [],
      "source": [
        "for l in np.arange(-2.0,  2.0, 0.1):    \n",
        "    print(l, st.shapiro(st.boxcox(y, l)))"
      ]
    },
    {
      "cell_type": "code",
      "execution_count": null,
      "metadata": {
        "id": "uJVtlubU9GFJ"
      },
      "outputs": [],
      "source": [
        "bc, l = st.boxcox(y)\n",
        "print(f'optimal lambda = {l}')\n",
        "print('Box-Cox transformed array:')\n",
        "print(bc)"
      ]
    },
    {
      "cell_type": "markdown",
      "metadata": {
        "id": "o-KRR9FF9GFJ"
      },
      "source": [
        "### Гетероскедастичность"
      ]
    },
    {
      "cell_type": "code",
      "execution_count": null,
      "metadata": {
        "id": "-VNlqx4b9GFK"
      },
      "outputs": [],
      "source": [
        "rs = np.random.RandomState(42)\n",
        "X = rs.randn(100)\n",
        "X.sort()\n",
        "error = rs.randn(100) * 0.1 * np.arange(100)\n",
        "y = X + error\n",
        "y = y - np.min(y) + 1\n",
        "plt.scatter(X, y)\n",
        "plt.xlabel('X')\n",
        "plt.ylabel('y')\n",
        "plt.show()"
      ]
    },
    {
      "cell_type": "code",
      "execution_count": null,
      "metadata": {
        "id": "q97YYISV9GFL"
      },
      "outputs": [],
      "source": [
        "model = OLS(y, X).fit()\n",
        "predicted = model.predict(X)\n",
        "plt.scatter(predicted, y - predicted)\n",
        "plt.xlabel('$\\hat y$')\n",
        "_ = plt.ylabel('$\\epsilon$')\n",
        "plt.show()"
      ]
    },
    {
      "cell_type": "markdown",
      "metadata": {
        "id": "Smesww2t9GFL"
      },
      "source": [
        "### Преобразование Бокса-Кокса вручную"
      ]
    },
    {
      "cell_type": "code",
      "execution_count": null,
      "metadata": {
        "id": "3S9QgHld9GFL"
      },
      "outputs": [],
      "source": [
        "def W(y, lam):\n",
        "    return np.log(y) if lam == 0 else (y**lam - 1) / lam"
      ]
    },
    {
      "cell_type": "markdown",
      "source": [
        ""
      ],
      "metadata": {
        "id": "dOcLuTFeZany"
      }
    },
    {
      "cell_type": "code",
      "execution_count": null,
      "metadata": {
        "id": "1V6HvXmt9GFM"
      },
      "outputs": [],
      "source": [
        "for l in [-2, -1, -0.5, 0, 0.5, 1, 2]:\n",
        "    print(np.sum(W(y, l) - st.boxcox(y, l)))"
      ]
    },
    {
      "cell_type": "code",
      "execution_count": null,
      "metadata": {
        "id": "Diq2eniz9GFM"
      },
      "outputs": [],
      "source": [
        "fig, axes = plt.subplots(nrows=3, ncols=3, figsize=(9, 7))\n",
        "fig.suptitle('Residual from predicted y')\n",
        "\n",
        "model = OLS(y, X).fit()\n",
        "predicted = model.predict(X)\n",
        "axes[0, 0].scatter(predicted, y - predicted)\n",
        "axes[0, 0].set_ylim((-2, 50))\n",
        "add_titlebox(axes[0, 0], 'original')\n",
        "print(max(y))\n",
        "    \n",
        "lams = [-15, -10, -5, -1, -0.5, 0, 0.5, 1]\n",
        "for i, l in enumerate(lams):\n",
        "    i += 1\n",
        "    model = OLS(W(y, l), X).fit()\n",
        "    predicted = model.predict(X)\n",
        "    axes[i // 3, i % 3].scatter(predicted, W(y, l) - predicted)\n",
        "    add_titlebox(axes[i // 3, i % 3], 'lambda = ' + str(l))\n",
        "    axes[i // 3, i % 3].set_ylim((0, 50))"
      ]
    },
    {
      "cell_type": "code",
      "execution_count": null,
      "metadata": {
        "id": "-xsX9etN9GFN"
      },
      "outputs": [],
      "source": [
        "lams = np.arange(-5, 5, 0.1)\n",
        "r = []\n",
        "for l in lams:\n",
        "    model = OLS(W(y, l), X).fit()\n",
        "    r.append(np.log(model.mse_resid))\n",
        "plt.plot(lams, r)\n",
        "plt.xlabel('$\\lambda$')\n",
        "plt.ylabel('mse')\n",
        "plt.title('Mse from lambda ')\n",
        "lams[np.argmin(r)]"
      ]
    },
    {
      "cell_type": "markdown",
      "metadata": {
        "id": "AjJhlDvG9GFO"
      },
      "source": [
        "#### Before"
      ]
    },
    {
      "cell_type": "code",
      "execution_count": null,
      "metadata": {
        "id": "Ot3dhQ389GFO"
      },
      "outputs": [],
      "source": [
        "model = OLS(y, X).fit()\n",
        "print(model.mse_resid)"
      ]
    },
    {
      "cell_type": "code",
      "execution_count": null,
      "metadata": {
        "id": "8X3M5fqF9GFO"
      },
      "outputs": [],
      "source": [
        "model.summary()"
      ]
    },
    {
      "cell_type": "markdown",
      "metadata": {
        "id": "jVhe79zL9GFO"
      },
      "source": [
        "#### After"
      ]
    },
    {
      "cell_type": "code",
      "execution_count": null,
      "metadata": {
        "id": "fhgGShDw9GFP"
      },
      "outputs": [],
      "source": [
        "bc, l = st.boxcox(y)\n",
        "model = OLS(bc, X).fit()\n",
        "print(l, model.mse_resid)"
      ]
    },
    {
      "cell_type": "code",
      "execution_count": null,
      "metadata": {
        "id": "_iaCDzIb9GFP"
      },
      "outputs": [],
      "source": [
        "model.summary()"
      ]
    },
    {
      "cell_type": "code",
      "execution_count": null,
      "metadata": {
        "id": "3bUt4i8o9GFP"
      },
      "outputs": [],
      "source": [
        "model = OLS(W(y, -5), X).fit()\n",
        "print(model.mse_resid)"
      ]
    },
    {
      "cell_type": "code",
      "execution_count": null,
      "metadata": {
        "id": "rsJIV7Hc9GFQ"
      },
      "outputs": [],
      "source": [
        "model.summary()"
      ]
    },
    {
      "cell_type": "code",
      "execution_count": null,
      "metadata": {
        "id": "szYwcjSu9GFQ"
      },
      "outputs": [],
      "source": [
        "plt.scatter(X, y)\n",
        "plt.show()"
      ]
    },
    {
      "cell_type": "code",
      "execution_count": null,
      "metadata": {
        "id": "20fccTtC9GFQ"
      },
      "outputs": [],
      "source": [
        "plt.scatter(st.boxcox(y)[0], X)\n",
        "plt.show()"
      ]
    },
    {
      "cell_type": "code",
      "execution_count": null,
      "metadata": {
        "id": "Os5wD8o19GFQ"
      },
      "outputs": [],
      "source": [
        "plt.scatter(W(y, -5), X)\n",
        "plt.show()"
      ]
    },
    {
      "cell_type": "markdown",
      "metadata": {
        "id": "vTaiCm499GFQ"
      },
      "source": [
        "## Привлекательность и уровень заработной платы"
      ]
    },
    {
      "cell_type": "markdown",
      "metadata": {
        "id": "ceAKJw0t9GFR"
      },
      "source": [
        "По 1260 опрошенным имеются следующие данные:\n",
        "\n",
        "* `wage` - заработная плата за час работы, $;\n",
        "* `exper` - опыт работы, лет;\n",
        "* `educ` - образование, лет;\n",
        "* `looks` - внешняя привлекательность, в баллах от 1 до 5;\n",
        "* бинарные признаки: \n",
        "    * `female` - пол, \n",
        "    * `married` - семейное положение, \n",
        "    * `goodhlth` - состояние здоровья (хорошее/плохое), \n",
        "    * `union` - членство в профсоюзе, \n",
        "    * `black` - цвет кожи (белый/чёрный), \n",
        "    * `service` - занятость в сфере обслуживания (да/нет).\n",
        "\n",
        "Требуется оценить влияние внешней привлекательности на уровень заработка с учётом всех остальных факторов.\n",
        "\n"
      ]
    },
    {
      "cell_type": "code",
      "execution_count": null,
      "metadata": {
        "id": "a6pMy4I-9GFR"
      },
      "outputs": [],
      "source": [
        "data = pd.read_csv('https://raw.githubusercontent.com/Intelligent-Systems-Phystech/psad/master/seminars/sem7/data/beauty.csv', delimiter=';')\n",
        "data.head()"
      ]
    },
    {
      "cell_type": "code",
      "execution_count": null,
      "metadata": {
        "id": "J7wL-2-i9GFR"
      },
      "outputs": [],
      "source": [
        "sns.pairplot(data[['wage ', 'exper', 'educ', 'looks']])\n",
        "plt.show()"
      ]
    },
    {
      "cell_type": "markdown",
      "metadata": {
        "id": "CFV-54D89GFS"
      },
      "source": [
        "### Предобработка"
      ]
    },
    {
      "cell_type": "markdown",
      "metadata": {
        "id": "dsoUfo8Y9GFS"
      },
      "source": [
        "#### Распределение оценок привлекательности: "
      ]
    },
    {
      "cell_type": "code",
      "execution_count": null,
      "metadata": {
        "id": "o4Tvz2tB9GFS"
      },
      "outputs": [],
      "source": [
        "_ = plt.hist(data['looks'])\n",
        "plt.show()"
      ]
    },
    {
      "cell_type": "markdown",
      "metadata": {
        "id": "xMBazgFt9GFS"
      },
      "source": [
        "#### В группах looks=1 и looks=5 слишком мало наблюдений. Превратим признак looks в категориальный и закодируем с помощью фиктивных переменных:\n"
      ]
    },
    {
      "cell_type": "code",
      "execution_count": null,
      "metadata": {
        "id": "KG7Xk54Z9GFS"
      },
      "outputs": [],
      "source": [
        "data['below_avg'] = data['looks'].apply(lambda x: 1 if x < 3 else 0)\n",
        "data['above_avg'] = data['looks'].apply(lambda x: 1 if x > 3 else 0)\n",
        "looks = data.looks.copy()\n",
        "data.drop(columns='looks', inplace=True)\n",
        "\n",
        "data.head()"
      ]
    },
    {
      "cell_type": "markdown",
      "metadata": {
        "id": "MLZ5MlPa9GFT"
      },
      "source": [
        "#### Распределение значений отклика:"
      ]
    },
    {
      "cell_type": "code",
      "execution_count": null,
      "metadata": {
        "id": "TlNVLqbD9GFU"
      },
      "outputs": [],
      "source": [
        "plt.figure(figsize=(16, 7))\n",
        "plt.subplot(121)\n",
        "data['wage '].plot.hist()\n",
        "plt.xlabel('wage', fontsize=14)\n",
        "\n",
        "plt.subplot(122)\n",
        "np.log(data['wage ']).plot.hist()\n",
        "plt.xlabel('Log wage', fontsize=14)\n",
        "plt.show()"
      ]
    },
    {
      "cell_type": "markdown",
      "metadata": {
        "id": "f925mz5N9GFV"
      },
      "source": [
        "#### Уберем выброс"
      ]
    },
    {
      "cell_type": "code",
      "execution_count": null,
      "metadata": {
        "id": "NOfAKVnP9GFV"
      },
      "outputs": [],
      "source": [
        "sns.boxplot(data=data['wage '])\n",
        "plt.show()"
      ]
    },
    {
      "cell_type": "code",
      "execution_count": null,
      "metadata": {
        "id": "d2hEXqIJ9GFW"
      },
      "outputs": [],
      "source": [
        "data = data[data['wage '] < 70]"
      ]
    },
    {
      "cell_type": "markdown",
      "metadata": {
        "id": "VZOa3oqQ9GFW"
      },
      "source": [
        "### Модель 0: Линейная регрессия зарплаты от всех признаков"
      ]
    },
    {
      "cell_type": "code",
      "execution_count": null,
      "metadata": {
        "id": "539ffZgi9GFW"
      },
      "outputs": [],
      "source": [
        "feat_names = [f for f in data.columns if f not in ['wage ']]\n",
        "features = data[feat_names]\n",
        "formula0 = ' '.join(['wage ~', \n",
        "                    ' + '.join([f for f in feat_names])])\n",
        "formula0"
      ]
    },
    {
      "cell_type": "code",
      "execution_count": null,
      "metadata": {
        "id": "DzBK47WU9GFW"
      },
      "outputs": [],
      "source": [
        "data = data.rename(columns=dict(\n",
        "    zip(data.columns, list(\n",
        "        map(lambda x: x if x != 'wage ' else 'wage', data.columns)))))"
      ]
    },
    {
      "cell_type": "code",
      "execution_count": null,
      "metadata": {
        "id": "Ohb0b7gV9GFX"
      },
      "outputs": [],
      "source": [
        "model0 = sm.OLS.from_formula(formula0, data).fit()\n",
        "model0.summary()"
      ]
    },
    {
      "cell_type": "markdown",
      "metadata": {
        "id": "dcXkMWiX9GFX"
      },
      "source": [
        "#### Проанализируем ошибки"
      ]
    },
    {
      "cell_type": "code",
      "execution_count": null,
      "metadata": {
        "id": "6sPJz3SZ9GFX"
      },
      "outputs": [],
      "source": [
        "plt.figure(figsize=(16, 7))\n",
        "plt.subplot(121)\n",
        "st.probplot(model0.resid, plot=plt)\n",
        "\n",
        "plt.subplot(122)\n",
        "model0.resid.plot.hist()\n",
        "plt.xlabel('Residuals', fontsize=14)\n",
        "plt.show()"
      ]
    },
    {
      "cell_type": "markdown",
      "metadata": {
        "id": "t-4b8svt9GFY"
      },
      "source": [
        "##### Бокса-Кокс"
      ]
    },
    {
      "cell_type": "code",
      "execution_count": null,
      "metadata": {
        "id": "ZqVERII_9GFY"
      },
      "outputs": [],
      "source": [
        "max(data['wage']) / min(data['wage'])"
      ]
    },
    {
      "cell_type": "markdown",
      "metadata": {
        "id": "CDoSJEob9GFY"
      },
      "source": [
        "$\\frac{max y}{min y} \\approx 40>10$, можем воспользоваться боксом коксом.\n",
        "\n",
        "Возьмём $λ=0$, то есть, будем строить регрессию логарифма отклика."
      ]
    },
    {
      "cell_type": "code",
      "execution_count": null,
      "metadata": {
        "id": "-Hse423U9GFZ"
      },
      "outputs": [],
      "source": [
        "log_wage = st.boxcox(data['wage'], 0)\n",
        "old_columns = list(data.columns)\n",
        "data1 = data.copy()\n",
        "data1['log_wage'] = log_wage"
      ]
    },
    {
      "cell_type": "code",
      "execution_count": null,
      "metadata": {
        "id": "8qTFqy2u9GFt"
      },
      "outputs": [],
      "source": [
        "plt.hist(log_wage)\n",
        "plt.xlabel('Log wage', fontsize=14)\n",
        "plt.show()"
      ]
    },
    {
      "cell_type": "markdown",
      "metadata": {
        "id": "DfaPMLYq9GFu"
      },
      "source": [
        "### Модель 1: зависимости логарифма заработка по всем признакам"
      ]
    },
    {
      "cell_type": "code",
      "execution_count": null,
      "metadata": {
        "id": "A0-CkRGd9GFu"
      },
      "outputs": [],
      "source": [
        "features = data1[feat_names]\n",
        "formula1 = ' '.join(['log_wage ~', \n",
        "                    ' + '.join([f for f in feat_names])])\n",
        "print(formula1)"
      ]
    },
    {
      "cell_type": "code",
      "execution_count": null,
      "metadata": {
        "id": "c9CBgHj-9GFv"
      },
      "outputs": [],
      "source": [
        "model1 = sm.OLS.from_formula(formula1, data1).fit()\n",
        "model1.summary()"
      ]
    },
    {
      "cell_type": "code",
      "execution_count": null,
      "metadata": {
        "id": "Rj7FE2_i9GFv"
      },
      "outputs": [],
      "source": [
        "plt.figure(figsize=(16, 7))\n",
        "plt.subplot(121)\n",
        "st.probplot(model1.resid, plot=plt)\n",
        "\n",
        "plt.subplot(122)\n",
        "model1.resid.plot.hist()\n",
        "_ = plt.xlabel('Residuals', fontsize=14)\n",
        "plt.show()"
      ]
    },
    {
      "cell_type": "markdown",
      "metadata": {
        "id": "QcL-58v19GFw"
      },
      "source": [
        "#### Проверка гипотез по остаткам"
      ]
    },
    {
      "cell_type": "code",
      "execution_count": null,
      "metadata": {
        "id": "lffXbMYf9GFw"
      },
      "outputs": [],
      "source": [
        "print(f'Нормальность ошибок: {st.shapiro(model1.resid)}')\n",
        "print(f'Равенство распределений: {st.wilcoxon(model1.resid)}')\n",
        "print(f'Гомоскедастичность: {het_breuschpagan(model1.resid, features, )}')"
      ]
    },
    {
      "cell_type": "markdown",
      "metadata": {
        "id": "OVYo61qB9GFw"
      },
      "source": [
        "#### Рассмотрим зависимость от опыта и образования (самое очевидное)"
      ]
    },
    {
      "cell_type": "code",
      "execution_count": null,
      "metadata": {
        "id": "XQDXXd2N9GFw"
      },
      "outputs": [],
      "source": [
        "_ = sns.pairplot(pd.DataFrame({\n",
        "    'exper': features['exper'], \n",
        "    'educ': features['educ'], \n",
        "    'residuals': model1.resid\n",
        "}))"
      ]
    },
    {
      "cell_type": "code",
      "execution_count": null,
      "metadata": {
        "id": "Jopa-azA9GFx"
      },
      "outputs": [],
      "source": [
        "sns.residplot(x=features['exper'], \n",
        "              y=model1.resid,\n",
        "              lowess=True, \n",
        "              scatter_kws={'alpha': 0.5}, \n",
        "              line_kws={'color': 'red', 'lw': 1, 'alpha': 0.8})\n",
        "_ = plt.ylabel('residuals')"
      ]
    },
    {
      "cell_type": "markdown",
      "metadata": {
        "id": "d81D05qK9GFx"
      },
      "source": [
        "### Модель 2: добавим в модель 1 квадрат опыта работы"
      ]
    },
    {
      "cell_type": "code",
      "execution_count": null,
      "metadata": {
        "id": "osLd2egc9GFx"
      },
      "outputs": [],
      "source": [
        "exper2 = features['exper']**2\n",
        "old_columns = list(data1.columns)\n",
        "data2 = data1.copy()\n",
        "data2['exper2'] = exper2\n",
        "data2.head()"
      ]
    },
    {
      "cell_type": "code",
      "execution_count": null,
      "metadata": {
        "id": "3_nIKTtH9GFx"
      },
      "outputs": [],
      "source": [
        "feat_names += ['exper2']"
      ]
    },
    {
      "cell_type": "code",
      "execution_count": null,
      "metadata": {
        "id": "iW7wZQVI9GFy"
      },
      "outputs": [],
      "source": [
        "features = data2[feat_names]\n",
        "formula2 = ' '.join(['log_wage ~', \n",
        "                    ' + '.join([f for f in feat_names])])\n",
        "print(formula2)"
      ]
    },
    {
      "cell_type": "code",
      "execution_count": null,
      "metadata": {
        "id": "Scs_NXe59GFy"
      },
      "outputs": [],
      "source": [
        "model2 = sm.OLS.from_formula(formula2, data2).fit()\n",
        "model2.summary()"
      ]
    },
    {
      "cell_type": "code",
      "execution_count": null,
      "metadata": {
        "id": "KFxr5arp9GFy"
      },
      "outputs": [],
      "source": [
        "gridsize = (2, 2)\n",
        "fig = plt.figure(figsize=(16, 14))\n",
        "ax1 = plt.subplot2grid(gridsize, (0, 0))\n",
        "ax2 = plt.subplot2grid(gridsize, (0, 1))\n",
        "ax3 = plt.subplot2grid(gridsize, (1, 0))\n",
        "ax4 = plt.subplot2grid(gridsize, (1, 1))\n",
        "st.probplot(model2.resid, plot=ax1)\n",
        "\n",
        "model2.resid.plot.hist(ax=ax2)\n",
        "ax2.set_xlabel('Residuals')\n",
        "\n",
        "sns.residplot(x=features['exper'], \n",
        "              y=model2.resid,\n",
        "              lowess=True, \n",
        "              scatter_kws={'alpha': 0.5}, \n",
        "              line_kws={'color': 'red', 'lw': 1, 'alpha': 0.8},\n",
        "              ax=ax3)\n",
        "ax3.set_ylabel('residuals')\n",
        "sns.residplot(x=features['exper2'], \n",
        "              y=model2.resid,\n",
        "              lowess=True, \n",
        "              scatter_kws={'alpha': 0.5}, \n",
        "              line_kws={'color': 'red', 'lw': 1, 'alpha': 0.8},\n",
        "              ax=ax4)\n",
        "_ = ax4.set_ylabel('residuals')\n",
        "\n",
        "plt.show()"
      ]
    },
    {
      "cell_type": "markdown",
      "metadata": {
        "id": "otUYYcrd9GFy"
      },
      "source": [
        "#### Проверка гипотез по остаткам"
      ]
    },
    {
      "cell_type": "code",
      "execution_count": null,
      "metadata": {
        "id": "QHwTfzGe9GFy"
      },
      "outputs": [],
      "source": [
        "print(f'Нормальность ошибок: {st.shapiro(model2.resid)}')\n",
        "print(f'Равенство распределений: {st.wilcoxon(model2.resid)}')\n",
        "print(f'Гомоскедастичность: {het_breuschpagan(model2.resid, features)}')"
      ]
    },
    {
      "cell_type": "markdown",
      "metadata": {
        "id": "n6sKdR6y9GFz"
      },
      "source": [
        "Незначимые признаки: `goodhlth`, `black`, `married`, `above_avg`. Прежде, чем удалять лишние признаки, проверим, не входят ли они в значимые попарные взаимодействия:"
      ]
    },
    {
      "cell_type": "code",
      "execution_count": null,
      "metadata": {
        "id": "eR5_n42S9GFz"
      },
      "outputs": [],
      "source": [
        "formula = []\n",
        "for f1 in range(len(feat_names)):\n",
        "    for f2 in range(f1 + 1, len(feat_names)):\n",
        "        formula.append(feat_names[f1] + ':' + feat_names[f2])\n",
        "formula = 'log_wage ~ ' + ' + '.join(formula)\n",
        "formula"
      ]
    },
    {
      "cell_type": "code",
      "execution_count": null,
      "metadata": {
        "id": "R61zKQWW9GFz"
      },
      "outputs": [],
      "source": [
        "model_all = sm.OLS.from_formula(formula, data2).fit()\n",
        "\n",
        "anova = sm.stats.anova_lm(model_all)\n",
        "bad_names = []\n",
        "for id, p in enumerate(anova['PR(>F)']):\n",
        "    if p < 0.05:\n",
        "        print(anova.iloc[id].name, p)\n",
        "    else:\n",
        "        bad_names.append(anova.iloc[id].name)"
      ]
    },
    {
      "cell_type": "code",
      "execution_count": null,
      "metadata": {
        "id": "qsEJta5l9GFz"
      },
      "outputs": [],
      "source": [
        "_ = sns.pairplot(pd.DataFrame({\n",
        "    'exper': features['exper'], \n",
        "    'exper2': features['exper2'],\n",
        "    'educ': features['educ'], \n",
        "    'residuals': model_all.resid\n",
        "}))"
      ]
    },
    {
      "cell_type": "code",
      "execution_count": null,
      "metadata": {
        "id": "JXS6ahn19GF0"
      },
      "outputs": [],
      "source": [
        "plt.figure(figsize=(16, 7))\n",
        "plt.subplot(121)\n",
        "_ = st.probplot(model_all.resid, plot=plt)\n",
        "\n",
        "plt.subplot(122)\n",
        "_ = st.probplot(model2.resid, plot=plt)\n",
        "plt.show()"
      ]
    },
    {
      "cell_type": "markdown",
      "metadata": {
        "id": "G5hzR0809GF0"
      },
      "source": [
        "### Модель 3: удалим из модели 2 незначимые признаки (`goodhlth`, `black`, `married`) и добавим межфакторное взаимодействие пола и опыта работы, при этом оставим `above_avg`, так как мы хотим оценить влияние внешней привлекательности на зарплату"
      ]
    },
    {
      "cell_type": "code",
      "execution_count": null,
      "metadata": {
        "id": "nhMBlQNI9GF0"
      },
      "outputs": [],
      "source": [
        "bad_feats = ['goodhlth', 'black', 'married']\n",
        "formula3 = ' '.join(['log_wage ~', \n",
        "                    ' + '.join([f for f in features if f not in bad_feats] + ['exper:female'])])\n",
        "print(formula3)"
      ]
    },
    {
      "cell_type": "code",
      "execution_count": null,
      "metadata": {
        "id": "wvfVGIZ-9GF1"
      },
      "outputs": [],
      "source": [
        "model3 = sm.OLS.from_formula(formula3, data=data2).fit()\n",
        "model3.summary()"
      ]
    },
    {
      "cell_type": "markdown",
      "metadata": {
        "id": "Nh8B55w39GF1"
      },
      "source": [
        "#### Проверка гипотез по остаткам"
      ]
    },
    {
      "cell_type": "code",
      "execution_count": null,
      "metadata": {
        "id": "gFDjXzuH9GF1"
      },
      "outputs": [],
      "source": [
        "print('Model 3')\n",
        "print(st.shapiro(model3.resid))\n",
        "print(st.wilcoxon(model3.resid))\n",
        "print('Model 2')\n",
        "print(st.shapiro(model2.resid))\n",
        "print(st.wilcoxon(model2.resid))"
      ]
    },
    {
      "cell_type": "code",
      "execution_count": null,
      "metadata": {
        "id": "hN9IzKi59GF1"
      },
      "outputs": [],
      "source": [
        "_ = sns.pairplot(pd.DataFrame({\n",
        "    'exper': features['exper'], \n",
        "    'educ': features['educ'], \n",
        "    'residuals': model3.resid\n",
        "}))"
      ]
    },
    {
      "cell_type": "code",
      "execution_count": null,
      "metadata": {
        "id": "gPmRihIv9GF2"
      },
      "outputs": [],
      "source": [
        "st.probplot(model3.resid, plot=plt)\n",
        "plt.show()"
      ]
    },
    {
      "cell_type": "code",
      "execution_count": null,
      "metadata": {
        "id": "0VwGyyd69GF2"
      },
      "outputs": [],
      "source": [
        "model2.compare_lr_test(model3), model2.compare_f_test(model3)"
      ]
    },
    {
      "cell_type": "markdown",
      "metadata": {
        "id": "LrGPzV-g9GF2"
      },
      "source": [
        "### Модель 4: попробуем оставить в модели 2 цвет кожи и семейное положение, чтобы добавить их взаимодействия с полом. Как и в модели 3, добавим взаимодействие пола с опытом работы, а состояние здоровья удалим."
      ]
    },
    {
      "cell_type": "code",
      "execution_count": null,
      "metadata": {
        "id": "W83P0UjK9GF2"
      },
      "outputs": [],
      "source": [
        "bad_feats = ['goodhlth']\n",
        "add_feats = ['exper:female', 'black:female', 'married:female']\n",
        "formula4 = ' '.join(['log_wage ~', \n",
        "                    ' + '.join([f for f in features if f not in bad_feats] + add_feats)])\n",
        "print(formula4)"
      ]
    },
    {
      "cell_type": "code",
      "execution_count": null,
      "metadata": {
        "id": "k2sCam6n9GF2"
      },
      "outputs": [],
      "source": [
        "model4 = sm.OLS.from_formula(formula4, data=data2).fit()\n",
        "model4.summary()"
      ]
    },
    {
      "cell_type": "markdown",
      "metadata": {
        "id": "kqXYMr6R9GF2"
      },
      "source": [
        "#### Проверка гипотез по остаткам"
      ]
    },
    {
      "cell_type": "code",
      "execution_count": null,
      "metadata": {
        "id": "0EIWNIq99GF3"
      },
      "outputs": [],
      "source": [
        "print(st.shapiro(model4.resid))\n",
        "print(st.wilcoxon(model4.resid))"
      ]
    },
    {
      "cell_type": "code",
      "execution_count": null,
      "metadata": {
        "id": "-uchsiYl9GF3"
      },
      "outputs": [],
      "source": [
        "_ = sns.pairplot(pd.DataFrame({\n",
        "    'exper': features['exper'], \n",
        "    'looks': looks,\n",
        "    'residuals': model4.resid\n",
        "}))\n",
        "plt.show()"
      ]
    },
    {
      "cell_type": "code",
      "execution_count": null,
      "metadata": {
        "id": "9Y79PbB-9GF3"
      },
      "outputs": [],
      "source": [
        "plt.figure(figsize=(16, 7))\n",
        "plt.subplot(121)\n",
        "_ = st.probplot(model4.resid, plot=plt)\n",
        "\n",
        "plt.subplot(122)\n",
        "_ = st.probplot(model3.resid, plot=plt)\n",
        "plt.show()"
      ]
    },
    {
      "cell_type": "markdown",
      "metadata": {
        "id": "AuE12SWd9GF3"
      },
      "source": [
        "### Модель 5: в предыдущей модели семейное положение незначимо; посмотрим, можно ли удалить его"
      ]
    },
    {
      "cell_type": "code",
      "execution_count": null,
      "metadata": {
        "id": "aa590ruR9GF3"
      },
      "outputs": [],
      "source": [
        "bad_feats = ['goodhlth', 'married']\n",
        "add_feats = ['exper:female', 'black:female', 'married:female']\n",
        "formula5 = ' '.join(['log_wage ~', \n",
        "                    ' + '.join([f for f in features if f not in bad_feats] + add_feats)])\n",
        "print(formula5)"
      ]
    },
    {
      "cell_type": "code",
      "execution_count": null,
      "metadata": {
        "id": "zDNxGsjh9GF4"
      },
      "outputs": [],
      "source": [
        "model5 = sm.OLS.from_formula(formula5, data=data2).fit()\n",
        "model5.summary()"
      ]
    },
    {
      "cell_type": "markdown",
      "metadata": {
        "id": "PD0v-9bQ9GF4"
      },
      "source": [
        "#### Проверка гипотез по остаткам"
      ]
    },
    {
      "cell_type": "code",
      "execution_count": null,
      "metadata": {
        "id": "isaQCcaD9GF4"
      },
      "outputs": [],
      "source": [
        "print('Model 5')\n",
        "print(st.shapiro(model5.resid))\n",
        "print(st.wilcoxon(model5.resid))\n",
        "\n",
        "print('Model 4')\n",
        "print(st.shapiro(model4.resid))\n",
        "print(st.wilcoxon(model4.resid))"
      ]
    },
    {
      "cell_type": "code",
      "execution_count": null,
      "metadata": {
        "id": "-4lJFtxm9GF4"
      },
      "outputs": [],
      "source": [
        "plt.figure(figsize=(16, 7))\n",
        "plt.subplot(121)\n",
        "_ = st.probplot(model4.resid, plot=plt)\n",
        "\n",
        "plt.subplot(122)\n",
        "_ = st.probplot(model5.resid, plot=plt)\n",
        "plt.show()"
      ]
    },
    {
      "cell_type": "markdown",
      "metadata": {
        "id": "XJ2M_thL9GF4"
      },
      "source": [
        "##### Модель 5 по остаткам немного хуже"
      ]
    },
    {
      "cell_type": "markdown",
      "metadata": {
        "id": "ctUehWJf9GF5"
      },
      "source": [
        "### Расстояние Кука\n",
        "Посмотрим на влиятельные наблюдения: \n",
        "    "
      ]
    },
    {
      "cell_type": "code",
      "execution_count": null,
      "metadata": {
        "id": "wvYwg_u29GF5"
      },
      "outputs": [],
      "source": [
        "cook = model4.get_influence().summary_frame().loc[:,'cooks_d']"
      ]
    },
    {
      "cell_type": "code",
      "execution_count": null,
      "metadata": {
        "id": "WA0qoFro9GF5"
      },
      "outputs": [],
      "source": [
        "plt.scatter(data2['log_wage'], cook)\n",
        "plt.xlim((0,4))\n",
        "plt.ylim((-0.01, 0.05))\n",
        "plt.show()"
      ]
    },
    {
      "cell_type": "code",
      "execution_count": null,
      "metadata": {
        "id": "wmo2ILc99GF5"
      },
      "outputs": [],
      "source": [
        "data3 = data2[cook < 0.015]\n",
        "data3.shape"
      ]
    },
    {
      "cell_type": "code",
      "execution_count": null,
      "metadata": {
        "id": "do7ksLj29GF5"
      },
      "outputs": [],
      "source": [
        "model6 = sm.OLS.from_formula(formula4, data=data3).fit()\n",
        "model6.summary()"
      ]
    },
    {
      "cell_type": "markdown",
      "metadata": {
        "id": "TPULfvOo9GF5"
      },
      "source": [
        "#### Проверка нормальности остатков"
      ]
    },
    {
      "cell_type": "code",
      "execution_count": null,
      "metadata": {
        "id": "_GpzD2Iv9GF6"
      },
      "outputs": [],
      "source": [
        "print(st.shapiro(model6.resid))\n",
        "print(st.shapiro(model4.resid))"
      ]
    },
    {
      "cell_type": "code",
      "execution_count": null,
      "metadata": {
        "id": "afX-_Cxl9GF6"
      },
      "outputs": [],
      "source": [
        "plt.figure(figsize=(16, 7))\n",
        "\n",
        "plt.subplot(121)\n",
        "plt.scatter(np.exp(model6.predict(data3)), data3['wage'])\n",
        "plt.xlabel('wage', fontsize=14)\n",
        "plt.ylabel('exp(predictions)', fontsize=14)\n",
        "\n",
        "plt.subplot(122)\n",
        "plt.scatter(model6.predict(data3), data3['log_wage'])\n",
        "plt.xlabel('log wage', fontsize=14)\n",
        "_ = plt.ylabel('predictions', fontsize=14)\n",
        "plt.show()"
      ]
    },
    {
      "cell_type": "markdown",
      "metadata": {
        "id": "p4fSwVvR9GF6"
      },
      "source": [
        "### Итого\n",
        "\n",
        "- Итоговая модель (№6) объясняет 43% вариации логарифма отклика\n",
        "- Коэффициент при `below_avg`: -0.13 => человек, привлекательность которого ниже среднего, получает зарплату на 13% ниже, в среднем ($p=0.001$, 95%-й доверительный интервал: \\[5,21\\]%)\n",
        "- Коэффициент при `above_avg`: -0.042 => человек, привлекательность которого выше среднего, примерно такую же, сколько и люди со средним уровнем привлекательности ($p =  0.884$, 95%-й доверительный интервал: \\[-6, 6\\]%), признак неинформативен"
      ]
    }
  ],
  "metadata": {
    "celltoolbar": "Raw Cell Format",
    "kernelspec": {
      "display_name": "Python 3",
      "language": "python",
      "name": "python3"
    },
    "language_info": {
      "codemirror_mode": {
        "name": "ipython",
        "version": 3
      },
      "file_extension": ".py",
      "mimetype": "text/x-python",
      "name": "python",
      "nbconvert_exporter": "python",
      "pygments_lexer": "ipython3",
      "version": "3.7.3"
    },
    "colab": {
      "name": "main.ipynb",
      "provenance": []
    }
  },
  "nbformat": 4,
  "nbformat_minor": 0
}