{
  "cells": [
    {
      "cell_type": "markdown",
      "metadata": {
        "id": "d8KRSqI38kBa"
      },
      "source": [
        "# Проверка непараметрических гипотез"
      ]
    },
    {
      "cell_type": "code",
      "source": [
        "import warnings\n",
        "warnings.filterwarnings(\"ignore\")\n",
        "\n",
        "try:\n",
        "    import google.colab\n",
        "    IN_COLAB = True\n",
        "except:\n",
        "    IN_COLAB = False\n",
        "\n",
        "if IN_COLAB:\n",
        "    !wget -q -O requirements.txt https://raw.githubusercontent.com/Intelligent-Systems-Phystech/psad/master/seminars/sem3/requirements.txt\n",
        "    !pip install -q -r requirements.txt"
      ],
      "metadata": {
        "id": "gu6J4ZISBdJj"
      },
      "execution_count": null,
      "outputs": []
    },
    {
      "cell_type": "markdown",
      "metadata": {
        "id": "rXtd_r2s8kBf"
      },
      "source": [
        "## Библиотеки"
      ]
    },
    {
      "cell_type": "code",
      "execution_count": null,
      "metadata": {
        "id": "S7_gBw9a8kBg"
      },
      "outputs": [],
      "source": [
        "import numpy as np\n",
        "import pandas as pd\n",
        "import matplotlib.pylab as plt\n",
        "\n",
        "import scipy.stats as st\n",
        "from statsmodels.distributions.empirical_distribution import ECDF\n",
        "from statsmodels.stats.descriptivestats import sign_test\n",
        "\n",
        "import seaborn as sns\n",
        "from permutation_test import permutationtest\n",
        "\n",
        "# перестановочный критерий\n",
        "from permute.core import one_sample, two_sample\n",
        "\n",
        "# критерий знаков\n",
        "from statsmodels.stats.descriptivestats import sign_test\n",
        "\n",
        "# для перестановок\n",
        "import itertools\n",
        "\n",
        "# бутстрап\n",
        "from arch.bootstrap import IIDBootstrap"
      ]
    },
    {
      "cell_type": "markdown",
      "metadata": {
        "id": "b1rEg5CJ8kBi"
      },
      "source": [
        "## Мышки с зеркалами"
      ]
    },
    {
      "cell_type": "markdown",
      "metadata": {
        "id": "oNf9SADV8kBj"
      },
      "source": [
        "#### Данные"
      ]
    },
    {
      "cell_type": "code",
      "execution_count": null,
      "metadata": {
        "id": "wmAe-VO48kBj"
      },
      "outputs": [],
      "source": [
        "data_pd = pd.read_csv('https://raw.githubusercontent.com/Intelligent-Systems-Phystech/psad/master/seminars/sem3/data/mirror_mice.txt', sep='\\t', header=None)\n",
        "data = data_pd.values.reshape(-1)\n",
        "\n",
        "data_pd.head()"
      ]
    },
    {
      "cell_type": "markdown",
      "metadata": {
        "id": "BuqNIQl_8kBk"
      },
      "source": [
        "#### Гистограмма распределения"
      ]
    },
    {
      "cell_type": "code",
      "execution_count": null,
      "metadata": {
        "id": "pUX0TeUW8kBl"
      },
      "outputs": [],
      "source": [
        "plt.hist(data)\n",
        "plt.show()"
      ]
    },
    {
      "cell_type": "markdown",
      "metadata": {
        "id": "GEXEs4Rk8kBm"
      },
      "source": [
        "#### Биномиальный тест: ```st.binom_test```"
      ]
    },
    {
      "cell_type": "code",
      "execution_count": null,
      "metadata": {
        "id": "bDOkbpRU8kBm"
      },
      "outputs": [],
      "source": [
        "st.binom_test(np.sum(data>0.5), data.shape[0])"
      ]
    },
    {
      "cell_type": "markdown",
      "metadata": {
        "id": "tIZYMinm8kBm"
      },
      "source": [
        "#### Критерий знаков"
      ]
    },
    {
      "cell_type": "code",
      "execution_count": null,
      "metadata": {
        "id": "oKn4ms6c8kBn"
      },
      "outputs": [],
      "source": [
        "sign_test(data, mu0=0.5)"
      ]
    },
    {
      "cell_type": "markdown",
      "metadata": {
        "id": "MIqk7u2-8kBo"
      },
      "source": [
        "#### Перестановочный критерий:\n",
        "$H_0: \\mathsf{E}X = m_0$\n",
        "\n",
        "$H_1: \\mathsf{E}X <\\not=> m_0$\n",
        "\n",
        "$T = \\sum X_i-m_0$"
      ]
    },
    {
      "cell_type": "code",
      "execution_count": null,
      "metadata": {
        "id": "ufhmh9_n8kBo"
      },
      "outputs": [],
      "source": [
        "t = (data - 0.5)\n",
        "T = np.sum(t)\n",
        "T"
      ]
    },
    {
      "cell_type": "code",
      "execution_count": null,
      "metadata": {
        "id": "aaDEzwMS8kBp"
      },
      "outputs": [],
      "source": [
        "list(itertools.combinations(range(16), 2))"
      ]
    },
    {
      "cell_type": "code",
      "execution_count": null,
      "metadata": {
        "id": "40iZE26U8kBp"
      },
      "outputs": [],
      "source": [
        "list(itertools.product([-1, 1], repeat=2))"
      ]
    },
    {
      "cell_type": "code",
      "execution_count": null,
      "metadata": {
        "scrolled": true,
        "id": "W044OXMJ8kBq"
      },
      "outputs": [],
      "source": [
        "count = 0\n",
        "good = 0\n",
        "for v in itertools.product([-1, 1], repeat=16):\n",
        "    count +=1\n",
        "    stat = np.dot(t, v)\n",
        "    if abs(stat)>=abs(T):\n",
        "        good+=1\n",
        "    \n",
        "        \n",
        "good/count"
      ]
    },
    {
      "cell_type": "markdown",
      "metadata": {
        "id": "xVsEThYg8kBq"
      },
      "source": [
        "##### Библиотека"
      ]
    },
    {
      "cell_type": "code",
      "execution_count": null,
      "metadata": {
        "id": "371uATt98kBr"
      },
      "outputs": [],
      "source": [
        "one_sample(data-0.5, alternative='two-sided')"
      ]
    },
    {
      "cell_type": "code",
      "execution_count": null,
      "metadata": {
        "id": "wLBI_RjC8kBs"
      },
      "outputs": [],
      "source": [
        "one_sample(data, 0.5*np.ones_like(data), alternative='two-sided')"
      ]
    },
    {
      "cell_type": "markdown",
      "metadata": {
        "id": "3xqShP_Z8kBs"
      },
      "source": [
        "#### Бутстрап"
      ]
    },
    {
      "cell_type": "markdown",
      "metadata": {
        "id": "VYD_BmWY8kBt"
      },
      "source": [
        "#### Вручную"
      ]
    },
    {
      "cell_type": "code",
      "execution_count": null,
      "metadata": {
        "id": "AOc0mI_58kBt"
      },
      "outputs": [],
      "source": [
        "rs = np.random.RandomState(0)\n",
        "\n",
        "idx = rs.randint(low=0, high=16, size=(1000, 16))\n",
        "results = []\n",
        "for i in idx:\n",
        "    sample = data[i]\n",
        "    results.append(sample.mean())\n",
        "\n",
        "np.percentile(results, [2.5, 97.5])"
      ]
    },
    {
      "cell_type": "markdown",
      "metadata": {
        "id": "wOufcVXz8kBu"
      },
      "source": [
        "#### Библиотека"
      ]
    },
    {
      "cell_type": "code",
      "execution_count": null,
      "metadata": {
        "id": "01ZG6DlZ8kBu"
      },
      "outputs": [],
      "source": [
        "bs = IIDBootstrap(data)\n",
        "bs.conf_int(np.median, 1000, method='basic')"
      ]
    },
    {
      "cell_type": "markdown",
      "metadata": {
        "id": "nCbPQban8kBv"
      },
      "source": [
        "## Терапия при анорексии\n",
        "**Everitt N., McMahon M. (2004). Nutrition and the surgical patient. In Consensus in Clinical Nutrition, Cambridge: Cambridge University Press.**"
      ]
    },
    {
      "cell_type": "markdown",
      "metadata": {
        "id": "2MNFJSCH8kBv"
      },
      "source": [
        "В исследовании оценивается эффективность поведенческой терапии для лечения анорексии. Для 50 пациентов известен вес до начала терапии и по её окончании. Была ли терапия эффективной?"
      ]
    },
    {
      "cell_type": "markdown",
      "metadata": {
        "id": "gCVMMpUK8kBw"
      },
      "source": [
        "#### Данные"
      ]
    },
    {
      "cell_type": "code",
      "execution_count": null,
      "metadata": {
        "id": "4z9qOhf18kBw"
      },
      "outputs": [],
      "source": [
        "data = pd.read_csv('https://raw.githubusercontent.com/Intelligent-Systems-Phystech/psad/master/seminars/sem3/data/weight.txt', sep='\\t')\n",
        "w = data.values\n",
        "\n",
        "data.head()"
      ]
    },
    {
      "cell_type": "markdown",
      "metadata": {
        "id": "ynJ522y-8kBw"
      },
      "source": [
        "### Ввизуализация данных"
      ]
    },
    {
      "cell_type": "code",
      "execution_count": null,
      "metadata": {
        "id": "swgm7LCg8kBx"
      },
      "outputs": [],
      "source": [
        "plt.scatter(w[:,0], w[:,1])\n",
        "plt.xlabel('Before')\n",
        "plt.ylabel('After')\n",
        "\n",
        "plt.show()"
      ]
    },
    {
      "cell_type": "markdown",
      "metadata": {
        "id": "BT1DkOwp8kBy"
      },
      "source": [
        "### Проверка на нормальность"
      ]
    },
    {
      "cell_type": "markdown",
      "metadata": {
        "id": "l7d8FNC18kB0"
      },
      "source": [
        "#### QQ-plot"
      ]
    },
    {
      "cell_type": "code",
      "execution_count": null,
      "metadata": {
        "id": "xBhoelu38kB1"
      },
      "outputs": [],
      "source": [
        "_ = st.probplot(w[:,1]-w[:,0], plot=plt)"
      ]
    },
    {
      "cell_type": "markdown",
      "metadata": {
        "id": "NsDfEavx8kB3"
      },
      "source": [
        "#### Шапиро (```st.shapiro```)"
      ]
    },
    {
      "cell_type": "code",
      "execution_count": null,
      "metadata": {
        "id": "A4g4q_EY8kB4"
      },
      "outputs": [],
      "source": [
        "st.shapiro(w[:,1]-w[:,0])"
      ]
    },
    {
      "cell_type": "markdown",
      "metadata": {
        "id": "j5dG3l2O8kB5"
      },
      "source": [
        "#### Критерий знаков (```sign_test```)"
      ]
    },
    {
      "cell_type": "code",
      "execution_count": null,
      "metadata": {
        "id": "YqeEQjPy8kB6"
      },
      "outputs": [],
      "source": [
        "sign_test(w[:,1]-w[:,0])"
      ]
    },
    {
      "cell_type": "markdown",
      "metadata": {
        "id": "EHz9swIE8kB6"
      },
      "source": [
        "#### Уилкоксон (```st.wilcoxon```):"
      ]
    },
    {
      "cell_type": "code",
      "execution_count": null,
      "metadata": {
        "id": "2J9hKTDs8kB7"
      },
      "outputs": [],
      "source": [
        "st.wilcoxon(w[:,1]-w[:,0])"
      ]
    },
    {
      "cell_type": "markdown",
      "metadata": {
        "id": "o_PArQSI8kB7"
      },
      "source": [
        "#### Перестановочный критерий (```one_sample```):"
      ]
    },
    {
      "cell_type": "code",
      "execution_count": null,
      "metadata": {
        "id": "cBwqIvsT8kB8"
      },
      "outputs": [],
      "source": [
        "one_sample(w[:,1]-w[:,0],  alternative='two-sided')"
      ]
    },
    {
      "cell_type": "markdown",
      "metadata": {
        "id": "uWMMc1zg8kB9"
      },
      "source": [
        "#### Доверительный интервал для среднего прироста веса с помощью бутстрепа:"
      ]
    },
    {
      "cell_type": "code",
      "execution_count": null,
      "metadata": {
        "id": "JSROdsxs8kB9"
      },
      "outputs": [],
      "source": [
        "bs = IIDBootstrap(w[:,1]- w[:,0])\n",
        "print(bs.conf_int(np.mean, 1000, method='bca'))"
      ]
    },
    {
      "cell_type": "markdown",
      "metadata": {
        "id": "1knLvpgO8kB-"
      },
      "source": [
        "#### Доверительный интервал для медианы прироста веса:"
      ]
    },
    {
      "cell_type": "code",
      "execution_count": null,
      "metadata": {
        "id": "YqBPuHM98kB-"
      },
      "outputs": [],
      "source": [
        "bs = IIDBootstrap(w[:,1]- w[:,0])\n",
        "print(bs.conf_int(np.median, 1000, method='bca'))"
      ]
    },
    {
      "cell_type": "markdown",
      "metadata": {
        "id": "l6FzpJY38kB_"
      },
      "source": [
        "## Недвижимость в Сиэттле\n",
        "**Hesterberg T., Monaghan S., Moore D.S., Clipson A., Epstein R. (2005). Bootstrap methods and permutation tests. In Introduction to the Practice of Statistics, New York: W. H. Freeman and Company.** http://statweb.stanford.edu/~tibs/stat315a/Supplements/bootstrap.pdf"
      ]
    },
    {
      "cell_type": "markdown",
      "metadata": {
        "id": "b8svYLOE8kB_"
      },
      "source": [
        "Имеются данные о продажной стоимости недвижимости в Сиэтле для 50 сделок в 2001 году и 50 в 2002. Изменились ли цены?"
      ]
    },
    {
      "cell_type": "markdown",
      "metadata": {
        "id": "t0fm_qQF8kB_"
      },
      "source": [
        "#### Данные"
      ]
    },
    {
      "cell_type": "code",
      "execution_count": null,
      "metadata": {
        "id": "6uQAYaK18kCA"
      },
      "outputs": [],
      "source": [
        "data = pd.read_csv('https://raw.githubusercontent.com/Intelligent-Systems-Phystech/psad/master/seminars/sem3/data/seattle.txt', delimiter='\\t')\n",
        "data.head()"
      ]
    },
    {
      "cell_type": "markdown",
      "metadata": {
        "id": "w1ewkdWq8kCA"
      },
      "source": [
        "#### Boxplot"
      ]
    },
    {
      "cell_type": "code",
      "execution_count": null,
      "metadata": {
        "id": "wrSFk-1W8kCB"
      },
      "outputs": [],
      "source": [
        "sns.boxplot(data=data, y=\"Price\", x=\"Year\")"
      ]
    },
    {
      "cell_type": "code",
      "execution_count": null,
      "metadata": {
        "id": "7z33JbRK8kCB"
      },
      "outputs": [],
      "source": [
        "x1 = data.loc[data['Year']==2001]['Price'].values\n",
        "x2 = data.loc[data['Year']==2002]['Price'].values"
      ]
    },
    {
      "cell_type": "code",
      "execution_count": null,
      "metadata": {
        "id": "FGUcUzn-8kCB"
      },
      "outputs": [],
      "source": [
        "sns.kdeplot(x1, label='2001')\n",
        "sns.kdeplot(x2, label='2002')\n",
        "plt.legend(loc=\"best\")\n",
        "plt.show()"
      ]
    },
    {
      "cell_type": "markdown",
      "metadata": {
        "id": "e1jfL4wa8kCC"
      },
      "source": [
        "#### QQ-график"
      ]
    },
    {
      "cell_type": "code",
      "execution_count": null,
      "metadata": {
        "id": "wSm9Ktxs8kCC"
      },
      "outputs": [],
      "source": [
        "_ = st.probplot(x1, plot=plt)"
      ]
    },
    {
      "cell_type": "code",
      "execution_count": null,
      "metadata": {
        "id": "MNkKX2q28kCD"
      },
      "outputs": [],
      "source": [
        "_ = st.probplot(x2, plot=plt)"
      ]
    },
    {
      "cell_type": "markdown",
      "metadata": {
        "id": "c29-6m118kCD"
      },
      "source": [
        "#### Критерий Стьюдента:"
      ]
    },
    {
      "cell_type": "code",
      "execution_count": null,
      "metadata": {
        "id": "8T8VsGpx8kCD"
      },
      "outputs": [],
      "source": [
        "st.ttest_ind(x1, x2)"
      ]
    },
    {
      "cell_type": "markdown",
      "metadata": {
        "id": "kOBZ6fPq8kCE"
      },
      "source": [
        "#### Критерий Манна-Уитни-Уилкоксона:"
      ]
    },
    {
      "cell_type": "code",
      "execution_count": null,
      "metadata": {
        "id": "kH_eTBLo8kCE"
      },
      "outputs": [],
      "source": [
        "st.mannwhitneyu(x1, x2, alternative= 'two-sided')"
      ]
    },
    {
      "cell_type": "markdown",
      "metadata": {
        "id": "AjBgi35s8kCE"
      },
      "source": [
        "#### Перестановочный критерий:"
      ]
    },
    {
      "cell_type": "code",
      "execution_count": null,
      "metadata": {
        "id": "vrndWh_g8kCF"
      },
      "outputs": [],
      "source": [
        "two_sample(x1, x2,  alternative='two-sided')"
      ]
    },
    {
      "cell_type": "markdown",
      "metadata": {
        "id": "d7qinlwb8kCF"
      },
      "source": [
        "#### Доверительные интервалы для средних значений в выборках с помощью бутстрепа:\n",
        "\n",
        "Ожидаемые ответы ```[246, 330], [241,403]```"
      ]
    },
    {
      "cell_type": "code",
      "execution_count": null,
      "metadata": {
        "id": "LscIbRkq8kCF"
      },
      "outputs": [],
      "source": [
        "bs = IIDBootstrap(x1)\n",
        "print(bs.conf_int(np.mean, 1000, method='bca'))\n",
        "\n",
        "bs = IIDBootstrap(x2)\n",
        "print(bs.conf_int(np.mean, 1000, method='bca'))"
      ]
    },
    {
      "cell_type": "markdown",
      "metadata": {
        "id": "xZgUlsjo8kCG"
      },
      "source": [
        "#### Доверительный интервал для разности двух средних с помощью бутстрепа:\n",
        "\n",
        "Ожидаемые ответы: ```[-52, 115]```"
      ]
    },
    {
      "cell_type": "code",
      "execution_count": null,
      "metadata": {
        "id": "NSl01lRV8kCH"
      },
      "outputs": [],
      "source": [
        "bs = IIDBootstrap(x2-x1)\n",
        "print(bs.conf_int(np.mean, 1000, method='bca'))"
      ]
    },
    {
      "cell_type": "markdown",
      "metadata": {
        "id": "7gNbYmqk8kCH"
      },
      "source": [
        "#### Статистика Колмогорова-Смирнова"
      ]
    },
    {
      "cell_type": "code",
      "execution_count": null,
      "metadata": {
        "id": "H0WeNd6J8kCH"
      },
      "outputs": [],
      "source": [
        "st.ks_2samp(x1, x2)"
      ]
    },
    {
      "cell_type": "markdown",
      "metadata": {
        "id": "jsvAHgVf8kCI"
      },
      "source": [
        "## Алюминий в тополях\n",
        "**Laureysens I., Blust R., De Temmerman L., Lemmens C., Ceulemans R. (2004). Clonal variation in heavy metal accumulation and biomass production in a poplar coppice culture. I. Seasonal variation in leaf, wood and bark concentrations. Environmental Pollution, 131, 485-494.**"
      ]
    },
    {
      "cell_type": "markdown",
      "metadata": {
        "id": "dQaoGIZp8kCI"
      },
      "source": [
        "Для 13 разновидностей тополей, растущих в зоне интенсивного загрязнения, в\n",
        "августе и ноябре измерялась средняя концентрация алюминия в микрограммах на\n",
        "грамм древесины."
      ]
    },
    {
      "cell_type": "code",
      "execution_count": null,
      "metadata": {
        "id": "BbrexSfN8kCJ"
      },
      "outputs": [],
      "source": [
        "al = pd.read_csv('https://raw.githubusercontent.com/Intelligent-Systems-Phystech/psad/master/seminars/sem3/data/poplar.txt', delimiter='\\t')\n",
        "al.head()"
      ]
    },
    {
      "cell_type": "code",
      "execution_count": null,
      "metadata": {
        "id": "dZJF8cNI8kCJ"
      },
      "outputs": [],
      "source": [
        "plt.scatter(al['November'].values, al['August'].values)\n",
        "plt.xlabel('November')\n",
        "plt.ylabel('August')\n",
        "plt.show()"
      ]
    },
    {
      "cell_type": "code",
      "execution_count": null,
      "metadata": {
        "id": "RGJYffNC8kCK"
      },
      "outputs": [],
      "source": [
        "delta = al['August']-al['November']"
      ]
    },
    {
      "cell_type": "markdown",
      "metadata": {
        "id": "pJPN93jR8kCK"
      },
      "source": [
        "#### QQ график"
      ]
    },
    {
      "cell_type": "code",
      "execution_count": null,
      "metadata": {
        "id": "OdAjCxpb8kCK"
      },
      "outputs": [],
      "source": [
        "_ = st.probplot(delta, plot=plt)"
      ]
    },
    {
      "cell_type": "markdown",
      "metadata": {
        "id": "pHQWb5y-8kCK"
      },
      "source": [
        "#### Критерий знаков"
      ]
    },
    {
      "cell_type": "code",
      "execution_count": null,
      "metadata": {
        "id": "TpVY-ZFj8kCL"
      },
      "outputs": [],
      "source": [
        "sign_test(delta)"
      ]
    },
    {
      "cell_type": "markdown",
      "metadata": {
        "id": "QBdUI7P98kCL"
      },
      "source": [
        "#### Критерий знаковых рангов Уилкоксона"
      ]
    },
    {
      "cell_type": "code",
      "execution_count": null,
      "metadata": {
        "id": "9QlG65Ov8kCL"
      },
      "outputs": [],
      "source": [
        "st.wilcoxon(delta)"
      ]
    },
    {
      "cell_type": "markdown",
      "metadata": {
        "id": "zp8KLj3i8kCL"
      },
      "source": [
        "#### Перестановочный критерий"
      ]
    },
    {
      "cell_type": "code",
      "execution_count": null,
      "metadata": {
        "id": "Xx7pX9eN8kCL"
      },
      "outputs": [],
      "source": [
        "one_sample(al['November']-al['August'],  alternative='two-sided')"
      ]
    },
    {
      "cell_type": "markdown",
      "metadata": {
        "id": "SMl0BnVY8kCM"
      },
      "source": [
        "#### Поменяем статистику (вместо ```mean``` поставим ```t```)\n",
        "\n",
        "Ожидаемый ответ: ```0.03```"
      ]
    },
    {
      "cell_type": "code",
      "execution_count": null,
      "metadata": {
        "id": "UtmxXMrP8kCM"
      },
      "outputs": [],
      "source": [
        "# Ваш код"
      ]
    },
    {
      "cell_type": "markdown",
      "metadata": {
        "id": "TSzG6wQo8kCM"
      },
      "source": [
        "#### Доверительный интервал для средней разности с помощью бутстрепа"
      ]
    },
    {
      "cell_type": "code",
      "execution_count": null,
      "metadata": {
        "id": "CbokBTM78kCN"
      },
      "outputs": [],
      "source": [
        "bs = IIDBootstrap(delta)\n",
        "bs.conf_int(np.mean, 1000, method='basic')"
      ]
    },
    {
      "cell_type": "markdown",
      "metadata": {
        "id": "ch0gAVU48kCN"
      },
      "source": [
        "#### Доверительный интервал методом 'bca'"
      ]
    },
    {
      "cell_type": "code",
      "execution_count": null,
      "metadata": {
        "id": "lDVpQz858kCN"
      },
      "outputs": [],
      "source": [
        "bs = IIDBootstrap(delta)\n",
        "bs.conf_int(np.mean, 1000, method='bca')"
      ]
    },
    {
      "cell_type": "markdown",
      "metadata": {
        "id": "3BTWbiNl8kCO"
      },
      "source": [
        "#### Зависимость устойчивости доверительного интервала от количества попыток сэмплирования (проверить для n<20000)"
      ]
    },
    {
      "cell_type": "code",
      "execution_count": null,
      "metadata": {
        "id": "UVo61zKv8kCO"
      },
      "outputs": [],
      "source": [
        "for id, i in enumerate([5,10,50,100,500,1000, 5000, 10000]):\n",
        "    bs = IIDBootstrap(delta)\n",
        "    ci = bs.conf_int(np.mean, i, method='basic')\n",
        "    plt.plot([np.log(i), np.log(i)], ci )"
      ]
    },
    {
      "cell_type": "code",
      "execution_count": null,
      "metadata": {
        "id": "uSgAHNi28kCO"
      },
      "outputs": [],
      "source": [
        "for id, i in enumerate([5,10,50,100,500,1000, 5000, 10000, 20000]):\n",
        "    bs = IIDBootstrap(delta)\n",
        "    ci = bs.conf_int(np.mean, i, method='bca')\n",
        "    plt.plot([np.log(i), np.log(i)], ci)\n",
        "    print(ci)"
      ]
    },
    {
      "cell_type": "markdown",
      "metadata": {
        "id": "5ncJZOis8kCO"
      },
      "source": [
        "#### Зависимость доверительного интервала от уровня доверия"
      ]
    },
    {
      "cell_type": "code",
      "execution_count": null,
      "metadata": {
        "id": "czLgyjGi8kCP"
      },
      "outputs": [],
      "source": [
        "for p in [0.1, 0.2, 0.3,0.5, 0.7, 0.8, 0.9, 0.95, 0.99]:\n",
        "    bs = IIDBootstrap(delta)\n",
        "    ci = bs.conf_int(np.mean, 5000,size=p, method='bca')\n",
        "    plt.plot([p, p], ci )\n",
        "    print (ci)"
      ]
    },
    {
      "cell_type": "markdown",
      "metadata": {
        "id": "uU-OBvC58kCP"
      },
      "source": [
        "## Время ремонта телекоммуникаций"
      ]
    },
    {
      "cell_type": "markdown",
      "metadata": {
        "id": "NeVEZGI88kCP"
      },
      "source": [
        "Verizon is the primary local telephone company (the legal term is Incumbent Local Exchange Carrier, ILEC) for a large area in the eastern United States. As such, it is responsible for providing repair service for the customers of other telephone companies (known as Competing Local Exchange Carriers, CLECs) in this region. Verizon is subject to fines if the repair times (the time it takes to fix a problem) for CLEC customers are substantially worse than those for Verizon’s own customers. This is determined using hypothesis tests, negotiated with the local Public Utilities Commission (PUC)."
      ]
    },
    {
      "cell_type": "markdown",
      "metadata": {
        "id": "cVtAbMuR8kCP"
      },
      "source": [
        "#### Данные"
      ]
    },
    {
      "cell_type": "code",
      "execution_count": null,
      "metadata": {
        "id": "oQko4bDF8kCQ"
      },
      "outputs": [],
      "source": [
        "data = pd.read_csv('https://raw.githubusercontent.com/Intelligent-Systems-Phystech/psad/master/seminars/sem3/data/verizon.txt', delimiter='\\t')\n",
        "data.head()"
      ]
    },
    {
      "cell_type": "markdown",
      "metadata": {
        "id": "0xeSPetw8kCQ"
      },
      "source": [
        "#### Boxplot"
      ]
    },
    {
      "cell_type": "code",
      "execution_count": null,
      "metadata": {
        "id": "X3pZQp1k8kCR"
      },
      "outputs": [],
      "source": [
        "sns.boxplot(data=data,x='Time', y='Group')"
      ]
    },
    {
      "cell_type": "code",
      "execution_count": null,
      "metadata": {
        "id": "FRFXIFGr8kCS"
      },
      "outputs": [],
      "source": [
        "x1 = data.loc[data['Group']=='ILEC']['Time'].values\n",
        "x2 = data.loc[data['Group']=='CLEC']['Time'].values\n",
        "x1.shape, x2.shape"
      ]
    },
    {
      "cell_type": "markdown",
      "metadata": {
        "id": "qFcaKD378kCU"
      },
      "source": [
        "#### Гистограмма"
      ]
    },
    {
      "cell_type": "code",
      "execution_count": null,
      "metadata": {
        "id": "J_Bt2sly8kCV"
      },
      "outputs": [],
      "source": [
        "plt.hist(x1, bins=10, density=True, label=\"ILEC\")\n",
        "plt.hist(x2, bins=10, density=True, label='CLEC')\n",
        "plt.legend(loc=\"best\")\n",
        "plt.show()"
      ]
    },
    {
      "cell_type": "markdown",
      "metadata": {
        "id": "0uySU1jA8kCV"
      },
      "source": [
        "#### QQ-plot"
      ]
    },
    {
      "cell_type": "code",
      "execution_count": null,
      "metadata": {
        "id": "J3cdD7ZT8kCV"
      },
      "outputs": [],
      "source": [
        "st.probplot(x1, plot=plt)\n",
        "plt.title('ILEC')\n",
        "plt.show()"
      ]
    },
    {
      "cell_type": "code",
      "execution_count": null,
      "metadata": {
        "id": "bqdRDmJz8kCW"
      },
      "outputs": [],
      "source": [
        "st.probplot(x2, plot=plt)\n",
        "plt.title('CLEC')\n",
        "plt.show()"
      ]
    },
    {
      "cell_type": "markdown",
      "metadata": {
        "id": "9EC3TeVh8kCW"
      },
      "source": [
        "#### Критерий Мана-Уитни-Уилкоксона"
      ]
    },
    {
      "cell_type": "code",
      "execution_count": null,
      "metadata": {
        "id": "mqFmIAs_8kCW"
      },
      "outputs": [],
      "source": [
        "st.mannwhitneyu(x1, x2, alternative='two-sided')"
      ]
    },
    {
      "cell_type": "markdown",
      "metadata": {
        "id": "LuTDt18n8kCX"
      },
      "source": [
        "#### Перестановочный критерий"
      ]
    },
    {
      "cell_type": "code",
      "execution_count": null,
      "metadata": {
        "id": "Uy0mMIQQ8kCX"
      },
      "outputs": [],
      "source": [
        "two_sample(x1, x2, reps=1000, alternative='two-sided')"
      ]
    },
    {
      "cell_type": "markdown",
      "metadata": {
        "id": "8M9IW5uw8kCX"
      },
      "source": [
        "#### Критерий Колмогора-Смирнова"
      ]
    },
    {
      "cell_type": "code",
      "execution_count": null,
      "metadata": {
        "id": "oQ1SA6NK8kCX"
      },
      "outputs": [],
      "source": [
        "st.ks_2samp(x1,x2)"
      ]
    }
  ],
  "metadata": {
    "celltoolbar": "Slideshow",
    "kernelspec": {
      "display_name": "Python 3",
      "language": "python",
      "name": "python3"
    },
    "language_info": {
      "codemirror_mode": {
        "name": "ipython",
        "version": 3
      },
      "file_extension": ".py",
      "mimetype": "text/x-python",
      "name": "python",
      "nbconvert_exporter": "python",
      "pygments_lexer": "ipython3",
      "version": "3.7.3"
    },
    "colab": {
      "name": "main.ipynb",
      "provenance": []
    }
  },
  "nbformat": 4,
  "nbformat_minor": 0
}