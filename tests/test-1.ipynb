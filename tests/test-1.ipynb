{
  "nbformat": 4,
  "nbformat_minor": 0,
  "metadata": {
    "colab": {
      "name": "test-1.ipynb",
      "provenance": [],
      "collapsed_sections": []
    },
    "kernelspec": {
      "name": "python3",
      "display_name": "Python 3"
    }
  },
  "cells": [
    {
      "cell_type": "code",
      "metadata": {
        "id": "lWZdD56CPA0P"
      },
      "source": [
        "!pip install --quiet -U permutation_test permute arch pandas numpy"
      ],
      "execution_count": null,
      "outputs": []
    },
    {
      "cell_type": "code",
      "metadata": {
        "id": "jJxt3a06OmZS"
      },
      "source": [
        "from IPython.display import display, HTML\n",
        "from zlib import crc32\n",
        "import pandas as pd\n",
        "import numpy as np"
      ],
      "execution_count": null,
      "outputs": []
    },
    {
      "cell_type": "code",
      "metadata": {
        "id": "6XsghOTsIapa"
      },
      "source": [
        "def generate_task(code):\n",
        "    rs = np.random.RandomState(code)\n",
        "    tasks = pd.read_csv(\n",
        "        'https://drive.google.com/uc?id=1A21iabANtgSdH0yPcThXxXroQ1U6OuCH')\n",
        "\n",
        "    type_to_id = dict()\n",
        "    for i in range(len(tasks)):\n",
        "        _type = tasks.loc[i]['code'].split('_')[0]\n",
        "        if _type not in type_to_id:\n",
        "            type_to_id[_type] = []\n",
        "        type_to_id[_type].append(i)\n",
        "\n",
        "    list_of_task_id = [rs.choice(type_to_id[_type]) for _type in type_to_id]\n",
        "\n",
        "    return [{'task': tasks.loc[_loc]['task'],\n",
        "             'data': tasks.loc[_loc]['data']} \n",
        "            for _loc in list_of_task_id]"
      ],
      "execution_count": null,
      "outputs": []
    },
    {
      "cell_type": "code",
      "metadata": {
        "id": "2aDBCbTmN5pw"
      },
      "source": [
        "task = dict()\n",
        "task['mail'] = input(prompt='Enter your mail: ')\n",
        "task['id'] = crc32(task['mail'].encode('utf-8'))\n",
        "task['tasks'] = generate_task(task['id'])\n",
        "\n",
        "task"
      ],
      "execution_count": null,
      "outputs": []
    },
    {
      "cell_type": "markdown",
      "metadata": {
        "id": "hMQ6qReVK7oL"
      },
      "source": [
        "# Задача №1"
      ]
    },
    {
      "cell_type": "code",
      "metadata": {
        "id": "kmyZ3-KeQ1hi"
      },
      "source": [
        "task_numder = 1\n",
        "if task['tasks'][task_numder-1]['data'] != '-':\n",
        "    dataset = pd.read_csv(\n",
        "        'https://drive.google.com/uc?id={}'.format(\n",
        "            task['tasks'][task_numder-1]['data']), header=None)\n",
        "    print('dataset loaded')\n",
        "else:\n",
        "    dataset = pd.DataFrame(['not', 'required'])\n",
        "    print('dataset is not required')\n",
        "display(HTML('<h3>'+task['tasks'][task_numder-1]['task']+'</h3>'))"
      ],
      "execution_count": null,
      "outputs": []
    },
    {
      "cell_type": "markdown",
      "metadata": {
        "id": "cn8TsVjtM0fZ"
      },
      "source": [
        "## Решение задачи"
      ]
    },
    {
      "cell_type": "code",
      "metadata": {
        "id": "Z_woLhFhz2jf"
      },
      "source": [
        ""
      ],
      "execution_count": null,
      "outputs": []
    },
    {
      "cell_type": "markdown",
      "metadata": {
        "id": "Z6i61RXhNauQ"
      },
      "source": [
        "# Задача №2"
      ]
    },
    {
      "cell_type": "code",
      "metadata": {
        "id": "Md49YM1bNauR"
      },
      "source": [
        "task_numder = 2\n",
        "if task['tasks'][task_numder-1]['data'] != '-':\n",
        "    dataset = pd.read_csv(\n",
        "        'https://drive.google.com/uc?id={}'.format(\n",
        "            task['tasks'][task_numder-1]['data']), header=None)\n",
        "    print('dataset loaded')\n",
        "else:\n",
        "    dataset = pd.DataFrame(['not', 'required'])\n",
        "    print('dataset is not required')\n",
        "display(HTML('<h3>'+task['tasks'][task_numder-1]['task']+'</h3>'))"
      ],
      "execution_count": null,
      "outputs": []
    },
    {
      "cell_type": "markdown",
      "metadata": {
        "id": "zJJAb7GFNauS"
      },
      "source": [
        "## Решение задачи"
      ]
    },
    {
      "cell_type": "code",
      "metadata": {
        "id": "Bi4SY7SwOCyk"
      },
      "source": [
        ""
      ],
      "execution_count": null,
      "outputs": []
    },
    {
      "cell_type": "markdown",
      "metadata": {
        "id": "hHzkitbkODuA"
      },
      "source": [
        "# Задача №3"
      ]
    },
    {
      "cell_type": "code",
      "metadata": {
        "id": "2_RAPl2EODuB"
      },
      "source": [
        "task_numder = 3\n",
        "if task['tasks'][task_numder-1]['data'] != '-':\n",
        "    dataset = pd.read_csv(\n",
        "        'https://drive.google.com/uc?id={}'.format(\n",
        "            task['tasks'][task_numder-1]['data']), header=None)\n",
        "    print('dataset loaded')\n",
        "else:\n",
        "    dataset = pd.DataFrame(['not', 'required'])\n",
        "    print('dataset is not required')\n",
        "display(HTML('<h3>'+task['tasks'][task_numder-1]['task']+'</h3>'))"
      ],
      "execution_count": null,
      "outputs": []
    },
    {
      "cell_type": "markdown",
      "metadata": {
        "id": "hAx4oWKFODuB"
      },
      "source": [
        "## Решение задачи"
      ]
    },
    {
      "cell_type": "code",
      "metadata": {
        "id": "O0s-3W_bOF1H"
      },
      "source": [
        ""
      ],
      "execution_count": null,
      "outputs": []
    }
  ]
}