{
  "nbformat": 4,
  "nbformat_minor": 0,
  "metadata": {
    "colab": {
      "name": "test-2.ipynb",
      "provenance": [],
      "collapsed_sections": []
    },
    "kernelspec": {
      "name": "python3",
      "display_name": "Python 3"
    }
  },
  "cells": [
    {
      "cell_type": "code",
      "metadata": {
        "id": "jJxt3a06OmZS"
      },
      "source": [
        "from IPython.display import display, HTML\n",
        "from zlib import crc32\n",
        "import pandas as pd\n",
        "import numpy as np"
      ],
      "execution_count": null,
      "outputs": []
    },
    {
      "cell_type": "code",
      "metadata": {
        "id": "6XsghOTsIapa"
      },
      "source": [
        "import re\n",
        "EMAIL_REGEX = re.compile(r\"[^@]+@phystech.edu\")\n",
        "\n",
        "def generate_task(code, max_tasks = 3):\n",
        "    rs = np.random.RandomState(code)\n",
        "    tasks = pd.read_csv(\n",
        "        'https://drive.google.com/uc?id=1g-AK3C74K-myj8zKbxk69zXO00roTKh-')\n",
        "\n",
        "    type_to_id = dict()\n",
        "    for i in range(len(tasks)):\n",
        "        _type = tasks.loc[i]['code'].split('_')[0]\n",
        "        if _type not in type_to_id:\n",
        "            type_to_id[_type] = []\n",
        "        type_to_id[_type].append(i)\n",
        "\n",
        "    list_of_task_id = [rs.choice(type_to_id[_type]) for _type in type_to_id]\n",
        "\n",
        "    if len(list_of_task_id) > max_tasks:\n",
        "        list_of_task_id = rs.choice(list_of_task_id, max_tasks, replace=False)\n",
        "\n",
        "    return [{'task': tasks.loc[_loc]['task'],\n",
        "             'task_id': tasks.loc[_loc]['code'],\n",
        "             'data': tasks.loc[_loc]['data']} \n",
        "            for _loc in list_of_task_id]"
      ],
      "execution_count": null,
      "outputs": []
    },
    {
      "cell_type": "code",
      "metadata": {
        "id": "2aDBCbTmN5pw"
      },
      "source": [
        "task = dict()\n",
        "task['mail'] = input(prompt='Enter your mail: ')\n",
        "assert EMAIL_REGEX.match(task['mail']), 'Not a mail in the phystech.edu domain'\n",
        "task['id'] = crc32(task['mail'].encode('utf-8'))\n",
        "task['tasks'] = generate_task(task['id'])\n",
        "\n",
        "task"
      ],
      "execution_count": null,
      "outputs": []
    },
    {
      "cell_type": "markdown",
      "metadata": {
        "id": "hMQ6qReVK7oL"
      },
      "source": [
        "# Задача №1"
      ]
    },
    {
      "cell_type": "code",
      "metadata": {
        "id": "kmyZ3-KeQ1hi"
      },
      "source": [
        "task_numder = 1\n",
        "if task['tasks'][task_numder-1]['data'] != '-':\n",
        "    dataset = pd.read_csv(\n",
        "        'https://drive.google.com/uc?id={}'.format(\n",
        "            task['tasks'][task_numder-1]['data']), header=0)\n",
        "    print('dataset loaded')\n",
        "else:\n",
        "    dataset = pd.DataFrame(['not', 'required'])\n",
        "    print('dataset is not required')\n",
        "display(HTML('<h3>'+task['tasks'][task_numder-1]['task']+'</h3>'))\n",
        "display(dataset.sample(2))"
      ],
      "execution_count": null,
      "outputs": []
    },
    {
      "cell_type": "markdown",
      "metadata": {
        "id": "cn8TsVjtM0fZ"
      },
      "source": [
        "## Решение задачи"
      ]
    },
    {
      "cell_type": "code",
      "metadata": {
        "id": "zoDzOS5WMYn2"
      },
      "source": [
        ""
      ],
      "execution_count": null,
      "outputs": []
    },
    {
      "cell_type": "markdown",
      "metadata": {
        "id": "Z6i61RXhNauQ"
      },
      "source": [
        "# Задача №2"
      ]
    },
    {
      "cell_type": "code",
      "metadata": {
        "id": "Md49YM1bNauR"
      },
      "source": [
        "task_numder = 2\n",
        "if task['tasks'][task_numder-1]['data'] != '-':\n",
        "    dataset = pd.read_csv(\n",
        "        'https://drive.google.com/uc?id={}'.format(\n",
        "            task['tasks'][task_numder-1]['data']), header=0)\n",
        "    print('dataset loaded')\n",
        "else:\n",
        "    dataset = pd.DataFrame(['not', 'required'])\n",
        "    print('dataset is not required')\n",
        "display(HTML('<h3>'+task['tasks'][task_numder-1]['task']+'</h3>'))\n",
        "display(dataset.sample(2))"
      ],
      "execution_count": null,
      "outputs": []
    },
    {
      "cell_type": "markdown",
      "metadata": {
        "id": "zJJAb7GFNauS"
      },
      "source": [
        "## Решение задачи"
      ]
    },
    {
      "cell_type": "code",
      "metadata": {
        "id": "m2J6zv0yXUb5"
      },
      "source": [
        ""
      ],
      "execution_count": null,
      "outputs": []
    },
    {
      "cell_type": "markdown",
      "metadata": {
        "id": "hHzkitbkODuA"
      },
      "source": [
        "# Задача №3"
      ]
    },
    {
      "cell_type": "code",
      "metadata": {
        "id": "2_RAPl2EODuB"
      },
      "source": [
        "task_numder = 3\n",
        "if task['tasks'][task_numder-1]['data'] != '-':\n",
        "    dataset = pd.read_csv(\n",
        "        'https://drive.google.com/uc?id={}'.format(\n",
        "            task['tasks'][task_numder-1]['data']), header=0)\n",
        "    print('dataset loaded')\n",
        "else:\n",
        "    dataset = pd.DataFrame(['not', 'required'])\n",
        "    print('dataset is not required')\n",
        "display(HTML('<h3>'+task['tasks'][task_numder-1]['task']+'</h3>'))\n",
        "display(dataset.sample(2))"
      ],
      "execution_count": null,
      "outputs": []
    },
    {
      "cell_type": "markdown",
      "metadata": {
        "id": "hAx4oWKFODuB"
      },
      "source": [
        "## Решение задачи"
      ]
    },
    {
      "cell_type": "code",
      "metadata": {
        "id": "ANkj0TRgXZZu"
      },
      "source": [
        ""
      ],
      "execution_count": null,
      "outputs": []
    }
  ]
}